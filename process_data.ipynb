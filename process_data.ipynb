{
 "cells": [
  {
   "cell_type": "code",
   "execution_count": 1,
   "metadata": {},
   "outputs": [
    {
     "name": "stderr",
     "output_type": "stream",
     "text": [
      "/home/chenzhong/miniconda3/envs/anzhe/lib/python3.10/site-packages/scipy/__init__.py:146: UserWarning: A NumPy version >=1.17.3 and <1.25.0 is required for this version of SciPy (detected version 1.26.4\n",
      "  warnings.warn(f\"A NumPy version >={np_minversion} and <{np_maxversion}\"\n"
     ]
    }
   ],
   "source": [
    "import os\n",
    "import sys\n",
    "import random\n",
    "import warnings\n",
    "\n",
    "import numpy as np\n",
    "import pandas as pd\n",
    "\n",
    "import matplotlib.pyplot as plt\n",
    "\n",
    "from tqdm import tqdm\n",
    "from itertools import chain\n",
    "from skimage.io import imread, imshow, imread_collection, concatenate_images\n",
    "from skimage.transform import resize\n",
    "from skimage.morphology import label\n",
    "\n",
    "import torch\n",
    "import torch.nn as nn\n",
    "import torch.optim as optim\n",
    "import torch.utils.data as data\n",
    "import torchvision.transforms as transforms\n",
    "import torch.nn.functional as F\n",
    "\n",
    "'''\n",
    "from google.colab import drive\n",
    "drive.mount('/content/drive')\n",
    "'''\n",
    "\n",
    "# Set some parameters\n",
    "BATCH_SIZE = 5 # the higher the better\n",
    "IMG_WIDTH = 512 # for faster computing on kaggle\n",
    "IMG_HEIGHT = 512 # for faster computing on kaggle\n",
    "IMG_CHANNELS = 3\n",
    "\n",
    "#TRAIN_PATH = '/content/drive/My Drive/UNet/Cell'\n",
    "#TEST_PATH = '/content/drive/My Drive/UNet/Cell'\n",
    "\n",
    "TRAIN_PATH = './new_data/15'\n",
    "TEST_PATH = './new_data/15'\n",
    "CH1_PATH = './ch1_png'\n",
    "CH2_PATH = './ch2_png'\n",
    "\n",
    "warnings.filterwarnings('ignore', category=UserWarning, module='skimage')\n",
    "seed = 42"
   ]
  },
  {
   "cell_type": "code",
   "execution_count": 2,
   "metadata": {},
   "outputs": [],
   "source": [
    "# Get train and test IDs\n",
    "train_ids = next(os.walk(TRAIN_PATH))[1]\n",
    "#test_ids = next(os.walk(TEST_PATH))[1]\n",
    "num_test_items = int(0.1 * len(train_ids))\n",
    "\n",
    "# Slice the train_ids list to get the test IDs\n",
    "test_ids = train_ids[-num_test_items:]\n",
    "np.random.seed(10)"
   ]
  },
  {
   "cell_type": "code",
   "execution_count": 3,
   "metadata": {},
   "outputs": [
    {
     "name": "stdout",
     "output_type": "stream",
     "text": [
      "Getting and resizing train images and masks ... \n"
     ]
    },
    {
     "name": "stderr",
     "output_type": "stream",
     "text": [
      "100%|██████████| 750/750 [07:23<00:00,  1.69it/s]\n"
     ]
    }
   ],
   "source": [
    "\n",
    "import re\n",
    "\n",
    "#print(len(train_ids))\n",
    "X_train = np.zeros((len(train_ids), IMG_HEIGHT, IMG_WIDTH, IMG_CHANNELS), dtype=np.float64)\n",
    "Y_train = np.zeros((len(train_ids), IMG_HEIGHT, IMG_WIDTH, 1), dtype=np.uint8)\n",
    "Y_train_1 = np.zeros((len(train_ids), IMG_HEIGHT, IMG_WIDTH, 1), dtype=np.uint8)\n",
    "Y_train_2 = np.zeros((len(train_ids), IMG_HEIGHT, IMG_WIDTH, 1), dtype=np.uint8)\n",
    "\n",
    "print('Getting and resizing train images and masks ... ')\n",
    "sys.stdout.flush()\n",
    "for n, id_ in tqdm(enumerate(train_ids), total=len(train_ids)):\n",
    "    \n",
    "    path = os.path.join(TRAIN_PATH, id_)\n",
    "    # pattern = r'z\\d+'\n",
    "    # matches = re.finditer(pattern, id_)\n",
    "    # for match in matches:\n",
    "    #     start = match.start()\n",
    "    #     end = match.end()\n",
    "    #     id_ = id_[:end] + '_mSLIM' + id_[end:]\n",
    "    img_path = os.path.join(path, 'images', id_ +'_mSLIM'+ '.png')\n",
    "    if path != \"./Cell/Cell/f0_t0_i0_ch0_c15_r44_z0\":\n",
    "        img = imread(img_path)\n",
    "        img = resize(img, (IMG_HEIGHT, IMG_WIDTH), mode='constant', preserve_range=True)\n",
    "        img = np.expand_dims(img, axis=-1).astype(np.float64)\n",
    "        X_train[n] = img.astype(np.float64)\n",
    "\n",
    "        # mask = np.zeros((IMG_HEIGHT, IMG_WIDTH, 1), dtype=bool)\n",
    "        # # mask2 = None\n",
    "        for mask_file in next(os.walk(path + '/masks/'))[2]:\n",
    "            mask = imread(os.path.join(path, 'masks', mask_file))\n",
    "            mask = resize(mask, (IMG_HEIGHT, IMG_WIDTH), mode='constant', preserve_range=True)\n",
    "            if mask_file.endswith('Prot.png'):\n",
    "                Y_train_2[n] = np.where(mask[:, :, np.newaxis] > 0, 2, 0)\n",
    "            else:\n",
    "                Y_train_1[n] = np.where(mask[:, :, np.newaxis] > 0, 1, 0)\n",
    "        # # mask1_rgb = mask1_color * mask1[:, :, np.newaxis]\n",
    "        # # mask2_rgb = mask2_color * mask2[:, :, np.newaxis]\n",
    "        # # background_rgb = background_color * (1 - (mask1 + mask2)[:, :, np.newaxis])\n",
    "            # mask_path = next(os.walk(path + '/masks/'))[2] \n",
    "            # #print(mask_path)\n",
    "            # mask_count = min(2, len(mask_path))\n",
    "            # for i in range(mask_count):\n",
    "            #     mask_file = mask_path[i]  \n",
    "            #     mask_color = [0, 0, 0]  \n",
    "            #     if mask_file.startswith('cell'):\n",
    "            #         mask_color = [255, 255, 0]  \n",
    "            #     elif mask_file.startswith('dead'):\n",
    "            #         mask_color = [128, 0, 128] \n",
    "            #     else:\n",
    "            #         mask_color = [255, 255, 0] \n",
    "            #     mask = imread(os.path.join(path, 'masks', mask_file))\n",
    "            #     mask = resize(mask, (IMG_HEIGHT, IMG_WIDTH), mode='constant', preserve_range=True)\n",
    "            #     mask_rgb = mask_color * (mask[:, :, np.newaxis] > 0)  \n",
    "            #     Y_train[n, :, :, :] += mask_rgb.astype(np.uint8)\n",
    "        Y_train[n] = np.maximum(Y_train_1[n], Y_train_2[n])\n",
    "        \n"
   ]
  },
  {
   "cell_type": "code",
   "execution_count": 4,
   "metadata": {},
   "outputs": [
    {
     "name": "stdout",
     "output_type": "stream",
     "text": [
      "(750, 512, 512, 1)\n",
      "260712\n",
      "1196\n",
      "236\n"
     ]
    }
   ],
   "source": [
    "print(Y_train.shape)\n",
    "zero = 0\n",
    "one = 0\n",
    "two = 0\n",
    "for array in Y_train[5]:\n",
    "    for i in array:\n",
    "        if i == 0:\n",
    "            zero = zero + 1\n",
    "        elif i == 1:\n",
    "            one = one + 1\n",
    "        else:\n",
    "            two = two + 1\n",
    "print(zero)\n",
    "print(one)\n",
    "print(two)"
   ]
  },
  {
   "cell_type": "code",
   "execution_count": 13,
   "metadata": {},
   "outputs": [
    {
     "name": "stdout",
     "output_type": "stream",
     "text": [
      "Processing ch1 labels and updating Y_train ...\n"
     ]
    },
    {
     "name": "stderr",
     "output_type": "stream",
     "text": [
      "100%|██████████| 1119/1119 [10:01<00:00,  1.86it/s]"
     ]
    },
    {
     "name": "stdout",
     "output_type": "stream",
     "text": [
      "Done!\n"
     ]
    },
    {
     "name": "stderr",
     "output_type": "stream",
     "text": [
      "\n"
     ]
    }
   ],
   "source": [
    "print('Processing ch1 labels and updating Y_train ...')\n",
    "white_threshold = 255  \n",
    "for n, id_ in tqdm(enumerate(train_ids), total=len(train_ids)):\n",
    "    ch1_file = id_ + '_mFL#1.png'\n",
    "    ch1_path = os.path.join(CH1_PATH, ch1_file)\n",
    "    ch1_path = ch1_path.replace('ch0','ch1')\n",
    "    #print(ch2_path)\n",
    "    if os.path.exists(ch1_path):\n",
    "        ch1_image = imread(ch1_path)\n",
    "        ch1_image_resized = resize(ch1_image, (IMG_HEIGHT, IMG_WIDTH), mode='constant', preserve_range=True)\n",
    "        \n",
    "        ch1_mask = np.all(ch1_image_resized == white_threshold, axis=-1).astype(np.uint8) * 1\n",
    "        \n",
    "        ch1_mask = np.expand_dims(ch1_mask, axis=-1)\n",
    "\n",
    "        Y_train[n] = np.where((ch1_mask == 1) & (Y_train[n] > 0), 1, Y_train[n])\n",
    "        \n",
    "print('Done!')"
   ]
  },
  {
   "cell_type": "code",
   "execution_count": 14,
   "metadata": {},
   "outputs": [
    {
     "name": "stdout",
     "output_type": "stream",
     "text": [
      "(1119, 512, 512, 1)\n"
     ]
    },
    {
     "name": "stdout",
     "output_type": "stream",
     "text": [
      "258335\n",
      "1824\n",
      "1985\n"
     ]
    }
   ],
   "source": [
    "print(Y_train.shape)\n",
    "zero = 0\n",
    "one = 0\n",
    "two = 0\n",
    "for array in Y_train[5]:\n",
    "    for i in array:\n",
    "        if i == 0:\n",
    "            zero = zero + 1\n",
    "        elif i == 1:\n",
    "            one = one + 1\n",
    "        else:\n",
    "            two = two + 1\n",
    "print(zero)\n",
    "print(one)\n",
    "print(two)"
   ]
  },
  {
   "cell_type": "code",
   "execution_count": 15,
   "metadata": {},
   "outputs": [
    {
     "name": "stdout",
     "output_type": "stream",
     "text": [
      "Processing ch2 labels and updating Y_train ...\n"
     ]
    },
    {
     "name": "stderr",
     "output_type": "stream",
     "text": [
      "100%|██████████| 1119/1119 [09:49<00:00,  1.90it/s]"
     ]
    },
    {
     "name": "stdout",
     "output_type": "stream",
     "text": [
      "Done!\n"
     ]
    },
    {
     "name": "stderr",
     "output_type": "stream",
     "text": [
      "\n"
     ]
    }
   ],
   "source": [
    "print('Processing ch2 labels and updating Y_train ...')\n",
    "white_threshold = 255  \n",
    "for n, id_ in tqdm(enumerate(train_ids), total=len(train_ids)):\n",
    "    ch2_file = id_ + '_mFL#2.png'\n",
    "    ch2_path = os.path.join(CH2_PATH, ch2_file)\n",
    "    ch2_path = ch2_path.replace('ch0','ch2')\n",
    "    #print(ch2_path)\n",
    "    if os.path.exists(ch2_path):\n",
    "        ch2_image = imread(ch2_path)\n",
    "        ch2_image_resized = resize(ch2_image, (IMG_HEIGHT, IMG_WIDTH), mode='constant', preserve_range=True)\n",
    "        \n",
    "        ch2_mask = np.all(ch2_image_resized == white_threshold, axis=-1).astype(np.uint8) * 2\n",
    "        \n",
    "        ch2_mask = np.expand_dims(ch2_mask, axis=-1)\n",
    "\n",
    "        Y_train[n] = np.where((ch2_mask == 2) & (Y_train[n] > 0), 2, Y_train[n])\n",
    "        \n",
    "print('Done!')"
   ]
  },
  {
   "cell_type": "code",
   "execution_count": 16,
   "metadata": {},
   "outputs": [
    {
     "name": "stdout",
     "output_type": "stream",
     "text": [
      "(1119, 512, 512, 1)\n",
      "258335\n",
      "1521\n",
      "2288\n"
     ]
    }
   ],
   "source": [
    "print(Y_train.shape)\n",
    "zero = 0\n",
    "one = 0\n",
    "two = 0\n",
    "for array in Y_train[5]:\n",
    "    for i in array:\n",
    "        if i == 0:\n",
    "            zero = zero + 1\n",
    "        elif i == 1:\n",
    "            one = one + 1\n",
    "        else:\n",
    "            two = two + 1\n",
    "print(zero)\n",
    "print(one)\n",
    "print(two)"
   ]
  },
  {
   "cell_type": "code",
   "execution_count": 5,
   "metadata": {},
   "outputs": [],
   "source": [
    "np.save('X.npy',X_train)\n",
    "np.save('Y.npy',Y_train)"
   ]
  }
 ],
 "metadata": {
  "kernelspec": {
   "display_name": "Python 3 (ipykernel)",
   "language": "python",
   "name": "python3"
  },
  "language_info": {
   "codemirror_mode": {
    "name": "ipython",
    "version": 3
   },
   "file_extension": ".py",
   "mimetype": "text/x-python",
   "name": "python",
   "nbconvert_exporter": "python",
   "pygments_lexer": "ipython3",
   "version": "3.10.13"
  }
 },
 "nbformat": 4,
 "nbformat_minor": 4
}
