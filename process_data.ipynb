{
 "cells": [
  {
   "cell_type": "code",
   "execution_count": 1,
   "metadata": {},
   "outputs": [
    {
     "name": "stderr",
     "output_type": "stream",
     "text": [
      "/home/chenzhong/miniconda3/envs/resnet_anzhe/lib/python3.9/site-packages/tqdm/auto.py:21: TqdmWarning: IProgress not found. Please update jupyter and ipywidgets. See https://ipywidgets.readthedocs.io/en/stable/user_install.html\n",
      "  from .autonotebook import tqdm as notebook_tqdm\n"
     ]
    }
   ],
   "source": [
    "import os\n",
    "import sys\n",
    "import random\n",
    "import warnings\n",
    "\n",
    "import numpy as np\n",
    "import pandas as pd\n",
    "\n",
    "import matplotlib.pyplot as plt\n",
    "\n",
    "from tqdm import tqdm\n",
    "from itertools import chain\n",
    "from skimage.io import imread, imshow, imread_collection, concatenate_images\n",
    "from skimage.transform import resize\n",
    "from skimage.morphology import label\n",
    "\n",
    "import torch\n",
    "import torch.nn as nn\n",
    "import torch.optim as optim\n",
    "import torch.utils.data as data\n",
    "import torchvision.transforms as transforms\n",
    "import torch.nn.functional as F\n",
    "\n",
    "'''\n",
    "from google.colab import drive\n",
    "drive.mount('/content/drive')\n",
    "'''\n",
    "\n",
    "# Set some parameters\n",
    "BATCH_SIZE = 100 # the higher the better\n",
    "IMG_WIDTH = 128 # for faster computing on kaggle\n",
    "IMG_HEIGHT = 128 # for faster computing on kaggle\n",
    "IMG_CHANNELS = 3\n",
    "\n",
    "#TRAIN_PATH = '/content/drive/My Drive/UNet/Cell'\n",
    "#TEST_PATH = '/content/drive/My Drive/UNet/Cell'\n",
    "\n",
    "TRAIN_PATH = './Cell'\n",
    "TEST_PATH = './Cell'\n",
    "\n",
    "warnings.filterwarnings('ignore', category=UserWarning, module='skimage')\n",
    "seed = 42"
   ]
  },
  {
   "cell_type": "code",
   "execution_count": 2,
   "metadata": {},
   "outputs": [],
   "source": [
    "# Get train and test IDs\n",
    "train_ids = next(os.walk(TRAIN_PATH))[1]\n",
    "#test_ids = next(os.walk(TEST_PATH))[1]\n",
    "num_test_items = int(0.1 * len(train_ids))\n",
    "\n",
    "# Slice the train_ids list to get the test IDs\n",
    "test_ids = train_ids[-num_test_items:]\n",
    "np.random.seed(10)"
   ]
  },
  {
   "cell_type": "code",
   "execution_count": 3,
   "metadata": {},
   "outputs": [
    {
     "name": "stdout",
     "output_type": "stream",
     "text": [
      "Getting and resizing train images and masks ... \n"
     ]
    },
    {
     "name": "stderr",
     "output_type": "stream",
     "text": [
      "100%|██████████| 808/808 [09:09<00:00,  1.47it/s]"
     ]
    },
    {
     "name": "stdout",
     "output_type": "stream",
     "text": [
      "Done!\n"
     ]
    },
    {
     "name": "stderr",
     "output_type": "stream",
     "text": [
      "\n"
     ]
    }
   ],
   "source": [
    "\n",
    "import re\n",
    "\n",
    "#print(len(train_ids))\n",
    "X_train = np.zeros((len(train_ids), IMG_HEIGHT, IMG_WIDTH, IMG_CHANNELS), dtype=np.float64)\n",
    "Y_train = np.zeros((len(train_ids), IMG_HEIGHT, IMG_WIDTH, 1), dtype=bool)\n",
    "\n",
    "print('Getting and resizing train images and masks ... ')\n",
    "sys.stdout.flush()\n",
    "for n, id_ in tqdm(enumerate(train_ids), total=len(train_ids)):\n",
    "    \n",
    "    path = os.path.join(TRAIN_PATH, id_)\n",
    "    # pattern = r'z\\d+'\n",
    "    # matches = re.finditer(pattern, id_)\n",
    "    # for match in matches:\n",
    "    #     start = match.start()\n",
    "    #     end = match.end()\n",
    "    #     id_ = id_[:end] + '_mSLIM' + id_[end:]\n",
    "    img = imread(os.path.join(path, 'images', id_ +'_mSLIM'+ '.png'))\n",
    "    img = resize(img, (IMG_HEIGHT, IMG_WIDTH), mode='constant', preserve_range=True)\n",
    "    img = np.expand_dims(img, axis=-1).astype(np.float64)\n",
    "    X_train[n] = img.astype(np.float64)\n",
    "\n",
    "    # if n == 0:\n",
    "    #     #print(img.dtype)\n",
    "    #     plt.figure(figsize=(10, 5))\n",
    "    #     plt.subplot(1, 2, 1)\n",
    "    #     plt.imshow(img,cmap='gray')\n",
    "    #     plt.title(\"Images\")\n",
    "    #     plt.axis('off')\n",
    "        \n",
    "    #     plt.figure(figsize=(10, 5))\n",
    "    #     plt.subplot(1, 2, 2)\n",
    "    #     plt.imshow(X_train[n,:,:,0],cmap='gray')\n",
    "    #X_train[n] = img\n",
    "    #print(img.shape)\n",
    "    mask = np.zeros((IMG_HEIGHT, IMG_WIDTH, 1), dtype=bool)\n",
    "    # mask2 = None\n",
    "    for  mask_file in next(os.walk(path + '/masks/'))[2]:\n",
    "        mask = imread(os.path.join(path, 'masks', mask_file))\n",
    "        mask = resize(mask, (IMG_HEIGHT, IMG_WIDTH), mode='constant', preserve_range=True)\n",
    "    # mask1_rgb = mask1_color * mask1[:, :, np.newaxis]\n",
    "    # mask2_rgb = mask2_color * mask2[:, :, np.newaxis]\n",
    "    # background_rgb = background_color * (1 - (mask1 + mask2)[:, :, np.newaxis])\n",
    "\n",
    "    Y_train[n] = np.expand_dims(mask,axis=-1)\n",
    "print('Done!')"
   ]
  },
  {
   "cell_type": "code",
   "execution_count": 4,
   "metadata": {},
   "outputs": [],
   "source": [
    "np.save('X.npy',X_train)\n",
    "np.save('Y.npy',Y_train)"
   ]
  }
 ],
 "metadata": {
  "kernelspec": {
   "display_name": "resnet_anzhe",
   "language": "python",
   "name": "python3"
  },
  "language_info": {
   "codemirror_mode": {
    "name": "ipython",
    "version": 3
   },
   "file_extension": ".py",
   "mimetype": "text/x-python",
   "name": "python",
   "nbconvert_exporter": "python",
   "pygments_lexer": "ipython3",
   "version": "3.9.18"
  }
 },
 "nbformat": 4,
 "nbformat_minor": 2
}
