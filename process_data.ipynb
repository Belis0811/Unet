{
 "cells": [
  {
   "cell_type": "code",
   "execution_count": 50,
   "metadata": {},
   "outputs": [],
   "source": [
    "import os\n",
    "import sys\n",
    "import random\n",
    "import warnings\n",
    "\n",
    "import numpy as np\n",
    "import pandas as pd\n",
    "\n",
    "import matplotlib.pyplot as plt\n",
    "\n",
    "from tqdm import tqdm\n",
    "from itertools import chain\n",
    "from skimage.io import imread, imshow, imread_collection, concatenate_images\n",
    "from skimage.transform import resize\n",
    "from skimage.morphology import label\n",
    "\n",
    "import torch\n",
    "import torch.nn as nn\n",
    "import torch.optim as optim\n",
    "import torch.utils.data as data\n",
    "import torchvision.transforms as transforms\n",
    "import torch.nn.functional as F\n",
    "\n",
    "'''\n",
    "from google.colab import drive\n",
    "drive.mount('/content/drive')\n",
    "'''\n",
    "\n",
    "# Set some parameters\n",
    "BATCH_SIZE = 2 # the higher the better\n",
    "IMG_WIDTH = 1024 # for faster computing on kaggle\n",
    "IMG_HEIGHT = 1024 # for faster computing on kaggle\n",
    "IMG_CHANNELS = 3\n",
    "\n",
    "#TRAIN_PATH = '/content/drive/My Drive/UNet/Cell'\n",
    "#TEST_PATH = '/content/drive/My Drive/UNet/Cell'\n",
    "\n",
    "TRAIN_PATH = './Cell/'\n",
    "TEST_PATH = './Cell/'\n",
    "\n",
    "warnings.filterwarnings('ignore', category=UserWarning, module='skimage')\n",
    "seed = 42"
   ]
  },
  {
   "cell_type": "code",
   "execution_count": 51,
   "metadata": {},
   "outputs": [],
   "source": [
    "# Get train and test IDs\n",
    "train_ids = next(os.walk(TRAIN_PATH))[1]\n",
    "#test_ids = next(os.walk(TEST_PATH))[1]\n",
    "num_test_items = int(0.1 * len(train_ids))\n",
    "\n",
    "# Slice the train_ids list to get the test IDs\n",
    "test_ids = train_ids[-num_test_items:]\n",
    "np.random.seed(10)"
   ]
  },
  {
   "cell_type": "code",
   "execution_count": 52,
   "metadata": {},
   "outputs": [
    {
     "name": "stdout",
     "output_type": "stream",
     "text": [
      "Getting and resizing train images and masks ... \n"
     ]
    },
    {
     "name": "stderr",
     "output_type": "stream",
     "text": [
      "  0%|          | 0/1119 [00:00<?, ?it/s]"
     ]
    },
    {
     "name": "stderr",
     "output_type": "stream",
     "text": [
      "  2%|▏         | 22/1119 [00:10<08:34,  2.13it/s]"
     ]
    }
   ],
   "source": [
    "\n",
    "import re\n",
    "\n",
    "#print(len(train_ids))\n",
    "X_train = np.zeros((len(train_ids), IMG_HEIGHT, IMG_WIDTH, IMG_CHANNELS), dtype=np.float64)\n",
    "Y_train = np.zeros((len(train_ids), IMG_HEIGHT, IMG_WIDTH, 2), dtype=bool)\n",
    "Y_train_1 = np.zeros((len(train_ids), IMG_HEIGHT, IMG_WIDTH, 1), dtype=bool)\n",
    "Y_train_2 = np.zeros((len(train_ids), IMG_HEIGHT, IMG_WIDTH, 1), dtype=bool)\n",
    "\n",
    "print('Getting and resizing train images and masks ... ')\n",
    "sys.stdout.flush()\n",
    "for n, id_ in tqdm(enumerate(train_ids), total=len(train_ids)):\n",
    "    \n",
    "    path = os.path.join(TRAIN_PATH, id_)\n",
    "    # pattern = r'z\\d+'\n",
    "    # matches = re.finditer(pattern, id_)\n",
    "    # for match in matches:\n",
    "    #     start = match.start()\n",
    "    #     end = match.end()\n",
    "    #     id_ = id_[:end] + '_mSLIM' + id_[end:]\n",
    "    img_path = os.path.join(path, 'images', id_ +'_mSLIM'+ '.png')\n",
    "    if path != \"./Cell/f0_t0_i0_ch0_c15_r44_z0\":\n",
    "        img = imread(img_path)\n",
    "        img = resize(img, (IMG_HEIGHT, IMG_WIDTH), mode='constant', preserve_range=True)\n",
    "        img = np.expand_dims(img, axis=-1).astype(np.float64)\n",
    "        X_train[n] = img.astype(np.float64)\n",
    "\n",
    "        # mask = np.zeros((IMG_HEIGHT, IMG_WIDTH, 1), dtype=bool)\n",
    "        # # mask2 = None\n",
    "        for mask_file in next(os.walk(path + '/masks/'))[2]:\n",
    "            mask = imread(os.path.join(path, 'masks', mask_file))\n",
    "            mask = resize(mask, (IMG_HEIGHT, IMG_WIDTH), mode='constant', preserve_range=True)\n",
    "            if mask_file.startswith('dead'):\n",
    "                Y_train_2[n] = np.expand_dims(mask,axis=-1)\n",
    "            else:\n",
    "                Y_train_1[n] = np.expand_dims(mask,axis=-1)\n",
    "        # # mask1_rgb = mask1_color * mask1[:, :, np.newaxis]\n",
    "        # # mask2_rgb = mask2_color * mask2[:, :, np.newaxis]\n",
    "        # # background_rgb = background_color * (1 - (mask1 + mask2)[:, :, np.newaxis])\n",
    "            # mask_path = next(os.walk(path + '/masks/'))[2] \n",
    "            # #print(mask_path)\n",
    "            # mask_count = min(2, len(mask_path))\n",
    "            # for i in range(mask_count):\n",
    "            #     mask_file = mask_path[i]  \n",
    "            #     mask_color = [0, 0, 0]  \n",
    "            #     if mask_file.startswith('cell'):\n",
    "            #         mask_color = [255, 255, 0]  \n",
    "            #     elif mask_file.startswith('dead'):\n",
    "            #         mask_color = [128, 0, 128] \n",
    "            #     else:\n",
    "            #         mask_color = [255, 255, 0] \n",
    "            #     mask = imread(os.path.join(path, 'masks', mask_file))\n",
    "            #     mask = resize(mask, (IMG_HEIGHT, IMG_WIDTH), mode='constant', preserve_range=True)\n",
    "            #     mask_rgb = mask_color * (mask[:, :, np.newaxis] > 0)  \n",
    "            #     Y_train[n, :, :, :] += mask_rgb.astype(np.uint8)\n",
    "Y_train = np.concatenate((Y_train_1, Y_train_2), axis=-1)\n",
    "print('Done!')"
   ]
  },
  {
   "cell_type": "code",
   "execution_count": null,
   "metadata": {},
   "outputs": [],
   "source": [
    "# np.save('X.npy',X_train)\n",
    "# np.save('Y.npy',Y_train)"
   ]
  },
  {
   "cell_type": "code",
   "execution_count": null,
   "metadata": {},
   "outputs": [],
   "source": [
    "#!pip install scikit-image\n",
    "#!pip install torchsummary\n"
   ]
  },
  {
   "cell_type": "code",
   "execution_count": null,
   "metadata": {},
   "outputs": [],
   "source": [
    "import torchvision.transforms as transforms\n",
    "from torch.utils.data import TensorDataset, DataLoader\n",
    "from torchvision.datasets import ImageFolder\n",
    "from sklearn.model_selection import train_test_split\n",
    "import torch.distributed as dist\n",
    "from torch.nn.parallel import DistributedDataParallel\n",
    "\n",
    "# os.environ['MASTER_ADDR'] = 'localhost'\n",
    "# os.environ['MASTER_PORT'] = '12355'\n",
    "# os.environ['WORLD_SIZE'] = '20'\n",
    "# os.environ['RANK'] = '0'\n",
    "# dist.init_process_group(backend='nccl')\n",
    "\n",
    "#x, y, x_val, y_val = train_test_split(X_train, Y_train, test_size=0.1, random_state=seed)\n",
    "#split dataset to 80% 10% 10%\n",
    "split_ratio = 0.8\n",
    "split_idx = int(X_train.shape[0] * split_ratio)\n",
    "\n",
    "x = X_train[:split_idx]\n",
    "y = Y_train[:split_idx]\n",
    "x_val = X_train[split_idx:]\n",
    "y_val = Y_train[split_idx:]\n",
    "\n",
    "test_ratio = 0.5\n",
    "split_test = int(x_val.shape[0]*test_ratio)\n",
    "\n",
    "X_test = x_val[split_test:]\n",
    "#test_ids = X_test\n",
    "\n",
    "x_val = x_val[:split_test]\n",
    "y_val = y_val[:split_test]\n",
    "\n",
    "# print(x.shape)\n",
    "# print(y.shape)\n",
    "\n",
    "########when label is matched delete this#######################\n",
    "#x = x[:93]\n",
    "#x_val = x_val[:93]\n",
    "################################################################\n",
    "x_train_tensor = torch.from_numpy(x)\n",
    "y_train_tensor = torch.from_numpy(y)\n",
    "# x_train_tensor = torch.tensor(x_train_tensor, dtype=torch.float32)\n",
    "# y_train_tensor = torch.tensor(y_train_tensor, dtype=torch.float32)\n",
    "x_train_tensor = x_train_tensor.to(torch.float32).clone().detach().requires_grad_(True)\n",
    "y_train_tensor = y_train_tensor.to(torch.float32).clone().detach().requires_grad_(True)\n",
    "#print(x_train_tensor.shape)\n",
    "#print(y_train_tensor.shape)\n",
    "x_val_tensor = torch.from_numpy(x_val)\n",
    "y_val_tensor = torch.from_numpy(y_val)\n",
    "# x_val_tensor = torch.tensor(x_val_tensor, dtype=torch.float32)\n",
    "# y_val_tensor = torch.tensor(y_val_tensor, dtype=torch.float32)\n",
    "x_val_tensor = x_val_tensor.to(torch.float32).clone().detach().requires_grad_(True)\n",
    "y_val_tensor = y_val_tensor.to(torch.float32).clone().detach().requires_grad_(True)\n",
    "\n",
    "train_dataset = TensorDataset(x_train_tensor, y_train_tensor)\n",
    "val_dataset = TensorDataset(x_val_tensor, y_val_tensor)\n",
    "\n",
    "# train_sampler = torch.utils.data.distributed.DistributedSampler(train_dataset)\n",
    "# val_sampler = torch.utils.data.distributed.DistributedSampler(val_dataset)\n",
    "\n",
    "train_loader = DataLoader(train_dataset, batch_size=BATCH_SIZE, shuffle=True, pin_memory=True)\n",
    "val_loader = DataLoader(val_dataset, batch_size=BATCH_SIZE, shuffle=False, pin_memory=True)\n"
   ]
  },
  {
   "cell_type": "code",
   "execution_count": null,
   "metadata": {},
   "outputs": [],
   "source": [
    "def show_mask(mask, title=None):\n",
    "    mask1 = mask[..., 0]  # Assuming the first mask is at index 0\n",
    "    mask2 = mask[..., 1]  # Assuming the second mask is at index 1\n",
    "\n",
    "    mask_show = np.zeros((*mask1.shape, 3), dtype=np.uint8)  # Create a 3-channel mask\n",
    "\n",
    "    mask_show[mask1] = [255, 255, 0]  # Set color for the first mask\n",
    "    mask_show[mask2] = [128, 0, 128]   # Set color for the second mask\n",
    "\n",
    "    plt.imshow(mask_show)\n",
    "    plt.axis('off')\n",
    "    if title:\n",
    "        plt.title(title)\n",
    "    plt.show()\n"
   ]
  },
  {
   "cell_type": "code",
   "execution_count": null,
   "metadata": {},
   "outputs": [
    {
     "data": {
      "image/png": "[encoded data removed]",
      "text/plain": [
       "<Figure size 1000x500 with 2 Axes>"
      ]
     },
     "metadata": {},
     "output_type": "display_data"
    },
    {
     "data": {
      "image/png": "[encoded data removed]",
      "text/plain": [
       "<Figure size 1000x500 with 2 Axes>"
      ]
     },
     "metadata": {},
     "output_type": "display_data"
    }
   ],
   "source": [
    "\n",
    "import torchvision.transforms as transforms\n",
    "from torchvision.utils import make_grid\n",
    "import matplotlib.pyplot as plt\n",
    "from matplotlib.colors import Normalize\n",
    "\n",
    "\n",
    "plt.figure(figsize=(10, 5))\n",
    "plt.subplot(1, 2, 1)\n",
    "plt.imshow(x[5,:,:,0], cmap='gray')\n",
    "plt.title(\"Images\")\n",
    "plt.axis('off')\n",
    "\n",
    "plt.subplot(1, 2, 2)\n",
    "show_mask(y[5],\"Mask\")\n",
    "\n",
    "plt.figure(figsize=(10, 5))\n",
    "plt.subplot(2, 2, 1)\n",
    "plt.imshow(x_val[5,:,:,0], cmap='gray')\n",
    "plt.title(\"Val_Images\")\n",
    "plt.axis('off')\n",
    "\n",
    "plt.subplot(2, 2, 2)\n",
    "show_mask(y_val[5],\"Val_Mask\")\n",
    "#creating a training and validation generator that generate masks and images\n",
    "#train_generator = zip(x, y)\n",
    "#val_generator = zip(x_val, y_val)\n"
   ]
  },
  {
   "cell_type": "code",
   "execution_count": null,
   "metadata": {},
   "outputs": [],
   "source": [
    "# Define IoU metric\n",
    "import torch\n",
    "\n",
    "# def mean_iou(y_pred, y_true):\n",
    "#     num_classes = y_true.size(1)\n",
    "#     ious = []\n",
    "    \n",
    "#     for cls in range(num_classes):\n",
    "#         intersection = torch.logical_and(y_true[:, cls, :, :], y_pred[:, cls, :, :]).sum()\n",
    "#         union = torch.logical_or(y_true[:, cls, :, :], y_pred[:, cls, :, :]).sum()\n",
    "\n",
    "#         iou = (intersection.float() + 1e-10) / (union.float() + 1e-10)\n",
    "#         ious.append(iou)\n",
    "\n",
    "#     mean_iou = torch.mean(torch.stack(ious))\n",
    "#     return mean_iou.item()\n",
    "def mean_iou(y_pred, y_true):\n",
    "    prec = []\n",
    "    \n",
    "    for t in torch.arange(0.5, 1.0, 0.05):\n",
    "        y_pred_ = (y_pred > t).float()\n",
    "        y_true_ = y_true.float()\n",
    "\n",
    "        intersection = torch.sum(y_true_ * y_pred_)\n",
    "        union = torch.sum((y_true_ + y_pred_).clamp(0, 1))\n",
    "\n",
    "        iou = intersection / union\n",
    "        prec.append(iou.item())\n",
    "    \n",
    "    return torch.mean(torch.tensor(prec))\n"
   ]
  },
  {
   "cell_type": "code",
   "execution_count": null,
   "metadata": {},
   "outputs": [],
   "source": [
    "class SelfAttention(nn.Module):\n",
    "    def __init__(self, channels, size):\n",
    "        super(SelfAttention, self).__init__()\n",
    "        self.channels = channels\n",
    "        self.size = size\n",
    "        self.mha = nn.MultiheadAttention(channels, 4, batch_first=True)\n",
    "        self.ln = nn.LayerNorm([channels])\n",
    "        self.ff_self = nn.Sequential(\n",
    "            nn.LayerNorm([channels]),\n",
    "            nn.Linear(channels, channels),\n",
    "            nn.GELU(),\n",
    "            nn.Linear(channels, channels),\n",
    "        )\n",
    "\n",
    "    def forward(self, x):\n",
    "        x = x.view(-1, self.channels, self.size * self.size).swapaxes(1, 2)\n",
    "        x_ln = self.ln(x)\n",
    "        attention_value, _ = self.mha(x_ln, x_ln, x_ln)\n",
    "        attention_value = attention_value + x\n",
    "        attention_value = self.ff_self(attention_value) + attention_value\n",
    "        return attention_value.swapaxes(2, 1).view(-1, self.channels, self.size, self.size)\n",
    "\n",
    "class ConvBlock(nn.Module):\n",
    "    def __init__(self, in_channels, out_channels, mid_channels=None, residual=False):\n",
    "        super(ConvBlock, self).__init__()\n",
    "        self.residual = residual\n",
    "        if not mid_channels:\n",
    "            mid_channels = out_channels\n",
    "        self.conv_block = nn.Sequential(\n",
    "            nn.Conv2d(in_channels, mid_channels, kernel_size=3, padding=1, bias=False),\n",
    "            nn.GroupNorm(1, mid_channels),\n",
    "            nn.GELU(),\n",
    "            nn.Conv2d(mid_channels, out_channels, kernel_size=3, padding=1, bias=False),\n",
    "            nn.GroupNorm(1, out_channels),\n",
    "        )\n",
    "\n",
    "    def forward(self, x):\n",
    "        if self.residual:\n",
    "            return F.gelu(x + self.conv_block(x))\n",
    "        else:\n",
    "            return self.conv_block(x)\n",
    "\n",
    "class DownSample(nn.Module):\n",
    "    def __init__(self, in_channels, out_channels, emb_dim=256):\n",
    "        super(DownSample, self).__init__()\n",
    "        self.maxpool_conv = nn.Sequential(\n",
    "            nn.MaxPool2d(2),\n",
    "            ConvBlock(in_channels, in_channels, residual=True),\n",
    "            ConvBlock(in_channels, out_channels),\n",
    "        )\n",
    "\n",
    "        self.emb_layer = nn.Sequential(\n",
    "            nn.SiLU(),\n",
    "            nn.Linear(emb_dim, out_channels),\n",
    "        )\n",
    "\n",
    "    def forward(self, x):\n",
    "        x = self.maxpool_conv(x)\n",
    "        return x\n",
    "\n",
    "class UpSample(nn.Module):\n",
    "    def __init__(self, in_channels, out_channels, emb_dim=256):\n",
    "        super(UpSample, self).__init__()\n",
    "\n",
    "        self.upsample = nn.Upsample(scale_factor=2, mode=\"bilinear\", align_corners=True)\n",
    "        self.out_channels = out_channels\n",
    "        self.conv = nn.Sequential(\n",
    "            ConvBlock(in_channels, in_channels, residual=True),\n",
    "            ConvBlock(in_channels, out_channels, in_channels // 2),\n",
    "        )\n",
    "\n",
    "        self.emb_layer = nn.Sequential(\n",
    "            nn.SiLU(),\n",
    "            nn.Linear(emb_dim, out_channels),\n",
    "        )\n",
    "\n",
    "    def forward(self, x, skip_x):\n",
    "\n",
    "        x = self.upsample(x)\n",
    "        #print(x.shape)\n",
    "        #print(skip_x.shape)\n",
    "        x = torch.cat([skip_x, x], dim=1)\n",
    "        x = self.conv(x)\n",
    "        #emb = self.emb_layer(t)[:, :, None, None].expand(-1, -1, x.shape[-2], x.shape[-1])\n",
    "        return x\n",
    "\n",
    "class UNet(nn.Module):\n",
    "    def __init__(self, c_in=3, c_out=3):\n",
    "        super(UNet, self).__init__()\n",
    "        self.initial_conv = ConvBlock(c_in, 64)\n",
    "        self.downsample1 = DownSample(64, 128)\n",
    "        self.self_attention1 = SelfAttention(128, 128)\n",
    "        self.downsample2 = DownSample(128, 256)\n",
    "        self.self_attention2 = SelfAttention(256, 256)\n",
    "        self.downsample3 = DownSample(256, 256)\n",
    "        self.self_attention3 = SelfAttention(256, 256)\n",
    "\n",
    "        self.bottom1 = ConvBlock(256, 512)\n",
    "        self.bottom2 = ConvBlock(512, 512)\n",
    "        self.bottom3 = ConvBlock(512, 256)\n",
    "\n",
    "        self.upsample1 = UpSample(512, 128)\n",
    "        self.self_attention4 = SelfAttention(128, 128)\n",
    "        self.upsample2 = UpSample(256, 64)\n",
    "        self.self_attention5 = SelfAttention(64, 64)\n",
    "        self.upsample3 = UpSample(128, 64)\n",
    "        self.self_attention6 = SelfAttention(64, 64)\n",
    "        self.output_conv = nn.Conv2d(64, c_out, kernel_size=1)\n",
    "\n",
    "    def forward(self, x):\n",
    "\n",
    "        x1 = self.initial_conv(x)\n",
    "        x2 = self.downsample1(x1)\n",
    "        #x2 = self.self_attention1(x2)\n",
    "        x3 = self.downsample2(x2)\n",
    "        #x3 = self.self_attention2(x3)\n",
    "        x4 = self.downsample3(x3)\n",
    "        #x4 = self.self_attention3(x4)\n",
    "\n",
    "        x4 = self.bottom1(x4)\n",
    "        x4 = self.bottom2(x4)\n",
    "        x4 = self.bottom3(x4)\n",
    "\n",
    "        x = self.upsample1(x4, x3)\n",
    "        #x = self.self_attention4(x)\n",
    "        x = self.upsample2(x, x2)\n",
    "        #x = self.self_attention5(x)\n",
    "        x = self.upsample3(x, x1)\n",
    "        #x = self.self_attention6(x)\n",
    "        output = self.output_conv(x)\n",
    "        return output"
   ]
  },
  {
   "cell_type": "code",
   "execution_count": null,
   "metadata": {},
   "outputs": [],
   "source": [
    "#define early stopping\n",
    "class EarlyStopping:\n",
    "    def __init__(self, patience=3, verbose=True):\n",
    "        self.patience = patience\n",
    "        self.verbose = verbose\n",
    "        self.counter = 0\n",
    "        self.best_score = None\n",
    "        self.early_stop = False\n",
    "\n",
    "    def __call__(self, val_loss, model):\n",
    "        if self.best_score is None:\n",
    "            self.best_score = val_loss\n",
    "            self.save_checkpoint(model)\n",
    "        elif val_loss > self.best_score:\n",
    "            self.counter += 1\n",
    "            if self.verbose:\n",
    "                print(f'EarlyStopping counter: {self.counter} out of {self.patience}')\n",
    "            if self.counter >= self.patience:\n",
    "                self.early_stop = True\n",
    "        else:\n",
    "            self.best_score = val_loss\n",
    "            self.save_checkpoint(model)\n",
    "            self.counter = 0\n",
    "        return self.early_stop\n",
    "\n",
    "    def save_checkpoint(self, model):\n",
    "        if self.verbose:\n",
    "            print(f'Saving model...')\n",
    "        torch.save(model.state_dict(), 'checkpoint.pth')\n"
   ]
  },
  {
   "cell_type": "code",
   "execution_count": null,
   "metadata": {},
   "outputs": [],
   "source": [
    "def jaccard_loss(pred, target):\n",
    "    intersection = torch.sum(pred * target)\n",
    "    union = torch.sum(pred) + torch.sum(target) - intersection\n",
    "    jaccard_loss = 1.0 - (intersection + 1) / (union + 1) \n",
    "    return jaccard_loss"
   ]
  },
  {
   "cell_type": "code",
   "execution_count": null,
   "metadata": {},
   "outputs": [],
   "source": [
    "import torch.backends.cudnn as cudnn\n",
    "\n",
    "c_in = 3  # input channel 3 for RGB\n",
    "c_out = 2  # output channel\n",
    "if torch.cuda.device_count() > 1:\n",
    "    device1 = torch.device(\"cuda:0\")\n",
    "    device2 = torch.device(\"cuda:1\")\n",
    "else:\n",
    "    raise RuntimeError(\"Multiple GPUs are required.\")\n",
    "\n",
    "model = UNet(c_in, c_out)\n",
    "checkpoint = torch.load('checkpoint.pth')\n",
    "modified_state_dict = {key.replace('module.', ''): value for key, value in checkpoint.items()}\n",
    "model.load_state_dict(modified_state_dict)\n",
    "#cudnn.benchmark = True\n",
    "#model = torch.nn.DataParallel(model)\n",
    "\n",
    "class ThreeChannelLogitsLoss(nn.Module):\n",
    "    def __init__(self):\n",
    "        super(ThreeChannelLogitsLoss, self).__init__()\n",
    "\n",
    "    def forward(self, output, target):\n",
    "        loss = 0\n",
    "        for i in range(c_out):\n",
    "            loss += nn.BCEWithLogitsLoss()(output[:, i, :, :], target[:, i, :, :])\n",
    "        return loss / c_out\n",
    "\n",
    "#criterion = ThreeChannelLogitsLoss()\n",
    "    \n",
    "#criterion = nn.CrossEntropyLoss()\n",
    "#criterion = jaccard_loss\n",
    "criterion = nn.BCEWithLogitsLoss()\n",
    "\n",
    "optimizer = optim.Adam(model.parameters(), lr=0.001)\n",
    "early_stopping = EarlyStopping(patience=5, verbose=True)\n",
    "scheduler =  torch.optim.lr_scheduler.CosineAnnealingLR(optimizer, T_max=100)\n"
   ]
  },
  {
   "cell_type": "code",
   "execution_count": null,
   "metadata": {},
   "outputs": [],
   "source": [
    "# #print unet model summary\n",
    "\n",
    "# from torchsummary import summary\n",
    "\n",
    "# def count_parameters(model):\n",
    "#     return sum(p.numel() for p in model.parameters() if p.requires_grad)\n",
    "\n",
    "# #print(model)\n",
    "# #print(f\"Total Trainable Parameters: {count_parameters(model)}\")\n",
    "# summary(model, (3, 128, 128), device= 'cpu')\n"
   ]
  },
  {
   "cell_type": "code",
   "execution_count": null,
   "metadata": {},
   "outputs": [
    {
     "name": "stderr",
     "output_type": "stream",
     "text": [
      "  0%|          | 0/448 [00:00<?, ?it/s]"
     ]
    },
    {
     "name": "stderr",
     "output_type": "stream",
     "text": [
      " 11%|█▏        | 51/448 [07:37<1:01:32,  9.30s/it]"
     ]
    },
    {
     "name": "stdout",
     "output_type": "stream",
     "text": [
      "Epoch 1: Batch[50/448] Loss: 0.027787715052254497 IoU: 0.6618584957718849\n"
     ]
    },
    {
     "name": "stderr",
     "output_type": "stream",
     "text": [
      " 22%|██▏       | 100/448 [15:14<53:16,  9.19s/it] "
     ]
    },
    {
     "name": "stdout",
     "output_type": "stream",
     "text": [
      "Epoch 1: Batch[100/448] Loss: 0.027501719591673465 IoU: 0.6713953648507595\n",
      "Saving model...\n"
     ]
    },
    {
     "name": "stderr",
     "output_type": "stream",
     "text": [
      " 34%|███▎      | 151/448 [23:06<46:12,  9.34s/it]"
     ]
    },
    {
     "name": "stdout",
     "output_type": "stream",
     "text": [
      "Epoch 1: Batch[150/448] Loss: 0.026078941628026465 IoU: 0.6930167330304782\n"
     ]
    },
    {
     "name": "stderr",
     "output_type": "stream",
     "text": [
      " 45%|████▍     | 200/448 [30:46<39:22,  9.53s/it]"
     ]
    },
    {
     "name": "stdout",
     "output_type": "stream",
     "text": [
      "Epoch 1: Batch[200/448] Loss: 0.02498436235473491 IoU: 0.6926854524761439\n",
      "Saving model...\n"
     ]
    },
    {
     "name": "stderr",
     "output_type": "stream",
     "text": [
      " 56%|█████▌    | 251/448 [38:49<31:10,  9.49s/it]"
     ]
    },
    {
     "name": "stdout",
     "output_type": "stream",
     "text": [
      "Epoch 1: Batch[250/448] Loss: 0.023315753845497965 IoU: 0.7009288497567177\n"
     ]
    },
    {
     "name": "stderr",
     "output_type": "stream",
     "text": [
      " 67%|██████▋   | 300/448 [46:38<23:32,  9.54s/it]"
     ]
    },
    {
     "name": "stdout",
     "output_type": "stream",
     "text": [
      "Epoch 1: Batch[300/448] Loss: 0.023033682444753747 IoU: 0.7032448994616668\n",
      "Saving model...\n"
     ]
    },
    {
     "name": "stderr",
     "output_type": "stream",
     "text": [
      " 78%|███████▊  | 351/448 [54:36<14:01,  8.67s/it]"
     ]
    },
    {
     "name": "stdout",
     "output_type": "stream",
     "text": [
      "Epoch 1: Batch[350/448] Loss: 0.022311275822576134 IoU: 0.7010308435559273\n"
     ]
    },
    {
     "name": "stderr",
     "output_type": "stream",
     "text": [
      " 89%|████████▉ | 400/448 [1:02:23<07:39,  9.57s/it]"
     ]
    },
    {
     "name": "stdout",
     "output_type": "stream",
     "text": [
      "Epoch 1: Batch[400/448] Loss: 0.022480718616570812 IoU: 0.6996300760284067\n",
      "Saving model...\n"
     ]
    },
    {
     "name": "stderr",
     "output_type": "stream",
     "text": [
      "100%|██████████| 448/448 [1:10:00<00:00,  9.38s/it]\n"
     ]
    },
    {
     "name": "stdout",
     "output_type": "stream",
     "text": [
      "Epoch [1/100] Loss: 0.02153543436439317 IoU: 0.6995260573457927\n",
      "Saving model...\n"
     ]
    },
    {
     "name": "stderr",
     "output_type": "stream",
     "text": [
      " 11%|█▏        | 51/448 [08:09<1:02:37,  9.47s/it]"
     ]
    },
    {
     "name": "stdout",
     "output_type": "stream",
     "text": [
      "Epoch 2: Batch[50/448] Loss: 0.0256663301307708 IoU: 0.7229076802730561\n"
     ]
    },
    {
     "name": "stderr",
     "output_type": "stream",
     "text": [
      " 22%|██▏       | 100/448 [15:53<54:24,  9.38s/it] "
     ]
    },
    {
     "name": "stdout",
     "output_type": "stream",
     "text": [
      "Epoch 2: Batch[100/448] Loss: 0.02163713824469596 IoU: 0.7175480568408966\n",
      "Saving model...\n"
     ]
    },
    {
     "name": "stderr",
     "output_type": "stream",
     "text": [
      " 34%|███▎      | 151/448 [23:54<45:45,  9.25s/it]"
     ]
    },
    {
     "name": "stdout",
     "output_type": "stream",
     "text": [
      "Epoch 2: Batch[150/448] Loss: 0.020096794576384126 IoU: 0.7310698864857356\n"
     ]
    },
    {
     "name": "stderr",
     "output_type": "stream",
     "text": [
      " 45%|████▍     | 200/448 [31:30<37:58,  9.19s/it]"
     ]
    },
    {
     "name": "stdout",
     "output_type": "stream",
     "text": [
      "Epoch 2: Batch[200/448] Loss: 0.021151272422866896 IoU: 0.7234989840537309\n",
      "Saving model...\n"
     ]
    },
    {
     "name": "stderr",
     "output_type": "stream",
     "text": [
      " 56%|█████▌    | 251/448 [39:28<31:06,  9.47s/it]"
     ]
    },
    {
     "name": "stdout",
     "output_type": "stream",
     "text": [
      "Epoch 2: Batch[250/448] Loss: 0.02045618963986635 IoU: 0.7309118482470512\n"
     ]
    },
    {
     "name": "stderr",
     "output_type": "stream",
     "text": [
      " 67%|██████▋   | 300/448 [47:13<23:04,  9.36s/it]"
     ]
    },
    {
     "name": "stdout",
     "output_type": "stream",
     "text": [
      "Epoch 2: Batch[300/448] Loss: 0.020943889192615948 IoU: 0.7257515659431616\n",
      "Saving model...\n"
     ]
    },
    {
     "name": "stderr",
     "output_type": "stream",
     "text": [
      " 78%|███████▊  | 351/448 [55:15<15:15,  9.43s/it]"
     ]
    },
    {
     "name": "stdout",
     "output_type": "stream",
     "text": [
      "Epoch 2: Batch[350/448] Loss: 0.020395461113325186 IoU: 0.7267854358894484\n"
     ]
    },
    {
     "name": "stderr",
     "output_type": "stream",
     "text": [
      " 89%|████████▉ | 400/448 [1:02:53<07:25,  9.28s/it]"
     ]
    },
    {
     "name": "stdout",
     "output_type": "stream",
     "text": [
      "Epoch 2: Batch[400/448] Loss: 0.020602542698616163 IoU: 0.7259627855196595\n",
      "Saving model...\n"
     ]
    },
    {
     "name": "stderr",
     "output_type": "stream",
     "text": [
      "100%|██████████| 448/448 [1:10:16<00:00,  9.41s/it]\n"
     ]
    },
    {
     "name": "stdout",
     "output_type": "stream",
     "text": [
      "Epoch [2/100] Loss: 0.020072625699478003 IoU: 0.7221310162983302\n",
      "Saving model...\n"
     ]
    },
    {
     "name": "stderr",
     "output_type": "stream",
     "text": [
      " 11%|█▏        | 51/448 [07:56<1:02:37,  9.46s/it]"
     ]
    },
    {
     "name": "stdout",
     "output_type": "stream",
     "text": [
      "Epoch 3: Batch[50/448] Loss: 0.023940151212736963 IoU: 0.6739685297012329\n"
     ]
    },
    {
     "name": "stderr",
     "output_type": "stream",
     "text": [
      " 22%|██▏       | 100/448 [15:34<53:23,  9.21s/it] "
     ]
    },
    {
     "name": "stdout",
     "output_type": "stream",
     "text": [
      "Epoch 3: Batch[100/448] Loss: 0.022319287164136767 IoU: 0.7024480777978898\n",
      "Saving model...\n"
     ]
    },
    {
     "name": "stderr",
     "output_type": "stream",
     "text": [
      " 34%|███▎      | 151/448 [23:33<46:28,  9.39s/it]"
     ]
    },
    {
     "name": "stdout",
     "output_type": "stream",
     "text": [
      "Epoch 3: Batch[150/448] Loss: 0.02116294970115026 IoU: 0.7270484165350596\n"
     ]
    },
    {
     "name": "stderr",
     "output_type": "stream",
     "text": [
      " 45%|████▍     | 200/448 [31:20<39:28,  9.55s/it]"
     ]
    },
    {
     "name": "stdout",
     "output_type": "stream",
     "text": [
      "Epoch 3: Batch[200/448] Loss: 0.02167606641422026 IoU: 0.7239165605604648\n",
      "Saving model...\n"
     ]
    },
    {
     "name": "stderr",
     "output_type": "stream",
     "text": [
      " 56%|█████▌    | 251/448 [39:26<30:52,  9.40s/it]"
     ]
    },
    {
     "name": "stdout",
     "output_type": "stream",
     "text": [
      "Epoch 3: Batch[250/448] Loss: 0.021025394409894944 IoU: 0.7334534820318223\n"
     ]
    },
    {
     "name": "stderr",
     "output_type": "stream",
     "text": [
      " 67%|██████▋   | 300/448 [47:10<22:59,  9.32s/it]"
     ]
    },
    {
     "name": "stdout",
     "output_type": "stream",
     "text": [
      "Epoch 3: Batch[300/448] Loss: 0.020130880901124328 IoU: 0.735088397860527\n",
      "Saving model...\n"
     ]
    },
    {
     "name": "stderr",
     "output_type": "stream",
     "text": [
      " 78%|███████▊  | 351/448 [55:15<15:18,  9.47s/it]"
     ]
    },
    {
     "name": "stdout",
     "output_type": "stream",
     "text": [
      "Epoch 3: Batch[350/448] Loss: 0.020547247665402082 IoU: 0.7295460521749088\n"
     ]
    },
    {
     "name": "stderr",
     "output_type": "stream",
     "text": [
      " 89%|████████▉ | 400/448 [1:02:59<07:32,  9.44s/it]"
     ]
    },
    {
     "name": "stdout",
     "output_type": "stream",
     "text": [
      "Epoch 3: Batch[400/448] Loss: 0.020351177398697472 IoU: 0.7293723974749446\n",
      "Saving model...\n"
     ]
    },
    {
     "name": "stderr",
     "output_type": "stream",
     "text": [
      "100%|██████████| 448/448 [1:10:25<00:00,  9.43s/it]\n"
     ]
    },
    {
     "name": "stdout",
     "output_type": "stream",
     "text": [
      "Epoch [3/100] Loss: 0.019781643786700442 IoU: 0.7283721938396671\n",
      "Saving model...\n"
     ]
    },
    {
     "name": "stderr",
     "output_type": "stream",
     "text": [
      " 11%|█▏        | 51/448 [07:56<1:01:21,  9.27s/it]"
     ]
    },
    {
     "name": "stdout",
     "output_type": "stream",
     "text": [
      "Epoch 4: Batch[50/448] Loss: 0.021022782106883825 IoU: 0.7136081019043923\n"
     ]
    },
    {
     "name": "stderr",
     "output_type": "stream",
     "text": [
      " 22%|██▏       | 100/448 [15:33<53:16,  9.18s/it] "
     ]
    },
    {
     "name": "stdout",
     "output_type": "stream",
     "text": [
      "Epoch 4: Batch[100/448] Loss: 0.01885691496776417 IoU: 0.728427535444498\n",
      "Saving model...\n"
     ]
    },
    {
     "name": "stderr",
     "output_type": "stream",
     "text": [
      " 34%|███▎      | 151/448 [23:28<45:57,  9.28s/it]"
     ]
    },
    {
     "name": "stdout",
     "output_type": "stream",
     "text": [
      "Epoch 4: Batch[150/448] Loss: 0.0191123616679882 IoU: 0.734491427441438\n"
     ]
    },
    {
     "name": "stderr",
     "output_type": "stream",
     "text": [
      " 45%|████▍     | 200/448 [31:06<37:56,  9.18s/it]"
     ]
    },
    {
     "name": "stdout",
     "output_type": "stream",
     "text": [
      "Epoch 4: Batch[200/448] Loss: 0.018643783705774696 IoU: 0.7487192294746637\n",
      "Saving model...\n"
     ]
    },
    {
     "name": "stderr",
     "output_type": "stream",
     "text": [
      " 56%|█████▌    | 251/448 [39:04<31:08,  9.49s/it]"
     ]
    },
    {
     "name": "stdout",
     "output_type": "stream",
     "text": [
      "Epoch 4: Batch[250/448] Loss: 0.018100318355485798 IoU: 0.7514504583477974\n"
     ]
    },
    {
     "name": "stderr",
     "output_type": "stream",
     "text": [
      " 67%|██████▋   | 300/448 [46:46<23:44,  9.63s/it]"
     ]
    },
    {
     "name": "stdout",
     "output_type": "stream",
     "text": [
      "Epoch 4: Batch[300/448] Loss: 0.01771694777106556 IoU: 0.7561072639127573\n",
      "Saving model...\n"
     ]
    },
    {
     "name": "stderr",
     "output_type": "stream",
     "text": [
      " 78%|███████▊  | 351/448 [54:42<15:02,  9.30s/it]"
     ]
    },
    {
     "name": "stdout",
     "output_type": "stream",
     "text": [
      "Epoch 4: Batch[350/448] Loss: 0.017260738046440696 IoU: 0.7577290889620781\n"
     ]
    },
    {
     "name": "stderr",
     "output_type": "stream",
     "text": [
      " 89%|████████▉ | 400/448 [1:02:19<07:36,  9.51s/it]"
     ]
    },
    {
     "name": "stdout",
     "output_type": "stream",
     "text": [
      "Epoch 4: Batch[400/448] Loss: 0.01827841298945714 IoU: 0.7488549356535077\n",
      "Saving model...\n"
     ]
    },
    {
     "name": "stderr",
     "output_type": "stream",
     "text": [
      "100%|██████████| 448/448 [1:09:44<00:00,  9.34s/it]\n"
     ]
    },
    {
     "name": "stdout",
     "output_type": "stream",
     "text": [
      "Epoch [4/100] Loss: 0.020256000814697472 IoU: 0.7292145118616256\n",
      "EarlyStopping counter: 1 out of 5\n"
     ]
    },
    {
     "name": "stderr",
     "output_type": "stream",
     "text": [
      " 11%|█▏        | 51/448 [08:02<1:01:56,  9.36s/it]"
     ]
    },
    {
     "name": "stdout",
     "output_type": "stream",
     "text": [
      "Epoch 5: Batch[50/448] Loss: 0.029595234100706875 IoU: 0.6627922981977463\n"
     ]
    },
    {
     "name": "stderr",
     "output_type": "stream",
     "text": [
      " 22%|██▏       | 100/448 [15:37<53:30,  9.22s/it] "
     ]
    },
    {
     "name": "stdout",
     "output_type": "stream",
     "text": [
      "Epoch 5: Batch[100/448] Loss: 0.02514206263469532 IoU: 0.6501205897331238\n",
      "Saving model...\n"
     ]
    },
    {
     "name": "stderr",
     "output_type": "stream",
     "text": [
      " 34%|███▎      | 151/448 [23:32<45:27,  9.18s/it]"
     ]
    },
    {
     "name": "stdout",
     "output_type": "stream",
     "text": [
      "Epoch 5: Batch[150/448] Loss: 0.023780176639556883 IoU: 0.66323925892512\n"
     ]
    },
    {
     "name": "stderr",
     "output_type": "stream",
     "text": [
      " 45%|████▍     | 200/448 [31:06<38:24,  9.29s/it]"
     ]
    },
    {
     "name": "stdout",
     "output_type": "stream",
     "text": [
      "Epoch 5: Batch[200/448] Loss: 0.023149073092499747 IoU: 0.6842927579581738\n",
      "Saving model...\n"
     ]
    },
    {
     "name": "stderr",
     "output_type": "stream",
     "text": [
      " 56%|█████▌    | 251/448 [38:59<30:44,  9.36s/it]"
     ]
    },
    {
     "name": "stdout",
     "output_type": "stream",
     "text": [
      "Epoch 5: Batch[250/448] Loss: 0.02258302650693804 IoU: 0.6937369972467422\n"
     ]
    },
    {
     "name": "stderr",
     "output_type": "stream",
     "text": [
      " 67%|██████▋   | 300/448 [46:37<23:01,  9.33s/it]"
     ]
    },
    {
     "name": "stdout",
     "output_type": "stream",
     "text": [
      "Epoch 5: Batch[300/448] Loss: 0.023350561710540205 IoU: 0.6865185468643904\n",
      "Saving model...\n"
     ]
    },
    {
     "name": "stderr",
     "output_type": "stream",
     "text": [
      " 78%|███████▊  | 351/448 [54:36<14:58,  9.26s/it]"
     ]
    },
    {
     "name": "stdout",
     "output_type": "stream",
     "text": [
      "Epoch 5: Batch[350/448] Loss: 0.022357147518944527 IoU: 0.6920013263608729\n"
     ]
    },
    {
     "name": "stderr",
     "output_type": "stream",
     "text": [
      " 89%|████████▉ | 400/448 [1:02:11<07:25,  9.29s/it]"
     ]
    },
    {
     "name": "stdout",
     "output_type": "stream",
     "text": [
      "Epoch 5: Batch[400/448] Loss: 0.02172527367307339 IoU: 0.6979187297262252\n",
      "Saving model...\n"
     ]
    },
    {
     "name": "stderr",
     "output_type": "stream",
     "text": [
      "100%|██████████| 448/448 [1:09:38<00:00,  9.33s/it]\n"
     ]
    },
    {
     "name": "stdout",
     "output_type": "stream",
     "text": [
      "Epoch [5/100] Loss: 0.021845549949440674 IoU: 0.6907163668324107\n",
      "EarlyStopping counter: 2 out of 5\n"
     ]
    },
    {
     "name": "stderr",
     "output_type": "stream",
     "text": [
      " 11%|█▏        | 51/448 [07:57<1:02:04,  9.38s/it]"
     ]
    },
    {
     "name": "stdout",
     "output_type": "stream",
     "text": [
      "Epoch 6: Batch[50/448] Loss: 0.021636833490338177 IoU: 0.7377697360515595\n"
     ]
    },
    {
     "name": "stderr",
     "output_type": "stream",
     "text": [
      " 22%|██▏       | 100/448 [15:35<54:33,  9.41s/it] "
     ]
    },
    {
     "name": "stdout",
     "output_type": "stream",
     "text": [
      "Epoch 6: Batch[100/448] Loss: 0.021202856636373325 IoU: 0.7319404107332229\n",
      "Saving model...\n"
     ]
    },
    {
     "name": "stderr",
     "output_type": "stream",
     "text": [
      " 34%|███▎      | 151/448 [23:35<46:38,  9.42s/it]"
     ]
    },
    {
     "name": "stdout",
     "output_type": "stream",
     "text": [
      "Epoch 6: Batch[150/448] Loss: 0.02297102288575843 IoU: 0.7008795487880707\n"
     ]
    },
    {
     "name": "stderr",
     "output_type": "stream",
     "text": [
      " 45%|████▍     | 200/448 [31:12<38:36,  9.34s/it]"
     ]
    },
    {
     "name": "stdout",
     "output_type": "stream",
     "text": [
      "Epoch 6: Batch[200/448] Loss: 0.02191992560343351 IoU: 0.7084125518798828\n",
      "Saving model...\n"
     ]
    },
    {
     "name": "stderr",
     "output_type": "stream",
     "text": [
      " 56%|█████▌    | 251/448 [39:07<30:48,  9.38s/it]"
     ]
    },
    {
     "name": "stdout",
     "output_type": "stream",
     "text": [
      "Epoch 6: Batch[250/448] Loss: 0.020183466768357902 IoU: 0.7188699634075165\n"
     ]
    },
    {
     "name": "stderr",
     "output_type": "stream",
     "text": [
      " 67%|██████▋   | 300/448 [46:46<23:18,  9.45s/it]"
     ]
    },
    {
     "name": "stdout",
     "output_type": "stream",
     "text": [
      "Epoch 6: Batch[300/448] Loss: 0.01973813198002366 IoU: 0.7271880232294401\n",
      "Saving model...\n"
     ]
    },
    {
     "name": "stderr",
     "output_type": "stream",
     "text": [
      " 78%|███████▊  | 351/448 [54:45<15:07,  9.36s/it]"
     ]
    },
    {
     "name": "stdout",
     "output_type": "stream",
     "text": [
      "Epoch 6: Batch[350/448] Loss: 0.020666096246069562 IoU: 0.7202774974703788\n"
     ]
    },
    {
     "name": "stderr",
     "output_type": "stream",
     "text": [
      " 89%|████████▉ | 400/448 [1:02:25<07:24,  9.27s/it]"
     ]
    },
    {
     "name": "stdout",
     "output_type": "stream",
     "text": [
      "Epoch 6: Batch[400/448] Loss: 0.020503265375446063 IoU: 0.7234733604267239\n",
      "Saving model...\n"
     ]
    },
    {
     "name": "stderr",
     "output_type": "stream",
     "text": [
      "100%|██████████| 448/448 [1:09:54<00:00,  9.36s/it]\n"
     ]
    },
    {
     "name": "stdout",
     "output_type": "stream",
     "text": [
      "Epoch [6/100] Loss: 0.0201178707687047 IoU: 0.7230528230845396\n",
      "EarlyStopping counter: 3 out of 5\n"
     ]
    },
    {
     "name": "stderr",
     "output_type": "stream",
     "text": [
      " 11%|█▏        | 51/448 [07:56<1:01:01,  9.22s/it]"
     ]
    },
    {
     "name": "stdout",
     "output_type": "stream",
     "text": [
      "Epoch 7: Batch[50/448] Loss: 0.017858061594888567 IoU: 0.8022327941656112\n"
     ]
    },
    {
     "name": "stderr",
     "output_type": "stream",
     "text": [
      " 22%|██▏       | 100/448 [15:36<54:25,  9.38s/it] "
     ]
    },
    {
     "name": "stdout",
     "output_type": "stream",
     "text": [
      "Epoch 7: Batch[100/448] Loss: 0.019832306265598162 IoU: 0.7608976522088051\n",
      "Saving model...\n"
     ]
    },
    {
     "name": "stderr",
     "output_type": "stream",
     "text": [
      " 34%|███▎      | 151/448 [23:35<46:21,  9.36s/it]"
     ]
    },
    {
     "name": "stdout",
     "output_type": "stream",
     "text": [
      "Epoch 7: Batch[150/448] Loss: 0.01974911438844477 IoU: 0.7592784245808919\n"
     ]
    },
    {
     "name": "stderr",
     "output_type": "stream",
     "text": [
      " 45%|████▍     | 200/448 [31:13<38:37,  9.35s/it]"
     ]
    },
    {
     "name": "stdout",
     "output_type": "stream",
     "text": [
      "Epoch 7: Batch[200/448] Loss: 0.018974121701321563 IoU: 0.7589323581755161\n",
      "Saving model...\n"
     ]
    },
    {
     "name": "stderr",
     "output_type": "stream",
     "text": [
      " 56%|█████▌    | 251/448 [39:11<31:09,  9.49s/it]"
     ]
    },
    {
     "name": "stdout",
     "output_type": "stream",
     "text": [
      "Epoch 7: Batch[250/448] Loss: 0.018985077388118953 IoU: 0.7523335707187653\n"
     ]
    },
    {
     "name": "stderr",
     "output_type": "stream",
     "text": [
      " 67%|██████▋   | 300/448 [46:55<23:02,  9.34s/it]"
     ]
    },
    {
     "name": "stdout",
     "output_type": "stream",
     "text": [
      "Epoch 7: Batch[300/448] Loss: 0.01897170362334388 IoU: 0.7495271572719018\n",
      "Saving model...\n"
     ]
    },
    {
     "name": "stderr",
     "output_type": "stream",
     "text": [
      " 78%|███████▊  | 351/448 [54:54<15:16,  9.44s/it]"
     ]
    },
    {
     "name": "stdout",
     "output_type": "stream",
     "text": [
      "Epoch 7: Batch[350/448] Loss: 0.018347211700664567 IoU: 0.7495791736883777\n"
     ]
    },
    {
     "name": "stderr",
     "output_type": "stream",
     "text": [
      " 89%|████████▉ | 400/448 [1:02:36<07:38,  9.55s/it]"
     ]
    },
    {
     "name": "stdout",
     "output_type": "stream",
     "text": [
      "Epoch 7: Batch[400/448] Loss: 0.018366989478381585 IoU: 0.7481004396267236\n",
      "Saving model...\n"
     ]
    },
    {
     "name": "stderr",
     "output_type": "stream",
     "text": [
      "100%|██████████| 448/448 [1:10:03<00:00,  9.38s/it]\n"
     ]
    },
    {
     "name": "stdout",
     "output_type": "stream",
     "text": [
      "Epoch [7/100] Loss: 0.018155273013819948 IoU: 0.7424924526255511\n",
      "Saving model...\n"
     ]
    },
    {
     "name": "stderr",
     "output_type": "stream",
     "text": [
      " 11%|█▏        | 51/448 [08:01<1:01:44,  9.33s/it]"
     ]
    },
    {
     "name": "stdout",
     "output_type": "stream",
     "text": [
      "Epoch 8: Batch[50/448] Loss: 0.01972829848062247 IoU: 0.7419097712635994\n"
     ]
    },
    {
     "name": "stderr",
     "output_type": "stream",
     "text": [
      " 22%|██▏       | 100/448 [15:40<53:53,  9.29s/it] "
     ]
    },
    {
     "name": "stdout",
     "output_type": "stream",
     "text": [
      "Epoch 8: Batch[100/448] Loss: 0.01756361302221194 IoU: 0.7560641847550869\n",
      "Saving model...\n"
     ]
    },
    {
     "name": "stderr",
     "output_type": "stream",
     "text": [
      " 34%|███▎      | 151/448 [23:37<46:27,  9.38s/it]"
     ]
    },
    {
     "name": "stdout",
     "output_type": "stream",
     "text": [
      "Epoch 8: Batch[150/448] Loss: 0.018188813297698895 IoU: 0.7393332821627457\n"
     ]
    },
    {
     "name": "stderr",
     "output_type": "stream",
     "text": [
      " 45%|████▍     | 200/448 [31:13<38:48,  9.39s/it]"
     ]
    },
    {
     "name": "stdout",
     "output_type": "stream",
     "text": [
      "Epoch 8: Batch[200/448] Loss: 0.018028155181091278 IoU: 0.7342868058232125\n",
      "Saving model...\n"
     ]
    },
    {
     "name": "stderr",
     "output_type": "stream",
     "text": [
      " 56%|█████▌    | 251/448 [39:07<31:06,  9.47s/it]"
     ]
    },
    {
     "name": "stdout",
     "output_type": "stream",
     "text": [
      "Epoch 8: Batch[250/448] Loss: 0.017690015320666136 IoU: 0.7398820876954123\n"
     ]
    },
    {
     "name": "stderr",
     "output_type": "stream",
     "text": [
      " 67%|██████▋   | 300/448 [46:46<22:49,  9.25s/it]"
     ]
    },
    {
     "name": "stdout",
     "output_type": "stream",
     "text": [
      "Epoch 8: Batch[300/448] Loss: 0.018366733170114457 IoU: 0.7418955991564629\n",
      "Saving model...\n"
     ]
    },
    {
     "name": "stderr",
     "output_type": "stream",
     "text": [
      " 78%|███████▊  | 351/448 [54:49<15:11,  9.40s/it]"
     ]
    },
    {
     "name": "stdout",
     "output_type": "stream",
     "text": [
      "Epoch 8: Batch[350/448] Loss: 0.018752762978630405 IoU: 0.7397565988896947\n"
     ]
    },
    {
     "name": "stderr",
     "output_type": "stream",
     "text": [
      " 89%|████████▉ | 400/448 [1:02:30<07:31,  9.41s/it]"
     ]
    },
    {
     "name": "stdout",
     "output_type": "stream",
     "text": [
      "Epoch 8: Batch[400/448] Loss: 0.018865913346235174 IoU: 0.7381195451988606\n",
      "Saving model...\n"
     ]
    },
    {
     "name": "stderr",
     "output_type": "stream",
     "text": [
      "100%|██████████| 448/448 [1:09:58<00:00,  9.37s/it]\n"
     ]
    },
    {
     "name": "stdout",
     "output_type": "stream",
     "text": [
      "Epoch [8/100] Loss: 0.01846671716365173 IoU: 0.7383912405862897\n",
      "EarlyStopping counter: 1 out of 5\n"
     ]
    },
    {
     "name": "stderr",
     "output_type": "stream",
     "text": [
      " 11%|█▏        | 51/448 [07:58<1:02:25,  9.43s/it]"
     ]
    },
    {
     "name": "stdout",
     "output_type": "stream",
     "text": [
      "Epoch 9: Batch[50/448] Loss: 0.01542348078917712 IoU: 0.7914620131254196\n"
     ]
    },
    {
     "name": "stderr",
     "output_type": "stream",
     "text": [
      " 22%|██▏       | 100/448 [15:39<55:52,  9.63s/it] "
     ]
    },
    {
     "name": "stdout",
     "output_type": "stream",
     "text": [
      "Epoch 9: Batch[100/448] Loss: 0.017541626850143075 IoU: 0.7671372690796852\n",
      "Saving model...\n"
     ]
    },
    {
     "name": "stderr",
     "output_type": "stream",
     "text": [
      " 34%|███▎      | 151/448 [23:44<47:16,  9.55s/it]"
     ]
    },
    {
     "name": "stdout",
     "output_type": "stream",
     "text": [
      "Epoch 9: Batch[150/448] Loss: 0.01885629908569778 IoU: 0.7452060409386952\n"
     ]
    },
    {
     "name": "stderr",
     "output_type": "stream",
     "text": [
      " 45%|████▍     | 200/448 [31:28<38:42,  9.36s/it]"
     ]
    },
    {
     "name": "stdout",
     "output_type": "stream",
     "text": [
      "Epoch 9: Batch[200/448] Loss: 0.019127092268900015 IoU: 0.7404219609498978\n",
      "Saving model...\n"
     ]
    },
    {
     "name": "stderr",
     "output_type": "stream",
     "text": [
      " 56%|█████▌    | 251/448 [39:35<31:15,  9.52s/it]"
     ]
    },
    {
     "name": "stdout",
     "output_type": "stream",
     "text": [
      "Epoch 9: Batch[250/448] Loss: 0.01948485487094149 IoU: 0.7386195687055588\n"
     ]
    },
    {
     "name": "stderr",
     "output_type": "stream",
     "text": [
      " 67%|██████▋   | 300/448 [47:14<22:55,  9.29s/it]"
     ]
    },
    {
     "name": "stdout",
     "output_type": "stream",
     "text": [
      "Epoch 9: Batch[300/448] Loss: 0.018962591269907233 IoU: 0.7439863035082817\n",
      "Saving model...\n"
     ]
    },
    {
     "name": "stderr",
     "output_type": "stream",
     "text": [
      " 78%|███████▊  | 351/448 [55:15<15:06,  9.34s/it]"
     ]
    },
    {
     "name": "stdout",
     "output_type": "stream",
     "text": [
      "Epoch 9: Batch[350/448] Loss: 0.018618171264284424 IoU: 0.748376549908093\n"
     ]
    },
    {
     "name": "stderr",
     "output_type": "stream",
     "text": [
      " 89%|████████▉ | 400/448 [1:02:58<07:34,  9.47s/it]"
     ]
    },
    {
     "name": "stdout",
     "output_type": "stream",
     "text": [
      "Epoch 9: Batch[400/448] Loss: 0.017977243250643368 IoU: 0.7491816403716802\n",
      "Saving model...\n"
     ]
    },
    {
     "name": "stderr",
     "output_type": "stream",
     "text": [
      "100%|██████████| 448/448 [1:10:25<00:00,  9.43s/it]\n"
     ]
    },
    {
     "name": "stdout",
     "output_type": "stream",
     "text": [
      "Epoch [9/100] Loss: 0.01810727453448635 IoU: 0.7462216001669211\n",
      "Saving model...\n"
     ]
    },
    {
     "name": "stderr",
     "output_type": "stream",
     "text": [
      " 11%|█▏        | 51/448 [07:55<59:57,  9.06s/it]  "
     ]
    },
    {
     "name": "stdout",
     "output_type": "stream",
     "text": [
      "Epoch 10: Batch[50/448] Loss: 0.025677183794323356 IoU: 0.724657999649644\n"
     ]
    },
    {
     "name": "stderr",
     "output_type": "stream",
     "text": [
      " 22%|██▏       | 100/448 [15:35<55:39,  9.60s/it] "
     ]
    },
    {
     "name": "stdout",
     "output_type": "stream",
     "text": [
      "Epoch 10: Batch[100/448] Loss: 0.023492899836273864 IoU: 0.7253365399315953\n",
      "Saving model...\n"
     ]
    },
    {
     "name": "stderr",
     "output_type": "stream",
     "text": [
      " 34%|███▎      | 151/448 [23:31<47:02,  9.50s/it]"
     ]
    },
    {
     "name": "stdout",
     "output_type": "stream",
     "text": [
      "Epoch 10: Batch[150/448] Loss: 0.02029245555245628 IoU: 0.7459264377007881\n"
     ]
    },
    {
     "name": "stderr",
     "output_type": "stream",
     "text": [
      " 45%|████▍     | 200/448 [31:12<38:59,  9.44s/it]"
     ]
    },
    {
     "name": "stdout",
     "output_type": "stream",
     "text": [
      "Epoch 10: Batch[200/448] Loss: 0.019713572582695633 IoU: 0.7513974780775606\n",
      "Saving model...\n"
     ]
    },
    {
     "name": "stderr",
     "output_type": "stream",
     "text": [
      " 56%|█████▌    | 251/448 [39:11<31:32,  9.60s/it]"
     ]
    },
    {
     "name": "stdout",
     "output_type": "stream",
     "text": [
      "Epoch 10: Batch[250/448] Loss: 0.01859320260118693 IoU: 0.7541533337384463\n"
     ]
    },
    {
     "name": "stderr",
     "output_type": "stream",
     "text": [
      " 67%|██████▋   | 300/448 [46:50<23:08,  9.38s/it]"
     ]
    },
    {
     "name": "stdout",
     "output_type": "stream",
     "text": [
      "Epoch 10: Batch[300/448] Loss: 0.01819196680871149 IoU: 0.7552181615059574\n",
      "Saving model...\n"
     ]
    },
    {
     "name": "stderr",
     "output_type": "stream",
     "text": [
      " 78%|███████▊  | 351/448 [54:51<15:09,  9.38s/it]"
     ]
    },
    {
     "name": "stdout",
     "output_type": "stream",
     "text": [
      "Epoch 10: Batch[350/448] Loss: 0.018268328194639513 IoU: 0.7552182013328587\n"
     ]
    },
    {
     "name": "stderr",
     "output_type": "stream",
     "text": [
      " 89%|████████▉ | 400/448 [1:02:31<07:28,  9.35s/it]"
     ]
    },
    {
     "name": "stdout",
     "output_type": "stream",
     "text": [
      "Epoch 10: Batch[400/448] Loss: 0.018164795776829123 IoU: 0.7525653592217714\n",
      "Saving model...\n"
     ]
    },
    {
     "name": "stderr",
     "output_type": "stream",
     "text": [
      "100%|██████████| 448/448 [1:09:58<00:00,  9.37s/it]\n"
     ]
    },
    {
     "name": "stdout",
     "output_type": "stream",
     "text": [
      "Epoch [10/100] Loss: 0.017930089541810697 IoU: 0.7503910585323216\n",
      "Saving model...\n"
     ]
    },
    {
     "name": "stderr",
     "output_type": "stream",
     "text": [
      " 11%|█▏        | 51/448 [07:57<1:02:02,  9.38s/it]"
     ]
    },
    {
     "name": "stdout",
     "output_type": "stream",
     "text": [
      "Epoch 11: Batch[50/448] Loss: 0.030338494735769928 IoU: 0.7026647785305977\n"
     ]
    },
    {
     "name": "stderr",
     "output_type": "stream",
     "text": [
      " 22%|██▏       | 100/448 [15:37<54:32,  9.40s/it] "
     ]
    },
    {
     "name": "stdout",
     "output_type": "stream",
     "text": [
      "Epoch 11: Batch[100/448] Loss: 0.024738448977004737 IoU: 0.7129010047018528\n",
      "Saving model...\n"
     ]
    },
    {
     "name": "stderr",
     "output_type": "stream",
     "text": [
      " 34%|███▎      | 151/448 [23:41<47:11,  9.53s/it]"
     ]
    },
    {
     "name": "stdout",
     "output_type": "stream",
     "text": [
      "Epoch 11: Batch[150/448] Loss: 0.023430706958752125 IoU: 0.6996164667109649\n"
     ]
    },
    {
     "name": "stderr",
     "output_type": "stream",
     "text": [
      " 45%|████▍     | 200/448 [31:28<38:46,  9.38s/it]"
     ]
    },
    {
     "name": "stdout",
     "output_type": "stream",
     "text": [
      "Epoch 11: Batch[200/448] Loss: 0.023138308561756277 IoU: 0.7047186535224319\n",
      "Saving model...\n"
     ]
    },
    {
     "name": "stderr",
     "output_type": "stream",
     "text": [
      " 56%|█████▌    | 251/448 [39:25<30:38,  9.33s/it]"
     ]
    },
    {
     "name": "stdout",
     "output_type": "stream",
     "text": [
      "Epoch 11: Batch[250/448] Loss: 0.021604607549961657 IoU: 0.7174608320891858\n"
     ]
    },
    {
     "name": "stderr",
     "output_type": "stream",
     "text": [
      " 67%|██████▋   | 300/448 [47:07<23:01,  9.33s/it]"
     ]
    },
    {
     "name": "stdout",
     "output_type": "stream",
     "text": [
      "Epoch 11: Batch[300/448] Loss: 0.02134396364019873 IoU: 0.7185859007388353\n",
      "Saving model...\n"
     ]
    },
    {
     "name": "stderr",
     "output_type": "stream",
     "text": [
      " 78%|███████▊  | 351/448 [55:10<15:08,  9.37s/it]"
     ]
    },
    {
     "name": "stdout",
     "output_type": "stream",
     "text": [
      "Epoch 11: Batch[350/448] Loss: 0.020675149040097103 IoU: 0.7202857687643596\n"
     ]
    },
    {
     "name": "stderr",
     "output_type": "stream",
     "text": [
      " 89%|████████▉ | 400/448 [1:02:51<07:30,  9.39s/it]"
     ]
    },
    {
     "name": "stdout",
     "output_type": "stream",
     "text": [
      "Epoch 11: Batch[400/448] Loss: 0.020395316814247052 IoU: 0.7208462344110012\n",
      "Saving model...\n"
     ]
    },
    {
     "name": "stderr",
     "output_type": "stream",
     "text": [
      "100%|██████████| 448/448 [1:10:22<00:00,  9.43s/it]\n"
     ]
    },
    {
     "name": "stdout",
     "output_type": "stream",
     "text": [
      "Epoch [11/100] Loss: 0.0198812581641375 IoU: 0.7185658780259213\n",
      "EarlyStopping counter: 1 out of 5\n"
     ]
    },
    {
     "name": "stderr",
     "output_type": "stream",
     "text": [
      " 11%|█▏        | 51/448 [08:05<1:02:24,  9.43s/it]"
     ]
    },
    {
     "name": "stdout",
     "output_type": "stream",
     "text": [
      "Epoch 12: Batch[50/448] Loss: 0.014735944066196681 IoU: 0.8095417672395706\n"
     ]
    },
    {
     "name": "stderr",
     "output_type": "stream",
     "text": [
      " 14%|█▍        | 62/448 [09:48<1:01:03,  9.49s/it]"
     ]
    }
   ],
   "source": [
    "\n",
    "# Training loop\n",
    "num_epochs = 100\n",
    "model.to(device1)\n",
    "best_loss = 1.0\n",
    "best_iou = 0.0\n",
    "log_file = open(\"training_log6.txt\", \"w\")\n",
    "for epoch in range(0,num_epochs):\n",
    "    model.train()\n",
    "    total_loss = 0.0\n",
    "    total_iou = 0.0\n",
    "    for i,(inputs, labels) in enumerate(tqdm(train_loader)):\n",
    "        gpu = torch.cuda.get_device_properties(device1)\n",
    "        #print(f'{device1}: {gpu.name}, Total Memory: {gpu.total_memory / 1024**2:.2f} MB, Free Memory: {torch.cuda.max_memory_allocated(device1) / 1024**2:.2f} MB')\n",
    "        #print(torch.cuda.memory_allocated(device1))\n",
    "        #print(torch.cuda.max_memory_allocated(device1))\n",
    "        if torch.cuda.memory_allocated(device1) > 0.9 * gpu.total_memory:\n",
    "            model = model.to(device2)\n",
    "            device1, device2 = device2, device1\n",
    "            print('changed gpu')\n",
    "            #inputs, labels = inputs.to(device1), labels.to(device1)\n",
    "            model = model.to(device1)\n",
    "            \n",
    "        inputs, labels = inputs.permute(0, 3, 1, 2).to(device1), labels.permute(0, 3, 1, 2).to(device1)\n",
    "        #print(inputs.shape)\n",
    "        #print(labels.shape)\n",
    "        optimizer.zero_grad()\n",
    "        outputs = model(inputs)\n",
    "        iou = mean_iou(outputs, labels)\n",
    "        loss = criterion(outputs, labels)\n",
    "        loss.backward()\n",
    "        optimizer.step()\n",
    "        total_loss += loss.item()\n",
    "        total_iou += iou.item()\n",
    "\n",
    "        if i % 50 == 0 and i != 0:\n",
    "            print(f\"Epoch {epoch+1}: Batch[{i}/{len(train_loader)}] Loss: {total_loss / i} IoU: {total_iou / i}\")\n",
    "            if i % 100 == 0:\n",
    "                print(f'Saving model...')\n",
    "                torch.save(model.state_dict(), 'checkpoint.pth')\n",
    "    avg_loss = total_loss / len(train_loader)\n",
    "    avg_iou = total_iou / len(train_loader)\n",
    "    print(f\"Epoch [{epoch+1}/{num_epochs}] Loss: {avg_loss} IoU: {avg_iou}\")\n",
    "\n",
    "    best_loss = min(best_loss,avg_loss)\n",
    "    best_iou = max(best_iou,avg_iou)\n",
    "\n",
    "    log_file.write(f\"Epoch [{epoch+1}/{num_epochs}] Loss: {avg_loss} IoU: {avg_iou}\\n\")\n",
    "    log_file.write(f'Best loss: {best_loss}, Best IoU: {best_iou}\\n\\n')\n",
    "    log_file.flush()\n",
    "\n",
    "    if early_stopping(avg_loss, model):\n",
    "        print('Early stopping triggered')\n",
    "        break\n",
    "print(f'Best loss is {best_loss}, besst iou is {best_iou}')\n"
   ]
  },
  {
   "cell_type": "code",
   "execution_count": null,
   "metadata": {},
   "outputs": [
    {
     "name": "stderr",
     "output_type": "stream",
     "text": [
      "  0%|          | 0/56 [00:00<?, ?it/s]"
     ]
    },
    {
     "name": "stderr",
     "output_type": "stream",
     "text": [
      "100%|██████████| 56/56 [00:56<00:00,  1.01s/it]\n"
     ]
    }
   ],
   "source": [
    "model = model.to(device2)\n",
    "model.eval()\n",
    "with torch.no_grad():\n",
    "    for inputs in tqdm(val_loader):\n",
    "        inputs = inputs[0].permute(0, 3, 1, 2).to(device2)\n",
    "        outputs = model(inputs)\n",
    "#torch.save(model.state_dict(),'cell_segment.pth')\n",
    "#prediction\n",
    "#X_train = torch.Tensor(X_train).permute(0, 3, 1, 2).to(device)\n",
    "model=model.to(device1)\n",
    "X_test = torch.Tensor(X_test).permute(0, 3, 1, 2)\n",
    "val_X = x_val_tensor.permute(0,3,1,2)\n",
    "with torch.no_grad():\n",
    "    #preds_train = model(X_train[:int(X_train.shape[0]*0.9)])\n",
    "    #preds_val = model(X_train[int(X_train.shape[0]*0.9):])\n",
    "    #preds_train = model(x_train_tensor.permute(0,3,1,2).to(device2))\n",
    "    preds_val = model(val_X[:int(val_X.shape[0]*0.06)].to(device1))\n",
    "    preds_test = model(X_test[:int(X_test.shape[0]*0.06)].to(device1))\n",
    "\n",
    "\n",
    "# Threshold predictions\n",
    "threshold = 0.5\n",
    "#preds_train_t = (preds_train > threshold).byte()\n",
    "preds_val_t = (preds_val > threshold)\n",
    "preds_test_t = (preds_test > threshold)\n",
    "\n",
    "# # Create a list of upsampled test masks\n",
    "# preds_test_upsampled = []\n",
    "# for i in range(len(preds_test)):\n",
    "#     preds_test_upsampled.append(np.squeeze(preds_test_t[i]))\n"
   ]
  },
  {
   "cell_type": "code",
   "execution_count": null,
   "metadata": {},
   "outputs": [],
   "source": [
    "import random\n",
    "import matplotlib.pyplot as plt\n",
    "\n",
    "X_test = torch.Tensor(X_test).permute(0, 2, 3, 1)\n"
   ]
  },
  {
   "cell_type": "code",
   "execution_count": null,
   "metadata": {},
   "outputs": [
    {
     "name": "stdout",
     "output_type": "stream",
     "text": [
      "torch.Size([6, 2, 1024, 1024])\n"
     ]
    }
   ],
   "source": [
    "#print(preds_test_t.shape)"
   ]
  },
  {
   "cell_type": "code",
   "execution_count": null,
   "metadata": {},
   "outputs": [
    {
     "data": {
      "image/png": "[encoded data removed]",
      "text/plain": [
       "<Figure size 640x480 with 2 Axes>"
      ]
     },
     "metadata": {},
     "output_type": "display_data"
    },
    {
     "data": {
      "image/png": "[encoded data removed]",
      "text/plain": [
       "<Figure size 640x480 with 1 Axes>"
      ]
     },
     "metadata": {},
     "output_type": "display_data"
    }
   ],
   "source": [
    "random_index = random.randint(0, len(preds_test_t) - 1)\n",
    "test_image = X_test[random_index,:, :, 0].cpu()\n",
    "predicted_mask = preds_test_t[random_index].cpu().numpy()\n",
    "# predicted_mask_1 = preds_test_t[random_index][0].cpu().numpy()\n",
    "# predicted_mask_2 = preds_test_t[random_index][1].cpu().numpy()\n",
    "\n",
    "# predicted_mask = np.zeros_like(predicted_mask_1,dtype=np.uint8)\n",
    "# predicted_mask[predicted_mask_1>0] = [255,255,0]\n",
    "# predicted_mask[predicted_mask_2>0] = [128,0,128]\n",
    "\n",
    "predicted_mask = np.transpose(predicted_mask, (1, 2, 0))\n",
    "\n",
    "# print(test_image.shape)\n",
    "# print(predicted_mask.shape)\n",
    "#plt.figure(figsize=(10, 5))\n",
    "plt.subplot(1, 2, 1)\n",
    "#plt.imshow(test_image, cmap='gray')\n",
    "plt.imshow(test_image, cmap='gray')\n",
    "plt.title(\"Test Image\")\n",
    "plt.axis('off')\n",
    "\n",
    "plt.subplot(1, 2, 2)\n",
    "# plt.imshow(predicted_mask)\n",
    "# plt.title(\"Predicted Mask\")\n",
    "show_mask(predicted_mask,\"Predicted Mask\")\n",
    "plt.axis('off')\n",
    "\n",
    "plt.show()\n"
   ]
  },
  {
   "cell_type": "code",
   "execution_count": null,
   "metadata": {},
   "outputs": [],
   "source": [
    "for i in range(len(preds_test_t) - 1):\n",
    "    predicted_mask = preds_test_t[i].cpu().numpy()\n",
    "    predicted_mask = np.transpose(predicted_mask, (1, 2, 0))\n",
    "    mask1 = predicted_mask[..., 0]  # Assuming the first mask is at index 0\n",
    "    mask2 = predicted_mask[..., 1]  # Assuming the second mask is at index 1\n",
    "\n",
    "    mask_show = np.zeros((*mask1.shape, 3), dtype=np.uint8)  # Create a 3-channel mask\n",
    "\n",
    "    mask_show[mask1] = [255, 255, 0]  \n",
    "    mask_show[mask2] = [128, 0, 128] \n",
    "    #plt.imshow(mask_show)\n",
    "    mask_name = os.path.join( './result/test',f'predicted_mask_{i}.jpg')\n",
    "    image_name = os.path.join('./result/test', f'image_{i}.jpg')\n",
    "    dead_mask = os.path.join( './result/test',f'dead_predicted_mask_{i}.jpg')\n",
    "    live_mask = os.path.join( './result/test',f'live_predicted_mask_{i}.jpg')\n",
    "    plt.imsave(mask_name, mask_show)\n",
    "    plt.imsave(image_name,X_test[i,:, :, 0].cpu(), cmap='gray')\n",
    "\n"
   ]
  },
  {
   "cell_type": "code",
   "execution_count": null,
   "metadata": {},
   "outputs": [],
   "source": [
    "for i in range(4):\n",
    "    predicted_mask = preds_test_t[i].cpu().numpy()\n",
    "    predicted_mask = np.transpose(predicted_mask, (1, 2, 0))\n",
    "    mask1 = predicted_mask[..., 0]  # Assuming the first mask is at index 0\n",
    "    mask2 = predicted_mask[..., 1]  # Assuming the second mask is at index 1\n",
    "    if mask2.any()>0:\n",
    "        print(True)\n",
    "    # plt.subplot(i+1, 2, 1)\n",
    "    # plt.imshow(mask1,cmap='gray')\n",
    "    # plt.subplot(i+1, 2, 2)\n",
    "    # plt.imshow(mask2,cmap='gray')"
   ]
  },
  {
   "cell_type": "code",
   "execution_count": null,
   "metadata": {},
   "outputs": [
    {
     "data": {
      "text/plain": [
       "\"\\nimport random\\nimport torch\\nimport matplotlib.pyplot as plt\\n\\n# Define a function to display images\\ndef imshow_tensor(tensor):\\n    # Ensure the tensor is on the CPU and convert it to a NumPy array\\n    #tensor = tensor.cpu().numpy()\\n\\n    # If the tensor is 3D (C, H, W) and has a single channel, squeeze it to (H, W)\\n    if len(tensor.shape) == 3 and tensor.shape[0] == 1:\\n        tensor = tensor.squeeze(0)\\n\\n    # Display the image\\n    plt.imshow(tensor, cmap='gray')\\n    plt.show()\\n\\n# Move your tensors to CPU (if they are not already)\\nX_train_cpu = x\\nY_train_cpu = y\\n\\n# Perform a sanity check on some random training samples\\nix = random.randint(0, len(preds_train_t))\\nimshow_tensor(X_train_cpu[ix])\\nimshow_tensor(Y_train_cpu[ix])\\nimshow_tensor(preds_train_t[ix].cpu())\\n\""
      ]
     },
     "execution_count": 44,
     "metadata": {},
     "output_type": "execute_result"
    }
   ],
   "source": [
    "'''\n",
    "import random\n",
    "import torch\n",
    "import matplotlib.pyplot as plt\n",
    "\n",
    "# Define a function to display images\n",
    "def imshow_tensor(tensor):\n",
    "    # Ensure the tensor is on the CPU and convert it to a NumPy array\n",
    "    #tensor = tensor.cpu().numpy()\n",
    "\n",
    "    # If the tensor is 3D (C, H, W) and has a single channel, squeeze it to (H, W)\n",
    "    if len(tensor.shape) == 3 and tensor.shape[0] == 1:\n",
    "        tensor = tensor.squeeze(0)\n",
    "\n",
    "    # Display the image\n",
    "    plt.imshow(tensor, cmap='gray')\n",
    "    plt.show()\n",
    "\n",
    "# Move your tensors to CPU (if they are not already)\n",
    "X_train_cpu = x\n",
    "Y_train_cpu = y\n",
    "\n",
    "# Perform a sanity check on some random training samples\n",
    "ix = random.randint(0, len(preds_train_t))\n",
    "imshow_tensor(X_train_cpu[ix])\n",
    "imshow_tensor(Y_train_cpu[ix])\n",
    "imshow_tensor(preds_train_t[ix].cpu())\n",
    "'''\n"
   ]
  },
  {
   "cell_type": "code",
   "execution_count": null,
   "metadata": {},
   "outputs": [
    {
     "data": {
      "image/png": "[encoded data removed]",
      "text/plain": [
       "<Figure size 640x480 with 1 Axes>"
      ]
     },
     "metadata": {},
     "output_type": "display_data"
    },
    {
     "data": {
      "image/png": "[encoded data removed]",
      "text/plain": [
       "<Figure size 640x480 with 1 Axes>"
      ]
     },
     "metadata": {},
     "output_type": "display_data"
    },
    {
     "data": {
      "image/png": "[encoded data removed]",
      "text/plain": [
       "<Figure size 640x480 with 1 Axes>"
      ]
     },
     "metadata": {},
     "output_type": "display_data"
    }
   ],
   "source": [
    "import random\n",
    "import torch\n",
    "import matplotlib.pyplot as plt\n",
    "\n",
    "# Define a function to display images\n",
    "def imshow_tensor(tensor):\n",
    "    # Ensure the tensor is on the CPU and convert it to a NumPy array\n",
    "    #tensor = tensor.cpu().numpy()\n",
    "\n",
    "    # If the tensor is 3D (C, H, W) and has a single channel, squeeze it to (H, W)\n",
    "    if len(tensor.shape) == 3 and tensor.shape[0] == 1:\n",
    "        tensor = tensor.squeeze(0)\n",
    "    \n",
    "    if tensor.shape[0] == 3:\n",
    "        tensor = np.transpose(tensor, (1, 2, 0))\n",
    "\n",
    "    # Display the image\n",
    "    plt.imshow(tensor, cmap='gray')\n",
    "    plt.show()\n",
    "\n",
    "# Move your tensors to CPU (if they are not already)\n",
    "X_val_cpu = x_val\n",
    "Y_val_cpu = y_val\n",
    "\n",
    "# Perform a sanity check on some random training samples\n",
    "ix = random.randint(0, len(preds_val_t)-1)\n",
    "predicted_val_mask = preds_val_t[ix].cpu().numpy()\n",
    "predicted_val_mask = np.transpose(predicted_val_mask,(1,2,0))\n",
    "\n",
    "imshow_tensor(X_val_cpu[ix,:,:,0])\n",
    "#imshow_tensor(Y_val_cpu[ix])\n",
    "show_mask(Y_val_cpu[ix])\n",
    "#imshow_tensor(np.squeeze(preds_val[ix]).cpu().astype(np.float32) / 255.0)\n",
    "show_mask(predicted_val_mask)"
   ]
  },
  {
   "cell_type": "code",
   "execution_count": null,
   "metadata": {},
   "outputs": [],
   "source": [
    "import cv2\n",
    "\n",
    "for i in range(len(preds_val_t) - 1):\n",
    "    predicted_mask = preds_val_t[i].cpu().numpy()\n",
    "    predicted_mask = np.transpose(predicted_mask, (1, 2, 0))\n",
    "    mask1 = predicted_mask[..., 0]  # Assuming the first mask is at index 0\n",
    "    mask2 = predicted_mask[..., 1]  # Assuming the second mask is at index 1\n",
    "\n",
    "    mask_show = np.zeros((*mask1.shape, 3), dtype=np.uint8)  # Create a 3-channel mask\n",
    "    mask_show[mask1] = [255, 255, 0]  \n",
    "    mask_show[mask2] = [128, 0, 128] \n",
    "\n",
    "    ground1 = Y_val_cpu[i][..., 0]\n",
    "    ground2 = Y_val_cpu[i][..., 1]\n",
    "\n",
    "    ground_show = np.zeros((*ground1.shape, 3), dtype=np.uint8) \n",
    "    ground_show[ground1] = [255, 255, 0]  \n",
    "    ground_show[ground2] = [128, 0, 128] \n",
    "\n",
    "    mask_name = os.path.join( './result/val',f'predicted_mask_{i}.jpg')\n",
    "    image_name = os.path.join('./result/val', f'image_{i}.jpg')\n",
    "    ground_name = os.path.join('./result/val',f'ground_truth_{i}.jpg')\n",
    "\n",
    "    plt.imsave(mask_name, mask_show)\n",
    "    plt.imsave(image_name,X_val_cpu[i,:, :, 0], cmap='gray')\n",
    "    plt.imsave(ground_name,ground_show)\n"
   ]
  },
  {
   "cell_type": "code",
   "execution_count": null,
   "metadata": {},
   "outputs": [],
   "source": [
    "# # Run-length encoding stolen from https://www.kaggle.com/rakhlin/fast-run-length-encoding-python\n",
    "# def rle_encoding(x):\n",
    "#     dots = np.where(x.T.flatten() == 1)[0]\n",
    "#     run_lengths = []\n",
    "#     prev = -2\n",
    "#     for b in dots:\n",
    "#         if (b>prev+1): run_lengths.extend((b + 1, 0))\n",
    "#         run_lengths[-1] += 1\n",
    "#         prev = b\n",
    "#     return run_lengths\n",
    "\n",
    "# def prob_to_rles(x, cutoff=0.5):\n",
    "#     lab_img = label(x > cutoff)\n",
    "#     for i in range(1, lab_img.max() + 1):\n",
    "#         yield rle_encoding(lab_img == i)\n",
    "# new_test_ids = []\n",
    "# rles = []\n",
    "# for n, id_ in enumerate(test_ids):\n",
    "#     if n > len(preds_test_t) - 1:\n",
    "#         n = len(preds_test_t) - 1\n",
    "#     rle = list(prob_to_rles(preds_test_t[n].cpu()))\n",
    "#     rles.extend(rle)\n",
    "#     new_test_ids.extend([id_] * len(rle))\n",
    "#print(rles)"
   ]
  },
  {
   "cell_type": "code",
   "execution_count": null,
   "metadata": {},
   "outputs": [],
   "source": [
    "# import torch.onnx\n",
    "\n",
    "# dummy_input = torch.randn(1, 3, 128, 128).to(device1)\n",
    "\n",
    "# model.eval()\n",
    "\n",
    "# onnx_file_path = \"unet_model.onnx\"\n",
    "# torch.onnx.export(model, dummy_input, onnx_file_path, verbose=False)\n",
    "\n",
    "# print(f\"ONNX saved in: {onnx_file_path}\")\n",
    "\n"
   ]
  },
  {
   "cell_type": "code",
   "execution_count": null,
   "metadata": {},
   "outputs": [],
   "source": [
    "# image =X.to(device2)\n",
    "# output = model(image)\n",
    "\n"
   ]
  }
 ],
 "metadata": {
  "kernelspec": {
   "display_name": "Python 3 (ipykernel)",
   "language": "python",
   "name": "python3"
  },
  "language_info": {
   "codemirror_mode": {
    "name": "ipython",
    "version": 3
   },
   "file_extension": ".py",
   "mimetype": "text/x-python",
   "name": "python",
   "nbconvert_exporter": "python",
   "pygments_lexer": "ipython3",
   "version": "3.9.18"
  }
 },
 "nbformat": 4,
 "nbformat_minor": 4
}
