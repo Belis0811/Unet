{
 "cells": [
  {
   "cell_type": "code",
   "execution_count": 3,
   "metadata": {},
   "outputs": [],
   "source": [
    "import onnxruntime\n",
    "import numpy as np\n"
   ]
  },
  {
   "cell_type": "code",
   "execution_count": 4,
   "metadata": {},
   "outputs": [
    {
     "name": "stdout",
     "output_type": "stream",
     "text": [
      "Inference result: [array([[[[-0.7709678 , -2.052516  , -2.7582784 , ..., -2.5744793 ,\n",
      "          -1.704358  , -0.4262418 ],\n",
      "         [-2.0804296 , -4.3239503 , -5.5478425 , ..., -5.3825197 ,\n",
      "          -3.8561459 , -1.6036515 ],\n",
      "         [-2.5568562 , -5.2947807 , -6.805769  , ..., -6.920698  ,\n",
      "          -5.1042614 , -2.3123002 ],\n",
      "         ...,\n",
      "         [-1.632753  , -3.5010443 , -4.2494073 , ..., -2.8503852 ,\n",
      "          -1.8615975 , -0.63150525],\n",
      "         [-1.2841284 , -2.7204208 , -3.1340508 , ..., -2.159665  ,\n",
      "          -1.4389132 , -0.35598645],\n",
      "         [-0.3356486 , -1.1417845 , -1.2988963 , ..., -0.8674326 ,\n",
      "          -0.45725814,  0.22155644]]]], dtype=float32)]\n"
     ]
    },
    {
     "name": "stderr",
     "output_type": "stream",
     "text": [
      "/home/chenzhong/miniconda3/envs/resnet_anzhe/lib/python3.9/site-packages/onnxruntime/capi/onnxruntime_inference_collection.py:69: UserWarning: Specified provider 'CUDAExecutionProvider' is not in available provider names.Available providers: 'AzureExecutionProvider, CPUExecutionProvider'\n",
      "  warnings.warn(\n"
     ]
    }
   ],
   "source": [
    "\n",
    "onnx_file_path = \"unet_model.onnx\"\n",
    "session = onnxruntime.InferenceSession(onnx_file_path, providers=['CUDAExecutionProvider'])\n",
    "\n",
    "input_data = np.random.randn(1, 3, 128, 128).astype(np.float32) \n",
    "\n",
    "input_name = session.get_inputs()[0].name\n",
    "output_name = session.get_outputs()[0].name\n",
    "result = session.run([output_name], {input_name: input_data})\n",
    "\n",
    "print(\"Inference result:\", result)\n"
   ]
  }
 ],
 "metadata": {
  "kernelspec": {
   "display_name": "resnet_anzhe",
   "language": "python",
   "name": "python3"
  },
  "language_info": {
   "codemirror_mode": {
    "name": "ipython",
    "version": 3
   },
   "file_extension": ".py",
   "mimetype": "text/x-python",
   "name": "python",
   "nbconvert_exporter": "python",
   "pygments_lexer": "ipython3",
   "version": "3.9.18"
  }
 },
 "nbformat": 4,
 "nbformat_minor": 2
}
