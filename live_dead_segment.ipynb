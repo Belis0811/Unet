{
 "cells": [
  {
   "cell_type": "code",
   "execution_count": 1,
   "metadata": {},
   "outputs": [
    {
     "name": "stderr",
     "output_type": "stream",
     "text": [
      "/home/chenzhong/miniconda3/envs/anzhe/lib/python3.10/site-packages/scipy/__init__.py:146: UserWarning: A NumPy version >=1.17.3 and <1.25.0 is required for this version of SciPy (detected version 1.26.4\n",
      "  warnings.warn(f\"A NumPy version >={np_minversion} and <{np_maxversion}\"\n",
      "/home/chenzhong/miniconda3/envs/anzhe/lib/python3.10/site-packages/tqdm/auto.py:21: TqdmWarning: IProgress not found. Please update jupyter and ipywidgets. See https://ipywidgets.readthedocs.io/en/stable/user_install.html\n",
      "  from .autonotebook import tqdm as notebook_tqdm\n"
     ]
    }
   ],
   "source": [
    "import os\n",
    "import sys\n",
    "import random\n",
    "import warnings\n",
    "\n",
    "import numpy as np\n",
    "import pandas as pd\n",
    "\n",
    "import matplotlib.pyplot as plt\n",
    "\n",
    "from tqdm import tqdm\n",
    "from itertools import chain\n",
    "from skimage.io import imread, imshow, imread_collection, concatenate_images\n",
    "from skimage.transform import resize\n",
    "from skimage.morphology import label\n",
    "\n",
    "import torch\n",
    "import torch.nn as nn\n",
    "import torch.optim as optim\n",
    "import torch.utils.data as data\n",
    "import torchvision.transforms as transforms\n",
    "import torch.nn.functional as F\n",
    "\n",
    "'''\n",
    "from google.colab import drive\n",
    "drive.mount('/content/drive')\n",
    "'''\n",
    "\n",
    "# Set some parameters\n",
    "BATCH_SIZE = 7 # the higher the better\n",
    "IMG_WIDTH = 512 # for faster computing on kaggle\n",
    "IMG_HEIGHT = 512 # for faster computing on kaggle\n",
    "IMG_CHANNELS = 3\n",
    "\n",
    "#TRAIN_PATH = '/content/drive/My Drive/UNet/Cell'\n",
    "#TEST_PATH = '/content/drive/My Drive/UNet/Cell'\n",
    "\n",
    "TRAIN_PATH = './Cell/'\n",
    "TEST_PATH = './Cell/'\n",
    "\n",
    "warnings.filterwarnings('ignore', category=UserWarning, module='skimage')\n",
    "seed = 42"
   ]
  },
  {
   "cell_type": "code",
   "execution_count": 2,
   "metadata": {},
   "outputs": [],
   "source": [
    "X_train = np.load('X.npy')\n",
    "Y_train = np.load('Y.npy')"
   ]
  },
  {
   "cell_type": "code",
   "execution_count": 3,
   "metadata": {},
   "outputs": [],
   "source": [
    "import torchvision.transforms as transforms\n",
    "from torch.utils.data import TensorDataset, DataLoader\n",
    "from torchvision.datasets import ImageFolder\n",
    "from sklearn.model_selection import train_test_split\n",
    "import torch.distributed as dist\n",
    "from torch.nn.parallel import DistributedDataParallel\n",
    "\n",
    "# os.environ['MASTER_ADDR'] = 'localhost'\n",
    "# os.environ['MASTER_PORT'] = '12355'\n",
    "# os.environ['WORLD_SIZE'] = '20'\n",
    "# os.environ['RANK'] = '0'\n",
    "# dist.init_process_group(backend='nccl')\n",
    "\n",
    "#x, y, x_val, y_val = train_test_split(X_train, Y_train, test_size=0.1, random_state=seed)\n",
    "#split dataset to 80% 10% 10%\n",
    "split_ratio = 0.8\n",
    "split_idx = int(X_train.shape[0] * split_ratio)\n",
    "\n",
    "x = X_train[:split_idx]\n",
    "y = Y_train[:split_idx]\n",
    "x_val = X_train[split_idx:]\n",
    "y_val = Y_train[split_idx:]\n",
    "\n",
    "test_ratio = 0.5\n",
    "split_test = int(x_val.shape[0]*test_ratio)\n",
    "\n",
    "X_test = x_val[split_test:]\n",
    "#test_ids = X_test\n",
    "\n",
    "x_val = x_val[:split_test]\n",
    "y_val = y_val[:split_test]\n",
    "\n",
    "# print(x.shape)\n",
    "# print(y.shape)\n",
    "\n",
    "########when label is matched delete this#######################\n",
    "#x = x[:93]\n",
    "#x_val = x_val[:93]\n",
    "################################################################\n",
    "x_train_tensor = torch.from_numpy(x)\n",
    "y_train_tensor = torch.from_numpy(y)\n",
    "# x_train_tensor = torch.tensor(x_train_tensor, dtype=torch.float32)\n",
    "# y_train_tensor = torch.tensor(y_train_tensor, dtype=torch.float32)\n",
    "x_train_tensor = x_train_tensor.to(torch.float32).clone().detach().requires_grad_(True)\n",
    "y_train_tensor = y_train_tensor.to(torch.float32).clone().detach().requires_grad_(True)\n",
    "#print(x_train_tensor.shape)\n",
    "#print(y_train_tensor.shape)\n",
    "x_val_tensor = torch.from_numpy(x_val)\n",
    "y_val_tensor = torch.from_numpy(y_val)\n",
    "# x_val_tensor = torch.tensor(x_val_tensor, dtype=torch.float32)\n",
    "# y_val_tensor = torch.tensor(y_val_tensor, dtype=torch.float32)\n",
    "x_val_tensor = x_val_tensor.to(torch.float32).clone().detach().requires_grad_(True)\n",
    "y_val_tensor = y_val_tensor.to(torch.float32).clone().detach().requires_grad_(True)\n",
    "\n",
    "train_dataset = TensorDataset(x_train_tensor, y_train_tensor)\n",
    "val_dataset = TensorDataset(x_val_tensor, y_val_tensor)\n",
    "\n",
    "# train_sampler = torch.utils.data.distributed.DistributedSampler(train_dataset)\n",
    "# val_sampler = torch.utils.data.distributed.DistributedSampler(val_dataset)\n",
    "\n",
    "train_loader = DataLoader(train_dataset, batch_size=BATCH_SIZE, shuffle=True, pin_memory=True)\n",
    "val_loader = DataLoader(val_dataset, batch_size=BATCH_SIZE, shuffle=False, pin_memory=True)\n"
   ]
  },
  {
   "cell_type": "code",
   "execution_count": 4,
   "metadata": {},
   "outputs": [],
   "source": [
    "def show_mask(mask, title=None):\n",
    "    cmap = plt.cm.colors.ListedColormap(['black', 'green', 'yellow'])  \n",
    "    bounds = [-0.5, 0.5, 1.5, 2.5]  \n",
    "    norm = plt.cm.colors.BoundaryNorm(bounds, cmap.N)\n",
    "    \n",
    "    plt.imshow(mask, cmap=cmap, norm=norm)\n",
    "    cbar = plt.colorbar(ticks=[0, 1, 2])\n",
    "    cbar.ax.set_yticklabels(['Background', 'Live', 'Dead'])\n",
    "    plt.axis('off')\n",
    "    if title:\n",
    "        plt.title(title)\n",
    "    plt.show()"
   ]
  },
  {
   "cell_type": "code",
   "execution_count": 5,
   "metadata": {},
   "outputs": [
    {
     "data": {
      "image/png": "[encoded data removed]",
      "text/plain": [
       "<Figure size 1000x500 with 3 Axes>"
      ]
     },
     "metadata": {},
     "output_type": "display_data"
    },
    {
     "data": {
      "image/png": "[encoded data removed]",
      "text/plain": [
       "<Figure size 1000x500 with 3 Axes>"
      ]
     },
     "metadata": {},
     "output_type": "display_data"
    }
   ],
   "source": [
    "\n",
    "import torchvision.transforms as transforms\n",
    "from torchvision.utils import make_grid\n",
    "import matplotlib.pyplot as plt\n",
    "from matplotlib.colors import Normalize\n",
    "\n",
    "\n",
    "plt.figure(figsize=(10, 5))\n",
    "plt.subplot(1, 2, 1)\n",
    "plt.imshow(x[5,:,:,0], cmap='gray')\n",
    "plt.title(\"Images\")\n",
    "plt.axis('off')\n",
    "\n",
    "plt.subplot(1, 2, 2)\n",
    "show_mask(y[5],\"Mask\")\n",
    "\n",
    "plt.figure(figsize=(10, 5))\n",
    "plt.subplot(2, 2, 1)\n",
    "plt.imshow(x_val[5,:,:,0], cmap='gray')\n",
    "plt.title(\"Val_Images\")\n",
    "plt.axis('off')\n",
    "\n",
    "plt.subplot(2, 2, 2)\n",
    "show_mask(y_val[5],\"Val_Mask\")\n",
    "#creating a training and validation generator that generate masks and images\n",
    "#train_generator = zip(x, y)\n",
    "#val_generator = zip(x_val, y_val)\n"
   ]
  },
  {
   "cell_type": "code",
   "execution_count": 6,
   "metadata": {},
   "outputs": [],
   "source": [
    "# Define IoU metric\n",
    "import torch\n",
    "\n",
    "# def mean_iou(y_pred, y_true, num_classes=3):\n",
    "#     prec = []\n",
    "    \n",
    "#     for class_id in range(num_classes):\n",
    "#         intersection = torch.sum((y_true == class_id) & (y_pred == class_id))\n",
    "#         union = torch.sum((y_true == class_id) | (y_pred == class_id))\n",
    "        \n",
    "#         # Ensure union is not zero\n",
    "#         union = torch.where(union == 0, torch.ones_like(union), union)\n",
    "        \n",
    "#         iou = intersection.float() / union.float()\n",
    "#         prec.append(iou.item()) \n",
    "        \n",
    "#     return torch.mean(torch.tensor(prec))\n",
    "\n",
    "def mean_iou(y_pred, y_true, num_classes=3):\n",
    "    \n",
    "    y_pred = torch.argmax(y_pred, dim=1)\n",
    "\n",
    "    iou_list = []\n",
    "    \n",
    "    for class_id in range(num_classes):\n",
    "       \n",
    "        intersection = torch.sum((y_true == class_id) & (y_pred == class_id))\n",
    "        union = torch.sum((y_true == class_id) | (y_pred == class_id))\n",
    "        \n",
    "        \n",
    "        if union == 0:\n",
    "            iou = torch.tensor(1.0)\n",
    "        else:\n",
    "            iou = intersection.float() / union.float()\n",
    "        \n",
    "        iou_list.append(iou)\n",
    "\n",
    "    return torch.mean(torch.tensor(iou_list))\n",
    "\n",
    "\n"
   ]
  },
  {
   "cell_type": "code",
   "execution_count": 7,
   "metadata": {},
   "outputs": [],
   "source": [
    "class SelfAttention(nn.Module):\n",
    "    def __init__(self, channels, size):\n",
    "        super(SelfAttention, self).__init__()\n",
    "        self.channels = channels\n",
    "        self.size = size\n",
    "        self.mha = nn.MultiheadAttention(channels, 4, batch_first=True)\n",
    "        self.ln = nn.LayerNorm([channels])\n",
    "        self.ff_self = nn.Sequential(\n",
    "            nn.LayerNorm([channels]),\n",
    "            nn.Linear(channels, channels),\n",
    "            nn.GELU(),\n",
    "            nn.Linear(channels, channels),\n",
    "        )\n",
    "\n",
    "    def forward(self, x):\n",
    "        x = x.view(-1, self.channels, self.size * self.size).swapaxes(1, 2)\n",
    "        x_ln = self.ln(x)\n",
    "        attention_value, _ = self.mha(x_ln, x_ln, x_ln)\n",
    "        attention_value = attention_value + x\n",
    "        attention_value = self.ff_self(attention_value) + attention_value\n",
    "        return attention_value.swapaxes(2, 1).view(-1, self.channels, self.size, self.size)\n",
    "\n",
    "class ConvBlock(nn.Module):\n",
    "    def __init__(self, in_channels, out_channels, mid_channels=None, residual=False):\n",
    "        super(ConvBlock, self).__init__()\n",
    "        self.residual = residual\n",
    "        if not mid_channels:\n",
    "            mid_channels = out_channels\n",
    "        self.conv_block = nn.Sequential(\n",
    "            nn.Conv2d(in_channels, mid_channels, kernel_size=3, padding=1, bias=False),\n",
    "            nn.GroupNorm(1, mid_channels),\n",
    "            nn.GELU(),\n",
    "            nn.Conv2d(mid_channels, out_channels, kernel_size=3, padding=1, bias=False),\n",
    "            nn.GroupNorm(1, out_channels),\n",
    "        )\n",
    "\n",
    "    def forward(self, x):\n",
    "        if self.residual:\n",
    "            return F.gelu(x + self.conv_block(x))\n",
    "        else:\n",
    "            return self.conv_block(x)\n",
    "\n",
    "class DownSample(nn.Module):\n",
    "    def __init__(self, in_channels, out_channels, emb_dim=256):\n",
    "        super(DownSample, self).__init__()\n",
    "        self.maxpool_conv = nn.Sequential(\n",
    "            nn.MaxPool2d(2),\n",
    "            ConvBlock(in_channels, in_channels, residual=True),\n",
    "            ConvBlock(in_channels, out_channels),\n",
    "        )\n",
    "\n",
    "        self.emb_layer = nn.Sequential(\n",
    "            nn.SiLU(),\n",
    "            nn.Linear(emb_dim, out_channels),\n",
    "        )\n",
    "\n",
    "    def forward(self, x):\n",
    "        x = self.maxpool_conv(x)\n",
    "        return x\n",
    "\n",
    "class UpSample(nn.Module):\n",
    "    def __init__(self, in_channels, out_channels, emb_dim=256):\n",
    "        super(UpSample, self).__init__()\n",
    "\n",
    "        self.upsample = nn.Upsample(scale_factor=2, mode=\"bilinear\", align_corners=True)\n",
    "        self.out_channels = out_channels\n",
    "        self.conv = nn.Sequential(\n",
    "            ConvBlock(in_channels, in_channels, residual=True),\n",
    "            ConvBlock(in_channels, out_channels, in_channels // 2),\n",
    "        )\n",
    "\n",
    "        self.emb_layer = nn.Sequential(\n",
    "            nn.SiLU(),\n",
    "            nn.Linear(emb_dim, out_channels),\n",
    "        )\n",
    "\n",
    "    def forward(self, x, skip_x):\n",
    "\n",
    "        x = self.upsample(x)\n",
    "        #print(x.shape)\n",
    "        #print(skip_x.shape)\n",
    "        x = torch.cat([skip_x, x], dim=1)\n",
    "        x = self.conv(x)\n",
    "        #emb = self.emb_layer(t)[:, :, None, None].expand(-1, -1, x.shape[-2], x.shape[-1])\n",
    "        return x\n",
    "\n",
    "class UNet(nn.Module):\n",
    "    def __init__(self, c_in=3, c_out=3):\n",
    "        super(UNet, self).__init__()\n",
    "        self.initial_conv = ConvBlock(c_in, 64)\n",
    "        self.downsample1 = DownSample(64, 128)\n",
    "        self.self_attention1 = SelfAttention(128, 128)\n",
    "        self.downsample2 = DownSample(128, 256)\n",
    "        self.self_attention2 = SelfAttention(256, 256)\n",
    "        self.downsample3 = DownSample(256, 256)\n",
    "        self.self_attention3 = SelfAttention(256, 256)\n",
    "\n",
    "        self.bottom1 = ConvBlock(256, 512)\n",
    "        self.bottom2 = ConvBlock(512, 512)\n",
    "        self.bottom3 = ConvBlock(512, 256)\n",
    "\n",
    "        self.upsample1 = UpSample(512, 128)\n",
    "        self.self_attention4 = SelfAttention(128, 128)\n",
    "        self.upsample2 = UpSample(256, 64)\n",
    "        self.self_attention5 = SelfAttention(64, 64)\n",
    "        self.upsample3 = UpSample(128, 64)\n",
    "        self.self_attention6 = SelfAttention(64, 64)\n",
    "        self.output_conv = nn.Conv2d(64, c_out, kernel_size=1)\n",
    "\n",
    "    def forward(self, x):\n",
    "\n",
    "        x1 = self.initial_conv(x)\n",
    "        x2 = self.downsample1(x1)\n",
    "        #x2 = self.self_attention1(x2)\n",
    "        x3 = self.downsample2(x2)\n",
    "        #x3 = self.self_attention2(x3)\n",
    "        x4 = self.downsample3(x3)\n",
    "        #x4 = self.self_attention3(x4)\n",
    "\n",
    "        x4 = self.bottom1(x4)\n",
    "        x4 = self.bottom2(x4)\n",
    "        x4 = self.bottom3(x4)\n",
    "\n",
    "        x = self.upsample1(x4, x3)\n",
    "        #x = self.self_attention4(x)\n",
    "        x = self.upsample2(x, x2)\n",
    "        #x = self.self_attention5(x)\n",
    "        x = self.upsample3(x, x1)\n",
    "        #x = self.self_attention6(x)\n",
    "        output = self.output_conv(x)\n",
    "        return output"
   ]
  },
  {
   "cell_type": "code",
   "execution_count": 8,
   "metadata": {},
   "outputs": [],
   "source": [
    "#define early stopping\n",
    "class EarlyStopping:\n",
    "    def __init__(self, patience=3, verbose=True):\n",
    "        self.patience = patience\n",
    "        self.verbose = verbose\n",
    "        self.counter = 0\n",
    "        self.best_score = None\n",
    "        self.early_stop = False\n",
    "\n",
    "    def __call__(self, val_loss, model):\n",
    "        if self.best_score is None:\n",
    "            self.best_score = val_loss\n",
    "            self.save_checkpoint(model)\n",
    "        elif val_loss > self.best_score:\n",
    "            self.counter += 1\n",
    "            if self.verbose:\n",
    "                print(f'EarlyStopping counter: {self.counter} out of {self.patience}')\n",
    "            if self.counter >= self.patience:\n",
    "                self.early_stop = True\n",
    "        else:\n",
    "            self.best_score = val_loss\n",
    "            self.save_checkpoint(model)\n",
    "            self.counter = 0\n",
    "        return self.early_stop\n",
    "\n",
    "    def save_checkpoint(self, model):\n",
    "        if self.verbose:\n",
    "            print(f'Saving model...')\n",
    "        torch.save(model.state_dict(), 'checkpoint.pth')\n"
   ]
  },
  {
   "cell_type": "code",
   "execution_count": 9,
   "metadata": {},
   "outputs": [],
   "source": [
    "def jaccard_loss(pred, target):\n",
    "    intersection = torch.sum(pred * target)\n",
    "    union = torch.sum(pred) + torch.sum(target) - intersection\n",
    "    jaccard_loss = 1.0 - (intersection + 1) / (union + 1) \n",
    "    return jaccard_loss"
   ]
  },
  {
   "cell_type": "code",
   "execution_count": 10,
   "metadata": {},
   "outputs": [],
   "source": [
    "import torch.backends.cudnn as cudnn\n",
    "\n",
    "c_in = 3  # input channel 3 for RGB\n",
    "c_out = 3  # output channel\n",
    "if torch.cuda.device_count() > 1:\n",
    "    device1 = torch.device(\"cuda:0\")\n",
    "    device2 = torch.device(\"cuda:1\")\n",
    "else:\n",
    "    raise RuntimeError(\"Multiple GPUs are required.\")\n",
    "\n",
    "model = UNet(c_in, c_out)\n",
    "checkpoint = torch.load('checkpoint.pth')\n",
    "modified_state_dict = {key.replace('module.', ''): value for key, value in checkpoint.items()}\n",
    "model.load_state_dict(modified_state_dict)\n",
    "#cudnn.benchmark = True\n",
    "#model = torch.nn.DataParallel(model)\n",
    "\n",
    "class ThreeChannelLogitsLoss(nn.Module):\n",
    "    def __init__(self):\n",
    "        super(ThreeChannelLogitsLoss, self).__init__()\n",
    "\n",
    "    def forward(self, output, target):\n",
    "        loss = 0\n",
    "        for i in range(c_out):\n",
    "            loss += nn.BCEWithLogitsLoss()(output[:, i, :, :], target[:, i, :, :])\n",
    "        return loss / c_out\n",
    "\n",
    "#criterion = ThreeChannelLogitsLoss()\n",
    "#criterion = nn.L1Loss()    \n",
    "criterion = nn.CrossEntropyLoss()\n",
    "#criterion = jaccard_loss\n",
    "#criterion = nn.BCEWithLogitsLoss()\n",
    "\n",
    "optimizer = optim.Adam(model.parameters(), lr=0.001)\n",
    "early_stopping = EarlyStopping(patience=5, verbose=True)\n",
    "scheduler =  torch.optim.lr_scheduler.CosineAnnealingLR(optimizer, T_max=100)\n"
   ]
  },
  {
   "cell_type": "code",
   "execution_count": 11,
   "metadata": {},
   "outputs": [],
   "source": [
    "# #print unet model summary\n",
    "\n",
    "# from torchsummary import summary\n",
    "\n",
    "# def count_parameters(model):\n",
    "#     return sum(p.numel() for p in model.parameters() if p.requires_grad)\n",
    "\n",
    "# #print(model)\n",
    "# #print(f\"Total Trainable Parameters: {count_parameters(model)}\")\n",
    "# summary(model, (3, 128, 128), device= 'cpu')\n"
   ]
  },
  {
   "cell_type": "code",
   "execution_count": 12,
   "metadata": {},
   "outputs": [
    {
     "name": "stderr",
     "output_type": "stream",
     "text": [
      "  0%|          | 0/128 [00:00<?, ?it/s]"
     ]
    },
    {
     "name": "stderr",
     "output_type": "stream",
     "text": [
      " 40%|███▉      | 51/128 [04:02<05:57,  4.65s/it]"
     ]
    },
    {
     "name": "stdout",
     "output_type": "stream",
     "text": [
      "Epoch 1: Batch[50/128] Loss: 0.07113740377128125 IoU: 0.5867712092399597\n"
     ]
    },
    {
     "name": "stderr",
     "output_type": "stream",
     "text": [
      " 78%|███████▊  | 100/128 [08:05<02:20,  5.01s/it]"
     ]
    },
    {
     "name": "stdout",
     "output_type": "stream",
     "text": [
      "Epoch 1: Batch[100/128] Loss: 0.06241667104884982 IoU: 0.5741632780432702\n",
      "Saving model...\n"
     ]
    },
    {
     "name": "stderr",
     "output_type": "stream",
     "text": [
      "100%|██████████| 128/128 [10:25<00:00,  4.89s/it]\n"
     ]
    },
    {
     "name": "stdout",
     "output_type": "stream",
     "text": [
      "Epoch [1/100] Loss: 0.06019952139467932 IoU: 0.5665531842969358\n",
      "Saving model...\n"
     ]
    },
    {
     "name": "stderr",
     "output_type": "stream",
     "text": [
      " 40%|███▉      | 51/128 [04:16<06:15,  4.88s/it]"
     ]
    },
    {
     "name": "stdout",
     "output_type": "stream",
     "text": [
      "Epoch 2: Batch[50/128] Loss: 0.061202907226979734 IoU: 0.5693560272455216\n"
     ]
    },
    {
     "name": "stderr",
     "output_type": "stream",
     "text": [
      " 78%|███████▊  | 100/128 [08:21<02:18,  4.96s/it]"
     ]
    },
    {
     "name": "stdout",
     "output_type": "stream",
     "text": [
      "Epoch 2: Batch[100/128] Loss: 0.059418072663247584 IoU: 0.5691376703977585\n",
      "Saving model...\n"
     ]
    },
    {
     "name": "stderr",
     "output_type": "stream",
     "text": [
      "100%|██████████| 128/128 [10:40<00:00,  5.01s/it]\n"
     ]
    },
    {
     "name": "stdout",
     "output_type": "stream",
     "text": [
      "Epoch [2/100] Loss: 0.057867038573022 IoU: 0.5628543964121491\n",
      "Saving model...\n"
     ]
    },
    {
     "name": "stderr",
     "output_type": "stream",
     "text": [
      " 40%|███▉      | 51/128 [04:19<06:31,  5.08s/it]"
     ]
    },
    {
     "name": "stdout",
     "output_type": "stream",
     "text": [
      "Epoch 3: Batch[50/128] Loss: 0.061127284578979015 IoU: 0.562916887998581\n"
     ]
    },
    {
     "name": "stderr",
     "output_type": "stream",
     "text": [
      " 78%|███████▊  | 100/128 [08:26<02:18,  4.96s/it]"
     ]
    },
    {
     "name": "stdout",
     "output_type": "stream",
     "text": [
      "Epoch 3: Batch[100/128] Loss: 0.05909481862559915 IoU: 0.5611993959546089\n",
      "Saving model...\n"
     ]
    },
    {
     "name": "stderr",
     "output_type": "stream",
     "text": [
      "100%|██████████| 128/128 [10:45<00:00,  5.05s/it]\n"
     ]
    },
    {
     "name": "stdout",
     "output_type": "stream",
     "text": [
      "Epoch [3/100] Loss: 0.0575728408730356 IoU: 0.5574209324549884\n",
      "Saving model...\n"
     ]
    },
    {
     "name": "stderr",
     "output_type": "stream",
     "text": [
      " 40%|███▉      | 51/128 [04:20<06:23,  4.99s/it]"
     ]
    },
    {
     "name": "stdout",
     "output_type": "stream",
     "text": [
      "Epoch 4: Batch[50/128] Loss: 0.061040915623307226 IoU: 0.5578804075717926\n"
     ]
    },
    {
     "name": "stderr",
     "output_type": "stream",
     "text": [
      " 78%|███████▊  | 100/128 [08:26<02:21,  5.04s/it]"
     ]
    },
    {
     "name": "stdout",
     "output_type": "stream",
     "text": [
      "Epoch 4: Batch[100/128] Loss: 0.058425560100004076 IoU: 0.5739071428775787\n",
      "Saving model...\n"
     ]
    },
    {
     "name": "stderr",
     "output_type": "stream",
     "text": [
      "100%|██████████| 128/128 [10:47<00:00,  5.06s/it]\n"
     ]
    },
    {
     "name": "stdout",
     "output_type": "stream",
     "text": [
      "Epoch [4/100] Loss: 0.05701950407092227 IoU: 0.5653453313279897\n",
      "Saving model...\n"
     ]
    },
    {
     "name": "stderr",
     "output_type": "stream",
     "text": [
      " 40%|███▉      | 51/128 [04:14<06:17,  4.90s/it]"
     ]
    },
    {
     "name": "stdout",
     "output_type": "stream",
     "text": [
      "Epoch 5: Batch[50/128] Loss: 0.05370496502146125 IoU: 0.5911056929826737\n"
     ]
    },
    {
     "name": "stderr",
     "output_type": "stream",
     "text": [
      " 78%|███████▊  | 100/128 [08:21<02:20,  5.02s/it]"
     ]
    },
    {
     "name": "stdout",
     "output_type": "stream",
     "text": [
      "Epoch 5: Batch[100/128] Loss: 0.057264180211350324 IoU: 0.5806252783536912\n",
      "Saving model...\n"
     ]
    },
    {
     "name": "stderr",
     "output_type": "stream",
     "text": [
      "100%|██████████| 128/128 [10:42<00:00,  5.02s/it]\n"
     ]
    },
    {
     "name": "stdout",
     "output_type": "stream",
     "text": [
      "Epoch [5/100] Loss: 0.057305211907078046 IoU: 0.5693358269054443\n",
      "EarlyStopping counter: 1 out of 5\n"
     ]
    },
    {
     "name": "stderr",
     "output_type": "stream",
     "text": [
      " 40%|███▉      | 51/128 [04:15<06:26,  5.01s/it]"
     ]
    },
    {
     "name": "stdout",
     "output_type": "stream",
     "text": [
      "Epoch 6: Batch[50/128] Loss: 0.05936729304492474 IoU: 0.5722012042999267\n"
     ]
    },
    {
     "name": "stderr",
     "output_type": "stream",
     "text": [
      " 78%|███████▊  | 100/128 [08:25<02:24,  5.15s/it]"
     ]
    },
    {
     "name": "stdout",
     "output_type": "stream",
     "text": [
      "Epoch 6: Batch[100/128] Loss: 0.057331855036318304 IoU: 0.5760492166876793\n",
      "Saving model...\n"
     ]
    },
    {
     "name": "stderr",
     "output_type": "stream",
     "text": [
      "100%|██████████| 128/128 [10:49<00:00,  5.07s/it]\n"
     ]
    },
    {
     "name": "stdout",
     "output_type": "stream",
     "text": [
      "Epoch [6/100] Loss: 0.056881409778725356 IoU: 0.5643922646995634\n",
      "Saving model...\n"
     ]
    },
    {
     "name": "stderr",
     "output_type": "stream",
     "text": [
      " 40%|███▉      | 51/128 [04:23<06:39,  5.19s/it]"
     ]
    },
    {
     "name": "stdout",
     "output_type": "stream",
     "text": [
      "Epoch 7: Batch[50/128] Loss: 0.05611541539430618 IoU: 0.5784955596923829\n"
     ]
    },
    {
     "name": "stderr",
     "output_type": "stream",
     "text": [
      " 78%|███████▊  | 100/128 [08:38<02:26,  5.25s/it]"
     ]
    },
    {
     "name": "stdout",
     "output_type": "stream",
     "text": [
      "Epoch 7: Batch[100/128] Loss: 0.05587926485575736 IoU: 0.5679182839393616\n",
      "Saving model...\n"
     ]
    },
    {
     "name": "stderr",
     "output_type": "stream",
     "text": [
      "100%|██████████| 128/128 [11:03<00:00,  5.18s/it]\n"
     ]
    },
    {
     "name": "stdout",
     "output_type": "stream",
     "text": [
      "Epoch [7/100] Loss: 0.05665662451792741 IoU: 0.568126681027934\n",
      "Saving model...\n"
     ]
    },
    {
     "name": "stderr",
     "output_type": "stream",
     "text": [
      " 40%|███▉      | 51/128 [04:26<06:44,  5.26s/it]"
     ]
    },
    {
     "name": "stdout",
     "output_type": "stream",
     "text": [
      "Epoch 8: Batch[50/128] Loss: 0.0570485370606184 IoU: 0.5584308522939682\n"
     ]
    },
    {
     "name": "stderr",
     "output_type": "stream",
     "text": [
      " 78%|███████▊  | 100/128 [08:34<02:25,  5.21s/it]"
     ]
    },
    {
     "name": "stdout",
     "output_type": "stream",
     "text": [
      "Epoch 8: Batch[100/128] Loss: 0.055472446456551555 IoU: 0.5634044098854065\n",
      "Saving model...\n"
     ]
    },
    {
     "name": "stderr",
     "output_type": "stream",
     "text": [
      "100%|██████████| 128/128 [11:03<00:00,  5.18s/it]\n"
     ]
    },
    {
     "name": "stdout",
     "output_type": "stream",
     "text": [
      "Epoch [8/100] Loss: 0.056028940962278284 IoU: 0.561843674397096\n",
      "Saving model...\n"
     ]
    },
    {
     "name": "stderr",
     "output_type": "stream",
     "text": [
      " 40%|███▉      | 51/128 [04:21<06:34,  5.12s/it]"
     ]
    },
    {
     "name": "stdout",
     "output_type": "stream",
     "text": [
      "Epoch 9: Batch[50/128] Loss: 0.06354569721966982 IoU: 0.5765802389383317\n"
     ]
    },
    {
     "name": "stderr",
     "output_type": "stream",
     "text": [
      " 78%|███████▊  | 100/128 [08:28<02:22,  5.09s/it]"
     ]
    },
    {
     "name": "stdout",
     "output_type": "stream",
     "text": [
      "Epoch 9: Batch[100/128] Loss: 0.064162456728518 IoU: 0.5628762376308442\n",
      "Saving model...\n"
     ]
    },
    {
     "name": "stderr",
     "output_type": "stream",
     "text": [
      "100%|██████████| 128/128 [10:46<00:00,  5.05s/it]\n"
     ]
    },
    {
     "name": "stdout",
     "output_type": "stream",
     "text": [
      "Epoch [9/100] Loss: 0.06295728047552984 IoU: 0.553359008859843\n",
      "EarlyStopping counter: 1 out of 5\n"
     ]
    },
    {
     "name": "stderr",
     "output_type": "stream",
     "text": [
      " 40%|███▉      | 51/128 [04:19<06:54,  5.38s/it]"
     ]
    },
    {
     "name": "stdout",
     "output_type": "stream",
     "text": [
      "Epoch 10: Batch[50/128] Loss: 0.06391004849225283 IoU: 0.562611094713211\n"
     ]
    },
    {
     "name": "stderr",
     "output_type": "stream",
     "text": [
      " 78%|███████▊  | 100/128 [08:32<02:25,  5.19s/it]"
     ]
    },
    {
     "name": "stdout",
     "output_type": "stream",
     "text": [
      "Epoch 10: Batch[100/128] Loss: 0.05970873283222318 IoU: 0.5620534601807594\n",
      "Saving model...\n"
     ]
    },
    {
     "name": "stderr",
     "output_type": "stream",
     "text": [
      "100%|██████████| 128/128 [11:00<00:00,  5.16s/it]\n"
     ]
    },
    {
     "name": "stdout",
     "output_type": "stream",
     "text": [
      "Epoch [10/100] Loss: 0.0611947431898443 IoU: 0.5540639823302627\n",
      "EarlyStopping counter: 2 out of 5\n"
     ]
    },
    {
     "name": "stderr",
     "output_type": "stream",
     "text": [
      " 40%|███▉      | 51/128 [04:18<06:06,  4.76s/it]"
     ]
    },
    {
     "name": "stdout",
     "output_type": "stream",
     "text": [
      "Epoch 11: Batch[50/128] Loss: 0.062069119773805144 IoU: 0.547631299495697\n"
     ]
    },
    {
     "name": "stderr",
     "output_type": "stream",
     "text": [
      " 78%|███████▊  | 100/128 [08:17<02:19,  4.98s/it]"
     ]
    },
    {
     "name": "stdout",
     "output_type": "stream",
     "text": [
      "Epoch 11: Batch[100/128] Loss: 0.057919519376009705 IoU: 0.5586429783701896\n",
      "Saving model...\n"
     ]
    },
    {
     "name": "stderr",
     "output_type": "stream",
     "text": [
      "100%|██████████| 128/128 [10:38<00:00,  4.99s/it]\n"
     ]
    },
    {
     "name": "stdout",
     "output_type": "stream",
     "text": [
      "Epoch [11/100] Loss: 0.05750646418891847 IoU: 0.5659130811691284\n",
      "EarlyStopping counter: 3 out of 5\n"
     ]
    },
    {
     "name": "stderr",
     "output_type": "stream",
     "text": [
      " 40%|███▉      | 51/128 [04:08<06:19,  4.93s/it]"
     ]
    },
    {
     "name": "stdout",
     "output_type": "stream",
     "text": [
      "Epoch 12: Batch[50/128] Loss: 0.061469180956482884 IoU: 0.5780709558725357\n"
     ]
    },
    {
     "name": "stderr",
     "output_type": "stream",
     "text": [
      " 78%|███████▊  | 100/128 [08:18<02:21,  5.07s/it]"
     ]
    },
    {
     "name": "stdout",
     "output_type": "stream",
     "text": [
      "Epoch 12: Batch[100/128] Loss: 0.058655753303319215 IoU: 0.5739787158370018\n",
      "Saving model...\n"
     ]
    },
    {
     "name": "stderr",
     "output_type": "stream",
     "text": [
      "100%|██████████| 128/128 [10:39<00:00,  5.00s/it]\n"
     ]
    },
    {
     "name": "stdout",
     "output_type": "stream",
     "text": [
      "Epoch [12/100] Loss: 0.05632140008674469 IoU: 0.5727572236210108\n",
      "EarlyStopping counter: 4 out of 5\n"
     ]
    },
    {
     "name": "stderr",
     "output_type": "stream",
     "text": [
      " 40%|███▉      | 51/128 [04:13<06:33,  5.11s/it]"
     ]
    },
    {
     "name": "stdout",
     "output_type": "stream",
     "text": [
      "Epoch 13: Batch[50/128] Loss: 0.055649537909775976 IoU: 0.58692158639431\n"
     ]
    },
    {
     "name": "stderr",
     "output_type": "stream",
     "text": [
      " 78%|███████▊  | 100/128 [08:21<02:24,  5.18s/it]"
     ]
    },
    {
     "name": "stdout",
     "output_type": "stream",
     "text": [
      "Epoch 13: Batch[100/128] Loss: 0.055933880498632786 IoU: 0.5774700257182122\n",
      "Saving model...\n"
     ]
    },
    {
     "name": "stderr",
     "output_type": "stream",
     "text": [
      "100%|██████████| 128/128 [10:40<00:00,  5.00s/it]"
     ]
    },
    {
     "name": "stdout",
     "output_type": "stream",
     "text": [
      "Epoch [13/100] Loss: 0.05652852587081725 IoU: 0.571484811604023\n",
      "EarlyStopping counter: 5 out of 5\n",
      "Early stopping triggered\n",
      "Best loss is 0.056028940962278284, best iou is 0.5727572236210108\n"
     ]
    },
    {
     "name": "stderr",
     "output_type": "stream",
     "text": [
      "\n"
     ]
    }
   ],
   "source": [
    "\n",
    "# Training loop\n",
    "num_epochs = 100\n",
    "model.to(device1)\n",
    "best_loss = 1.0\n",
    "best_iou = 0.0\n",
    "log_file = open(\"training_log_new_7.txt\", \"w\")\n",
    "for epoch in range(0,num_epochs):\n",
    "    model.train()\n",
    "    total_loss = 0.0\n",
    "    total_iou = 0.0\n",
    "    for i,(inputs, labels) in enumerate(tqdm(train_loader)):\n",
    "        gpu = torch.cuda.get_device_properties(device1)\n",
    "        #print(f'{device1}: {gpu.name}, Total Memory: {gpu.total_memory / 1024**2:.2f} MB, Free Memory: {torch.cuda.max_memory_allocated(device1) / 1024**2:.2f} MB')\n",
    "        #print(torch.cuda.memory_allocated(device1))\n",
    "        #print(torch.cuda.max_memory_allocated(device1))\n",
    "        if torch.cuda.memory_allocated(device1) > 0.9 * gpu.total_memory:\n",
    "            model = model.to(device2)\n",
    "            device1, device2 = device2, device1\n",
    "            print('changed gpu')\n",
    "            #inputs, labels = inputs.to(device1), labels.to(device1)\n",
    "            model = model.to(device1)\n",
    "            \n",
    "        inputs, labels = inputs.permute(0, 3, 1, 2).to(device1), labels.permute(0, 3, 1, 2).to(device1)\n",
    "        #print(inputs.shape)\n",
    "        #print(labels.shape)\n",
    "        optimizer.zero_grad()\n",
    "        outputs = model(inputs)\n",
    "        labels = labels.squeeze(1)\n",
    "        iou = mean_iou(outputs, labels)\n",
    "        labels = labels.long()\n",
    "        # # 检查标签值的最小和最大范围\n",
    "        # print(f\"Min label value: {labels.min()}, Max label value: {labels.max()}\")\n",
    "\n",
    "        loss = criterion(outputs, labels)\n",
    "        loss.backward()\n",
    "        optimizer.step()\n",
    "        total_loss += loss.item()\n",
    "        total_iou += iou.item()\n",
    "\n",
    "        if i % 50 == 0 and i != 0:\n",
    "            print(f\"Epoch {epoch+1}: Batch[{i}/{len(train_loader)}] Loss: {total_loss / i} IoU: {total_iou / i}\")\n",
    "            if i % 100 == 0:\n",
    "                print(f'Saving model...')\n",
    "                torch.save(model.state_dict(), 'checkpoint.pth')\n",
    "    avg_loss = total_loss / len(train_loader)\n",
    "    avg_iou = total_iou / len(train_loader)\n",
    "    print(f\"Epoch [{epoch+1}/{num_epochs}] Loss: {avg_loss} IoU: {avg_iou}\")\n",
    "\n",
    "    best_loss = min(best_loss,avg_loss)\n",
    "    best_iou = max(best_iou,avg_iou)\n",
    "\n",
    "    log_file.write(f\"Epoch [{epoch+1}/{num_epochs}] Loss: {avg_loss} IoU: {avg_iou}\\n\")\n",
    "    log_file.write(f'Best loss: {best_loss}, Best IoU: {best_iou}\\n\\n')\n",
    "    log_file.flush()\n",
    "\n",
    "    if early_stopping(avg_loss, model):\n",
    "        print('Early stopping triggered')\n",
    "        break\n",
    "print(f'Best loss is {best_loss}, best iou is {best_iou}')\n"
   ]
  },
  {
   "cell_type": "code",
   "execution_count": 12,
   "metadata": {},
   "outputs": [],
   "source": [
    "# import matplotlib.pyplot as plt\n",
    "# import numpy as np\n",
    "\n",
    "# def visualize_val_loader_predictions(model, data_loader, device, class_colors):\n",
    "#     model.eval()\n",
    "#     with torch.no_grad():\n",
    "#         for inputs, labels in data_loader:\n",
    "#             inputs = inputs.permute(0, 3, 1, 2).to(device)\n",
    "#             labels = labels.squeeze(1).to(device)\n",
    "\n",
    "#             print(f'Inputs shape: {inputs.shape}')\n",
    "#             print(f'Labels shape: {labels.shape}')\n",
    "#             print(f'Labels unique values: {np.unique(labels.cpu().numpy())}')\n",
    "\n",
    "#             outputs = model(inputs)\n",
    "#             print(f'Model outputs before argmax: {outputs.shape}, min: {outputs.min().item()}, max: {outputs.max().item()}')\n",
    "\n",
    "#             predicted = torch.argmax(outputs, dim=1).cpu().numpy()\n",
    "#             true_labels = labels.cpu().numpy()\n",
    "\n",
    "#             print(f'Model predicted after argmax: {np.unique(predicted)}')\n",
    "#             print(f'True labels unique values: {np.unique(true_labels)}')\n",
    "\n",
    "#             for i in range(len(predicted)):\n",
    "#                 segmented_image = predicted[i]\n",
    "#                 true_label = true_labels[i]\n",
    "#                 height, width = segmented_image.shape\n",
    "\n",
    "#                 color_image_pred = np.zeros((height, width, 3), dtype=np.uint8)\n",
    "#                 for cls, color in class_colors.items():\n",
    "#                     mask = segmented_image == cls\n",
    "#                     color_image_pred[mask] = color\n",
    "\n",
    "#                 color_image_label = np.zeros((height, width, 3), dtype=np.uint8)\n",
    "#                 for cls, color in class_colors.items():\n",
    "#                     mask = true_label == cls\n",
    "#                     if mask.shape == (height, width):\n",
    "#                         color_image_label[mask] = color\n",
    "\n",
    "#                 plt.figure(figsize=(15, 5))\n",
    "\n",
    "#                 plt.subplot(1, 2, 1)\n",
    "#                 plt.imshow(color_image_pred)\n",
    "#                 plt.title(\"Predicted Output\")\n",
    "#                 plt.axis(\"off\")\n",
    "\n",
    "#                 plt.subplot(1, 2, 2)\n",
    "#                 plt.imshow(color_image_label)\n",
    "#                 plt.title(\"Ground Truth\")\n",
    "#                 plt.axis(\"off\")\n",
    "\n",
    "#                 plt.tight_layout()\n",
    "#                 plt.show()\n",
    "#                 return\n",
    "\n",
    "# class_colors = {\n",
    "#     0: [0, 0, 0],\n",
    "#     1: [0, 255, 0],\n",
    "#     2: [255, 255, 0],\n",
    "# }\n",
    "\n",
    "# model.to(device1)\n",
    "# visualize_val_loader_predictions(model, val_loader, device1, class_colors)\n",
    "\n"
   ]
  },
  {
   "cell_type": "code",
   "execution_count": 13,
   "metadata": {},
   "outputs": [
    {
     "name": "stderr",
     "output_type": "stream",
     "text": [
      "  0%|          | 0/16 [00:00<?, ?it/s]"
     ]
    },
    {
     "name": "stderr",
     "output_type": "stream",
     "text": [
      "100%|██████████| 16/16 [00:09<00:00,  1.65it/s]"
     ]
    },
    {
     "name": "stdout",
     "output_type": "stream",
     "text": [
      "Validation Loss: 0.06316678505390882, Validation IoU: 0.5573402289301157\n"
     ]
    },
    {
     "name": "stderr",
     "output_type": "stream",
     "text": [
      "\n"
     ]
    }
   ],
   "source": [
    "model = model.to(device1)\n",
    "model.eval()\n",
    "total_val_loss = 0.0\n",
    "total_val_iou = 0.0\n",
    "num_batches = len(val_loader)\n",
    "\n",
    "with torch.no_grad():\n",
    "    for inputs, labels in tqdm(val_loader):\n",
    "        inputs, labels = inputs.permute(0, 3, 1, 2).to(device1), labels.permute(0, 3, 1, 2).to(device1)\n",
    "        outputs = model(inputs)\n",
    "        labels = labels.squeeze(1)\n",
    "        total_val_iou += mean_iou(outputs, labels).item()\n",
    "        labels = labels.long()\n",
    "        loss = criterion(outputs, labels)\n",
    "        total_val_loss += loss.item()\n",
    "        \n",
    "preds_val = outputs\n",
    "\n",
    "avg_val_loss = total_val_loss / num_batches\n",
    "avg_val_iou = total_val_iou / num_batches\n",
    "\n",
    "print(f\"Validation Loss: {avg_val_loss}, Validation IoU: {avg_val_iou}\")\n"
   ]
  },
  {
   "cell_type": "code",
   "execution_count": 14,
   "metadata": {},
   "outputs": [
    {
     "name": "stderr",
     "output_type": "stream",
     "text": [
      "  0%|          | 0/16 [00:00<?, ?it/s]"
     ]
    },
    {
     "name": "stderr",
     "output_type": "stream",
     "text": [
      "100%|██████████| 16/16 [00:08<00:00,  2.00it/s]\n",
      "100%|██████████| 16/16 [00:08<00:00,  1.89it/s]\n"
     ]
    }
   ],
   "source": [
    "model = model.to(device1)\n",
    "model.eval()\n",
    "# with torch.no_grad():\n",
    "#     for inputs in tqdm(val_loader):\n",
    "#         inputs = inputs[0].permute(0, 3, 1, 2).to(device2)\n",
    "#         outputs = model(inputs)\n",
    "        #print(outputs.shape)\n",
    "#torch.save(model.state_dict(),'cell_segment.pth')\n",
    "#prediction\n",
    "#X_train = torch.Tensor(X_train).permute(0, 3, 1, 2).to(device)\n",
    "#model=model.to(device1)\n",
    "preds_val=[]\n",
    "preds_test=[]\n",
    "\n",
    "# X_test = torch.Tensor(X_test).permute(0, 3, 1, 2)\n",
    "# val_X = x_val_tensor.permute(0,3,1,2)\n",
    "X_test_tensor = torch.tensor(X_test).permute(0, 3, 1, 2)\n",
    "test_dataset = TensorDataset(X_test_tensor)\n",
    "test_loader = DataLoader(test_dataset, batch_size=BATCH_SIZE, shuffle=False)\n",
    "\n",
    "with torch.no_grad():\n",
    "    #preds_train = model(X_train[:int(X_train.shape[0]*0.9)])\n",
    "    #preds_val = model(X_train[int(X_train.shape[0]*0.9):])\n",
    "    #preds_train = model(x_train_tensor.permute(0,3,1,2).to(device2))\n",
    "    # preds_val = model(val_X[:int(val_X.shape[0]*0.06)].to(device2))\n",
    "    # preds_test = model(X_test[:int(X_test.shape[0]*0.06)].to(device2))\n",
    "    # preds_val = model(val_X.to(device1))\n",
    "    # preds_test = model(X_test.to(device1))\n",
    "    for inputs, labels in tqdm(val_loader):\n",
    "        inputs, labels = inputs.permute(0, 3, 1, 2).to(device1), labels.permute(0, 3, 1, 2).to(device1)\n",
    "        outputs = model(inputs)\n",
    "        preds_val.append(outputs)\n",
    "\n",
    "    for batch in tqdm(test_loader):\n",
    "        inputs = batch[0].to(device1).float()\n",
    "        outputs = model(inputs)\n",
    "        preds_test.append(outputs)\n",
    "        \n",
    "\n",
    "#print(preds_test[0].size())\n",
    "# # Threshold predictions\n",
    "# threshold = 0.5\n",
    "# #preds_train_t = (preds_train > threshold).byte()\n",
    "# preds_val_t = (preds_val > threshold)\n",
    "# preds_test_t = (preds_test > threshold)\n",
    "\n",
    "# # Create a list of upsampled test masks\n",
    "# preds_test_upsampled = []\n",
    "# for i in range(len(preds_test)):\n",
    "#     preds_test_upsampled.append(np.squeeze(preds_test_t[i]))\n",
    "    \n"
   ]
  },
  {
   "cell_type": "code",
   "execution_count": 15,
   "metadata": {},
   "outputs": [],
   "source": [
    "def transform(preds):\n",
    "    \n",
    "    preds_val_transformed = []\n",
    "    \n",
    "    for pre in preds:\n",
    "        preds_argmax = torch.argmax(pre, dim=1)\n",
    "        preds_val_transformed.append(preds_argmax)\n",
    "        \n",
    "    preds = torch.cat(preds_val_transformed, dim=0)\n",
    "    \n",
    "    return preds\n",
    "\n",
    "preds_val_t = transform(preds_val)\n",
    "preds_test_t = transform(preds_test)"
   ]
  },
  {
   "cell_type": "code",
   "execution_count": 16,
   "metadata": {},
   "outputs": [],
   "source": [
    "#print(preds_val.shape)"
   ]
  },
  {
   "cell_type": "code",
   "execution_count": 17,
   "metadata": {},
   "outputs": [],
   "source": [
    "# preds_val_t = []\n",
    "# preds_test_t = []\n",
    "\n",
    "# # def transform_value(value):\n",
    "# #     if value < 1:\n",
    "# #         return 0\n",
    "# #     elif value < 2:\n",
    "# #         return 1\n",
    "# #     else:\n",
    "# #         return 2\n",
    "\n",
    "# def threshold(preds,preds_t):\n",
    "#     for pre in preds:\n",
    "        \n",
    "#         transformed_preds_test = torch.where(pre < 1, torch.tensor(0, device=device1), \n",
    "#                                              torch.where(pre < 2, torch.tensor(1, device=device1), torch.tensor(2, device=device1)))\n",
    "\n",
    "#         max_preds_test = torch.argmax(transformed_preds_test, dim=0)\n",
    "        \n",
    "#         # max_preds_test = torch.max(pre, dim=0).values\n",
    "        \n",
    "#         preds_t.append(max_preds_test.unsqueeze(0))\n",
    "        \n",
    "#     return preds_t\n",
    "\n",
    "# preds_val_t = threshold(preds_val, preds_val_t)\n",
    "# preds_test_t = threshold(preds_test, preds_test_t)\n",
    "        \n"
   ]
  },
  {
   "cell_type": "code",
   "execution_count": 18,
   "metadata": {},
   "outputs": [
    {
     "name": "stdout",
     "output_type": "stream",
     "text": [
      "torch.Size([112, 512, 512])\n"
     ]
    }
   ],
   "source": [
    "print(preds_val_t.shape)\n",
    "for pre in preds_val_t:\n",
    "    if pre.any() == 2:\n",
    "        print(True)"
   ]
  },
  {
   "cell_type": "code",
   "execution_count": 24,
   "metadata": {},
   "outputs": [],
   "source": [
    "import random\n",
    "import matplotlib.pyplot as plt\n",
    "\n",
    "X_test = torch.Tensor(X_test).permute(0, 2, 3, 1)\n"
   ]
  },
  {
   "cell_type": "code",
   "execution_count": 35,
   "metadata": {},
   "outputs": [
    {
     "data": {
      "image/png": "[encoded data removed]",
      "text/plain": [
       "<Figure size 640x480 with 3 Axes>"
      ]
     },
     "metadata": {},
     "output_type": "display_data"
    },
    {
     "data": {
      "image/png": "[encoded data removed]",
      "text/plain": [
       "<Figure size 640x480 with 1 Axes>"
      ]
     },
     "metadata": {},
     "output_type": "display_data"
    }
   ],
   "source": [
    "random_index = random.randint(0, len(preds_test_t) - 1)\n",
    "test_image = X_test[random_index,:, :, 0].cpu()\n",
    "predicted_mask = preds_test_t[random_index].cpu().numpy()\n",
    "# predicted_mask_1 = preds_test_t[random_index][0].cpu().numpy()\n",
    "# predicted_mask_2 = preds_test_t[random_index][1].cpu().numpy()\n",
    "\n",
    "# predicted_mask = np.zeros_like(predicted_mask_1,dtype=np.uint8)\n",
    "# predicted_mask[predicted_mask_1>0] = [255,255,0]\n",
    "# predicted_mask[predicted_mask_2>0] = [128,0,128]\n",
    "\n",
    "#predicted_mask = np.transpose(predicted_mask, (1, 2, 0))\n",
    "\n",
    "# print(test_image.shape)\n",
    "# print(predicted_mask.shape)\n",
    "#plt.figure(figsize=(10, 5))\n",
    "plt.subplot(1, 2, 1)\n",
    "#plt.imshow(test_image, cmap='gray')\n",
    "plt.imshow(test_image, cmap='gray')\n",
    "plt.title(\"Test Image\")\n",
    "plt.axis('off')\n",
    "\n",
    "plt.subplot(1, 2, 2)\n",
    "# plt.imshow(predicted_mask)\n",
    "# plt.title(\"Predicted Mask\")\n",
    "show_mask(predicted_mask,\"Predicted Mask\")\n",
    "plt.axis('off')\n",
    "\n",
    "plt.show()\n"
   ]
  },
  {
   "cell_type": "code",
   "execution_count": 37,
   "metadata": {},
   "outputs": [],
   "source": [
    "for i in range(len(preds_test_t) - 1):\n",
    "    predicted_mask = preds_test_t[i].cpu().numpy()\n",
    "    #predicted_mask = np.transpose(predicted_mask, (1, 2, 0))\n",
    "\n",
    "    cmap = plt.cm.colors.ListedColormap(['black', 'green', 'yellow'])  \n",
    "    bounds = [-0.5, 0.5, 1.5, 2.5]  \n",
    "    norm = plt.cm.colors.BoundaryNorm(bounds, cmap.N)\n",
    "    \n",
    "    plt.imshow(predicted_mask, cmap=cmap, norm=norm)\n",
    "    cbar = plt.colorbar(ticks=[0, 1, 2]) \n",
    "    cbar.ax.set_yticklabels(['Background', 'Live', 'Dead'])\n",
    "    plt.axis('off')\n",
    "    \n",
    "    mask_name = os.path.join('./result/test', f'predicted_mask_{i}.jpg')\n",
    "    image_name = os.path.join('./result/test', f'image_{i}.jpg')\n",
    "\n",
    "    plt.savefig(mask_name) \n",
    "    plt.close()  \n",
    "\n",
    "    # plt.imshow(X_test[i,:, :, 0, 0].cpu(), cmap='gray')\n",
    "    # plt.axis('off')\n",
    "    # plt.savefig(image_name)  \n",
    "    # plt.close() "
   ]
  },
  {
   "cell_type": "code",
   "execution_count": 38,
   "metadata": {},
   "outputs": [],
   "source": [
    "# for i in range(4):\n",
    "#     predicted_mask = preds_test_t[i].cpu().numpy()\n",
    "#     predicted_mask = np.transpose(predicted_mask, (1, 2, 0))\n",
    "#     mask1 = predicted_mask[..., 0]  # Assuming the first mask is at index 0\n",
    "#     mask2 = predicted_mask[..., 1]  # Assuming the second mask is at index 1\n",
    "#     if mask2.any()>0:\n",
    "#         print(True)\n",
    "#     # plt.subplot(i+1, 2, 1)\n",
    "#     # plt.imshow(mask1,cmap='gray')\n",
    "#     # plt.subplot(i+1, 2, 2)\n",
    "#     # plt.imshow(mask2,cmap='gray')"
   ]
  },
  {
   "cell_type": "code",
   "execution_count": 39,
   "metadata": {},
   "outputs": [
    {
     "data": {
      "text/plain": [
       "\"\\nimport random\\nimport torch\\nimport matplotlib.pyplot as plt\\n\\n# Define a function to display images\\ndef imshow_tensor(tensor):\\n    # Ensure the tensor is on the CPU and convert it to a NumPy array\\n    #tensor = tensor.cpu().numpy()\\n\\n    # If the tensor is 3D (C, H, W) and has a single channel, squeeze it to (H, W)\\n    if len(tensor.shape) == 3 and tensor.shape[0] == 1:\\n        tensor = tensor.squeeze(0)\\n\\n    # Display the image\\n    plt.imshow(tensor, cmap='gray')\\n    plt.show()\\n\\n# Move your tensors to CPU (if they are not already)\\nX_train_cpu = x\\nY_train_cpu = y\\n\\n# Perform a sanity check on some random training samples\\nix = random.randint(0, len(preds_train_t))\\nimshow_tensor(X_train_cpu[ix])\\nimshow_tensor(Y_train_cpu[ix])\\nimshow_tensor(preds_train_t[ix].cpu())\\n\""
      ]
     },
     "execution_count": 39,
     "metadata": {},
     "output_type": "execute_result"
    }
   ],
   "source": [
    "'''\n",
    "import random\n",
    "import torch\n",
    "import matplotlib.pyplot as plt\n",
    "\n",
    "# Define a function to display images\n",
    "def imshow_tensor(tensor):\n",
    "    # Ensure the tensor is on the CPU and convert it to a NumPy array\n",
    "    #tensor = tensor.cpu().numpy()\n",
    "\n",
    "    # If the tensor is 3D (C, H, W) and has a single channel, squeeze it to (H, W)\n",
    "    if len(tensor.shape) == 3 and tensor.shape[0] == 1:\n",
    "        tensor = tensor.squeeze(0)\n",
    "\n",
    "    # Display the image\n",
    "    plt.imshow(tensor, cmap='gray')\n",
    "    plt.show()\n",
    "\n",
    "# Move your tensors to CPU (if they are not already)\n",
    "X_train_cpu = x\n",
    "Y_train_cpu = y\n",
    "\n",
    "# Perform a sanity check on some random training samples\n",
    "ix = random.randint(0, len(preds_train_t))\n",
    "imshow_tensor(X_train_cpu[ix])\n",
    "imshow_tensor(Y_train_cpu[ix])\n",
    "imshow_tensor(preds_train_t[ix].cpu())\n",
    "'''\n"
   ]
  },
  {
   "cell_type": "code",
   "execution_count": 51,
   "metadata": {},
   "outputs": [
    {
     "data": {
      "image/png": "[encoded data removed]",
      "text/plain": [
       "<Figure size 640x480 with 1 Axes>"
      ]
     },
     "metadata": {},
     "output_type": "display_data"
    },
    {
     "data": {
      "image/png": "[encoded data removed]",
      "text/plain": [
       "<Figure size 640x480 with 2 Axes>"
      ]
     },
     "metadata": {},
     "output_type": "display_data"
    },
    {
     "data": {
      "image/png": "[encoded data removed]",
      "text/plain": [
       "<Figure size 640x480 with 2 Axes>"
      ]
     },
     "metadata": {},
     "output_type": "display_data"
    }
   ],
   "source": [
    "import random\n",
    "import torch\n",
    "import matplotlib.pyplot as plt\n",
    "\n",
    "# Define a function to display images\n",
    "def imshow_tensor(tensor):\n",
    "    # Ensure the tensor is on the CPU and convert it to a NumPy array\n",
    "    #tensor = tensor.cpu().numpy()\n",
    "\n",
    "    # If the tensor is 3D (C, H, W) and has a single channel, squeeze it to (H, W)\n",
    "    if len(tensor.shape) == 3 and tensor.shape[0] == 1:\n",
    "        tensor = tensor.squeeze(0)\n",
    "    \n",
    "    if tensor.shape[0] == 3:\n",
    "        tensor = np.transpose(tensor, (1, 2, 0))\n",
    "\n",
    "    # Display the image\n",
    "    plt.imshow(tensor, cmap='gray')\n",
    "    plt.show()\n",
    "\n",
    "# Move your tensors to CPU (if they are not already)\n",
    "X_val_cpu = x_val\n",
    "Y_val_cpu = y_val\n",
    "\n",
    "# Perform a sanity check on some random training samples\n",
    "ix = random.randint(0, len(preds_val_t)-1)\n",
    "predicted_val_mask = preds_val_t[ix].cpu().numpy()\n",
    "#predicted_val_mask = np.transpose(predicted_val_mask,(1,2,0))\n",
    "\n",
    "imshow_tensor(X_val_cpu[ix,:,:,0])\n",
    "#imshow_tensor(Y_val_cpu[ix])\n",
    "show_mask(Y_val_cpu[ix])\n",
    "#imshow_tensor(np.squeeze(preds_val[ix]).cpu().astype(np.float32) / 255.0)\n",
    "show_mask(predicted_val_mask)"
   ]
  },
  {
   "cell_type": "code",
   "execution_count": 41,
   "metadata": {},
   "outputs": [],
   "source": [
    "import cv2\n",
    "\n",
    "for i in range(len(preds_val_t) - 1):\n",
    "    predicted_mask = preds_val_t[i].cpu().numpy()\n",
    "    #predicted_mask = np.transpose(predicted_mask, (1, 2, 0))\n",
    "    \n",
    "    ground_show = Y_val_cpu[i,:,:,0]\n",
    "\n",
    "    mask_name = os.path.join('./result/val', f'predicted_mask_{i}.jpg')\n",
    "    image_name = os.path.join('./result/val', f'image_{i}.jpg')\n",
    "    ground_name = os.path.join('./result/val', f'ground_truth_{i}.jpg')\n",
    "\n",
    "    cmap = plt.cm.colors.ListedColormap(['black', 'green', 'yellow'])  \n",
    "    bounds = [-0.5, 0.5, 1.5, 2.5]  \n",
    "    norm = plt.cm.colors.BoundaryNorm(bounds, cmap.N)\n",
    "    \n",
    "    plt.imshow(predicted_mask, cmap=cmap, norm=norm)\n",
    "    cbar = plt.colorbar(ticks=[0, 1, 2]) \n",
    "    cbar.ax.set_yticklabels(['Background', 'Live', 'Dead'])\n",
    "    plt.axis('off')\n",
    "    \n",
    "    plt.savefig(mask_name)\n",
    "    plt.close()\n",
    "\n",
    "    # plt.imshow(X_val_cpu[i, :, :, 0, 0], cmap='gray')\n",
    "    # plt.axis('off')\n",
    "    # plt.savefig(image_name)\n",
    "    # plt.close()\n",
    "\n",
    "    cmap = plt.cm.colors.ListedColormap(['black', 'green', 'yellow'])  \n",
    "    bounds = [-0.5, 0.5, 1.5, 2.5]  \n",
    "    norm = plt.cm.colors.BoundaryNorm(bounds, cmap.N)\n",
    "    \n",
    "    plt.imshow(ground_show, cmap=cmap, norm=norm)\n",
    "    cbar = plt.colorbar(ticks=[0, 1, 2]) \n",
    "    cbar.ax.set_yticklabels(['Background', 'Live', 'Dead'])\n",
    "    plt.axis('off')\n",
    "    plt.savefig(ground_name)\n",
    "    plt.close()\n"
   ]
  },
  {
   "cell_type": "code",
   "execution_count": 42,
   "metadata": {},
   "outputs": [],
   "source": [
    "# # Run-length encoding stolen from https://www.kaggle.com/rakhlin/fast-run-length-encoding-python\n",
    "# def rle_encoding(x):\n",
    "#     dots = np.where(x.T.flatten() == 1)[0]\n",
    "#     run_lengths = []\n",
    "#     prev = -2\n",
    "#     for b in dots:\n",
    "#         if (b>prev+1): run_lengths.extend((b + 1, 0))\n",
    "#         run_lengths[-1] += 1\n",
    "#         prev = b\n",
    "#     return run_lengths\n",
    "\n",
    "# def prob_to_rles(x, cutoff=0.5):\n",
    "#     lab_img = label(x > cutoff)\n",
    "#     for i in range(1, lab_img.max() + 1):\n",
    "#         yield rle_encoding(lab_img == i)\n",
    "# new_test_ids = []\n",
    "# rles = []\n",
    "# for n, id_ in enumerate(test_ids):\n",
    "#     if n > len(preds_test_t) - 1:\n",
    "#         n = len(preds_test_t) - 1\n",
    "#     rle = list(prob_to_rles(preds_test_t[n].cpu()))\n",
    "#     rles.extend(rle)\n",
    "#     new_test_ids.extend([id_] * len(rle))\n",
    "#print(rles)"
   ]
  },
  {
   "cell_type": "code",
   "execution_count": 43,
   "metadata": {},
   "outputs": [],
   "source": [
    "# import torch.onnx\n",
    "\n",
    "# dummy_input = torch.randn(1, 3, 128, 128).to(device1)\n",
    "\n",
    "# model.eval()\n",
    "\n",
    "# onnx_file_path = \"unet_model.onnx\"\n",
    "# torch.onnx.export(model, dummy_input, onnx_file_path, verbose=False)\n",
    "\n",
    "# print(f\"ONNX saved in: {onnx_file_path}\")\n",
    "\n"
   ]
  },
  {
   "cell_type": "code",
   "execution_count": 44,
   "metadata": {},
   "outputs": [],
   "source": [
    "# image =X.to(device2)\n",
    "# output = model(image)"
   ]
  }
 ],
 "metadata": {
  "kernelspec": {
   "display_name": "Python 3 (ipykernel)",
   "language": "python",
   "name": "python3"
  },
  "language_info": {
   "codemirror_mode": {
    "name": "ipython",
    "version": 3
   },
   "file_extension": ".py",
   "mimetype": "text/x-python",
   "name": "python",
   "nbconvert_exporter": "python",
   "pygments_lexer": "ipython3",
   "version": "3.10.13"
  }
 },
 "nbformat": 4,
 "nbformat_minor": 4
}
