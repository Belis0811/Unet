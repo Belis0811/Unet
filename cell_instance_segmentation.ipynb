{
 "cells": [
  {
   "cell_type": "code",
   "execution_count": 1,
   "metadata": {},
   "outputs": [],
   "source": [
    "#!pip install scikit-image\n",
    "#!pip install torchsummary"
   ]
  },
  {
   "cell_type": "code",
   "execution_count": 2,
   "metadata": {
    "colab": {
     "base_uri": "https://localhost:8080/"
    },
    "id": "kZd3yYUBmlDc",
    "outputId": "fbfec29d-7000-486a-bae0-842996f49895"
   },
   "outputs": [
    {
     "name": "stderr",
     "output_type": "stream",
     "text": [
      "/home/chenzhong/miniconda3/envs/resnet_anzhe/lib/python3.9/site-packages/tqdm/auto.py:21: TqdmWarning: IProgress not found. Please update jupyter and ipywidgets. See https://ipywidgets.readthedocs.io/en/stable/user_install.html\n",
      "  from .autonotebook import tqdm as notebook_tqdm\n"
     ]
    }
   ],
   "source": [
    "import os\n",
    "import sys\n",
    "import random\n",
    "import warnings\n",
    "\n",
    "import numpy as np\n",
    "import pandas as pd\n",
    "\n",
    "import matplotlib.pyplot as plt\n",
    "\n",
    "from tqdm import tqdm\n",
    "from itertools import chain\n",
    "from skimage.io import imread, imshow, imread_collection, concatenate_images\n",
    "from skimage.transform import resize\n",
    "from skimage.morphology import label\n",
    "\n",
    "import torch\n",
    "import torch.nn as nn\n",
    "import torch.optim as optim\n",
    "import torch.utils.data as data\n",
    "import torchvision.transforms as transforms\n",
    "import torch.nn.functional as F\n",
    "\n",
    "'''\n",
    "from google.colab import drive\n",
    "drive.mount('/content/drive')\n",
    "'''\n",
    "\n",
    "# Set some parameters\n",
    "BATCH_SIZE = 2 # the higher the better\n",
    "IMG_WIDTH = 128 # for faster computing on kaggle\n",
    "IMG_HEIGHT = 128 # for faster computing on kaggle\n",
    "IMG_CHANNELS = 3\n",
    "\n",
    "#TRAIN_PATH = '/content/drive/My Drive/UNet/Cell'\n",
    "#TEST_PATH = '/content/drive/My Drive/UNet/Cell'\n",
    "\n",
    "TRAIN_PATH = './Cell/Cell'\n",
    "TEST_PATH = './Cell/Cell'\n",
    "\n",
    "warnings.filterwarnings('ignore', category=UserWarning, module='skimage')\n",
    "seed = 42"
   ]
  },
  {
   "cell_type": "code",
   "execution_count": 3,
   "metadata": {},
   "outputs": [
    {
     "ename": "FileNotFoundError",
     "evalue": "[Errno 2] No such file or directory: 'X.npy'",
     "output_type": "error",
     "traceback": [
      "\u001b[0;31m---------------------------------------------------------------------------\u001b[0m",
      "\u001b[0;31mFileNotFoundError\u001b[0m                         Traceback (most recent call last)",
      "Cell \u001b[0;32mIn[3], line 1\u001b[0m\n\u001b[0;32m----> 1\u001b[0m X_train \u001b[38;5;241m=\u001b[39m \u001b[43mnp\u001b[49m\u001b[38;5;241;43m.\u001b[39;49m\u001b[43mload\u001b[49m\u001b[43m(\u001b[49m\u001b[38;5;124;43m'\u001b[39;49m\u001b[38;5;124;43mX.npy\u001b[39;49m\u001b[38;5;124;43m'\u001b[39;49m\u001b[43m)\u001b[49m\n\u001b[1;32m      2\u001b[0m Y_train \u001b[38;5;241m=\u001b[39m np\u001b[38;5;241m.\u001b[39mload(\u001b[38;5;124m'\u001b[39m\u001b[38;5;124mY.npy\u001b[39m\u001b[38;5;124m'\u001b[39m)\n",
      "File \u001b[0;32m~/miniconda3/envs/resnet_anzhe/lib/python3.9/site-packages/numpy/lib/npyio.py:427\u001b[0m, in \u001b[0;36mload\u001b[0;34m(file, mmap_mode, allow_pickle, fix_imports, encoding, max_header_size)\u001b[0m\n\u001b[1;32m    425\u001b[0m     own_fid \u001b[38;5;241m=\u001b[39m \u001b[38;5;28;01mFalse\u001b[39;00m\n\u001b[1;32m    426\u001b[0m \u001b[38;5;28;01melse\u001b[39;00m:\n\u001b[0;32m--> 427\u001b[0m     fid \u001b[38;5;241m=\u001b[39m stack\u001b[38;5;241m.\u001b[39menter_context(\u001b[38;5;28;43mopen\u001b[39;49m\u001b[43m(\u001b[49m\u001b[43mos_fspath\u001b[49m\u001b[43m(\u001b[49m\u001b[43mfile\u001b[49m\u001b[43m)\u001b[49m\u001b[43m,\u001b[49m\u001b[43m \u001b[49m\u001b[38;5;124;43m\"\u001b[39;49m\u001b[38;5;124;43mrb\u001b[39;49m\u001b[38;5;124;43m\"\u001b[39;49m\u001b[43m)\u001b[49m)\n\u001b[1;32m    428\u001b[0m     own_fid \u001b[38;5;241m=\u001b[39m \u001b[38;5;28;01mTrue\u001b[39;00m\n\u001b[1;32m    430\u001b[0m \u001b[38;5;66;03m# Code to distinguish from NumPy binary files and pickles.\u001b[39;00m\n",
      "\u001b[0;31mFileNotFoundError\u001b[0m: [Errno 2] No such file or directory: 'X.npy'"
     ]
    }
   ],
   "source": [
    "X_train = np.load('X.npy')\n",
    "Y_train = np.load('Y.npy')"
   ]
  },
  {
   "cell_type": "code",
   "execution_count": null,
   "metadata": {
    "colab": {
     "base_uri": "https://localhost:8080/"
    },
    "id": "UsV_Ogd2nmC4",
    "outputId": "fbec4fd0-ebdb-40f3-fdc8-1d09b70309fe"
   },
   "outputs": [],
   "source": [
    "import torchvision.transforms as transforms\n",
    "from torch.utils.data import TensorDataset, DataLoader\n",
    "from torchvision.datasets import ImageFolder\n",
    "from sklearn.model_selection import train_test_split\n",
    "\n",
    "#x, y, x_val, y_val = train_test_split(X_train, Y_train, test_size=0.1, random_state=seed)\n",
    "#split dataset to 80% 10% 10%\n",
    "split_ratio = 0.8\n",
    "split_idx = int(X_train.shape[0] * split_ratio)\n",
    "\n",
    "x = X_train[:split_idx]\n",
    "y = Y_train[:split_idx]\n",
    "x_val = X_train[split_idx:]\n",
    "y_val = Y_train[split_idx:]\n",
    "\n",
    "test_ratio = 0.5\n",
    "split_test = int(x_val.shape[0]*test_ratio)\n",
    "\n",
    "X_test = x_val[split_test:]\n",
    "#test_ids = X_test\n",
    "\n",
    "x_val = x_val[:split_test]\n",
    "y_val = y_val[:split_test]\n",
    "\n",
    "# print(x.shape)\n",
    "# print(y.shape)\n",
    "\n",
    "########when label is matched delete this#######################\n",
    "#x = x[:93]\n",
    "#x_val = x_val[:93]\n",
    "################################################################\n",
    "x_train_tensor = torch.from_numpy(x)\n",
    "y_train_tensor = torch.from_numpy(y)\n",
    "# x_train_tensor = torch.tensor(x_train_tensor, dtype=torch.float32)\n",
    "# y_train_tensor = torch.tensor(y_train_tensor, dtype=torch.float32)\n",
    "x_train_tensor = x_train_tensor.to(torch.float32).clone().detach().requires_grad_(True)\n",
    "y_train_tensor = y_train_tensor.to(torch.float32).clone().detach().requires_grad_(True)\n",
    "#print(x_train_tensor.shape)\n",
    "#print(y_train_tensor.shape)\n",
    "x_val_tensor = torch.from_numpy(x_val)\n",
    "y_val_tensor = torch.from_numpy(y_val)\n",
    "# x_val_tensor = torch.tensor(x_val_tensor, dtype=torch.float32)\n",
    "# y_val_tensor = torch.tensor(y_val_tensor, dtype=torch.float32)\n",
    "x_val_tensor = x_val_tensor.to(torch.float32).clone().detach().requires_grad_(True)\n",
    "y_val_tensor = y_val_tensor.to(torch.float32).clone().detach().requires_grad_(True)\n",
    "\n",
    "train_dataset = TensorDataset(x_train_tensor, y_train_tensor)\n",
    "val_dataset = TensorDataset(x_val_tensor, y_val_tensor)\n",
    "\n",
    "train_loader = DataLoader(train_dataset, batch_size=BATCH_SIZE, shuffle=True, pin_memory=True)\n",
    "val_loader = DataLoader(val_dataset, batch_size=BATCH_SIZE, shuffle=False, pin_memory=True)\n"
   ]
  },
  {
   "cell_type": "code",
   "execution_count": null,
   "metadata": {
    "colab": {
     "base_uri": "https://localhost:8080/",
     "height": 645
    },
    "id": "aKngslKmnxav",
    "outputId": "e1bf78fc-d8a6-4d65-a27d-7652d508786d"
   },
   "outputs": [
    {
     "data": {
      "text/plain": [
       "(-0.5, 127.5, 127.5, -0.5)"
      ]
     },
     "execution_count": 5,
     "metadata": {},
     "output_type": "execute_result"
    },
    {
     "data": {
      "image/png": "[encoded data removed]",
      "text/plain": [
       "<Figure size 1000x500 with 2 Axes>"
      ]
     },
     "metadata": {},
     "output_type": "display_data"
    },
    {
     "data": {
      "image/png": "[encoded data removed]",
      "text/plain": [
       "<Figure size 1000x500 with 2 Axes>"
      ]
     },
     "metadata": {},
     "output_type": "display_data"
    }
   ],
   "source": [
    "import torchvision.transforms as transforms\n",
    "from torchvision.utils import make_grid\n",
    "import matplotlib.pyplot as plt\n",
    "from matplotlib.colors import Normalize\n",
    "\n",
    "\n",
    "plt.figure(figsize=(10, 5))\n",
    "plt.subplot(1, 2, 1)\n",
    "plt.imshow(x[0,:,:,0], cmap='gray')\n",
    "plt.title(\"Images\")\n",
    "plt.axis('off')\n",
    "\n",
    "plt.subplot(1, 2, 2)\n",
    "plt.imshow(y[0], cmap='gray')\n",
    "plt.title(\"Masks\")\n",
    "plt.axis('off')\n",
    "\n",
    "plt.figure(figsize=(10, 5))\n",
    "plt.subplot(2, 2, 1)\n",
    "plt.imshow(x_val[1,:,:,0], cmap='gray')\n",
    "plt.title(\"Val_Images\")\n",
    "plt.axis('off')\n",
    "\n",
    "plt.subplot(2, 2, 2)\n",
    "plt.imshow(y_val[1], cmap='gray')\n",
    "plt.title(\"Val_Masks\")\n",
    "plt.axis('off')"
   ]
  },
  {
   "cell_type": "code",
   "execution_count": null,
   "metadata": {
    "id": "kxd1WunwoCem"
   },
   "outputs": [],
   "source": [
    "#creating a training and validation generator that generate masks and images\n",
    "#train_generator = zip(x, y)\n",
    "#val_generator = zip(x_val, y_val)"
   ]
  },
  {
   "cell_type": "code",
   "execution_count": null,
   "metadata": {
    "id": "zpZtlUdvsx2l"
   },
   "outputs": [],
   "source": [
    "# Define IoU metric\n",
    "import torch\n",
    "\n",
    "# def mean_iou(y_pred, y_true):\n",
    "#     num_classes = y_true.size(1)\n",
    "#     ious = []\n",
    "    \n",
    "#     for cls in range(num_classes):\n",
    "#         intersection = torch.logical_and(y_true[:, cls, :, :], y_pred[:, cls, :, :]).sum()\n",
    "#         union = torch.logical_or(y_true[:, cls, :, :], y_pred[:, cls, :, :]).sum()\n",
    "\n",
    "#         iou = (intersection.float() + 1e-10) / (union.float() + 1e-10)\n",
    "#         ious.append(iou)\n",
    "\n",
    "#     mean_iou = torch.mean(torch.stack(ious))\n",
    "#     return mean_iou.item()\n",
    "def mean_iou(y_pred, y_true):\n",
    "    prec = []\n",
    "    \n",
    "    for t in torch.arange(0.5, 1.0, 0.05):\n",
    "        y_pred_ = (y_pred > t).float()\n",
    "        y_true_ = y_true.float()\n",
    "\n",
    "        intersection = torch.sum(y_true_ * y_pred_)\n",
    "        union = torch.sum((y_true_ + y_pred_).clamp(0, 1))\n",
    "\n",
    "        iou = intersection / union\n",
    "        prec.append(iou.item())\n",
    "    \n",
    "    return torch.mean(torch.tensor(prec))"
   ]
  },
  {
   "cell_type": "code",
   "execution_count": null,
   "metadata": {
    "id": "3eIzl3PHoC94"
   },
   "outputs": [],
   "source": [
    "class SelfAttention(nn.Module):\n",
    "    def __init__(self, channels, size):\n",
    "        super(SelfAttention, self).__init__()\n",
    "        self.channels = channels\n",
    "        self.size = size\n",
    "        self.mha = nn.MultiheadAttention(channels, 4, batch_first=True)\n",
    "        self.ln = nn.LayerNorm([channels])\n",
    "        self.ff_self = nn.Sequential(\n",
    "            nn.LayerNorm([channels]),\n",
    "            nn.Linear(channels, channels),\n",
    "            nn.GELU(),\n",
    "            nn.Linear(channels, channels),\n",
    "        )\n",
    "\n",
    "    def forward(self, x):\n",
    "        x = x.view(-1, self.channels, self.size * self.size).swapaxes(1, 2)\n",
    "        x_ln = self.ln(x)\n",
    "        attention_value, _ = self.mha(x_ln, x_ln, x_ln)\n",
    "        attention_value = attention_value + x\n",
    "        attention_value = self.ff_self(attention_value) + attention_value\n",
    "        return attention_value.swapaxes(2, 1).view(-1, self.channels, self.size, self.size)\n",
    "\n",
    "class ConvBlock(nn.Module):\n",
    "    def __init__(self, in_channels, out_channels, mid_channels=None, residual=False):\n",
    "        super(ConvBlock, self).__init__()\n",
    "        self.residual = residual\n",
    "        if not mid_channels:\n",
    "            mid_channels = out_channels\n",
    "        self.conv_block = nn.Sequential(\n",
    "            nn.Conv2d(in_channels, mid_channels, kernel_size=3, padding=1, bias=False),\n",
    "            nn.GroupNorm(1, mid_channels),\n",
    "            nn.GELU(),\n",
    "            nn.Conv2d(mid_channels, out_channels, kernel_size=3, padding=1, bias=False),\n",
    "            nn.GroupNorm(1, out_channels),\n",
    "        )\n",
    "\n",
    "    def forward(self, x):\n",
    "        if self.residual:\n",
    "            return F.gelu(x + self.conv_block(x))\n",
    "        else:\n",
    "            return self.conv_block(x)\n",
    "\n",
    "class DownSample(nn.Module):\n",
    "    def __init__(self, in_channels, out_channels, emb_dim=256):\n",
    "        super(DownSample, self).__init__()\n",
    "        self.maxpool_conv = nn.Sequential(\n",
    "            nn.MaxPool2d(2),\n",
    "            ConvBlock(in_channels, in_channels, residual=True),\n",
    "            ConvBlock(in_channels, out_channels),\n",
    "        )\n",
    "\n",
    "        self.emb_layer = nn.Sequential(\n",
    "            nn.SiLU(),\n",
    "            nn.Linear(emb_dim, out_channels),\n",
    "        )\n",
    "\n",
    "    def forward(self, x):\n",
    "        x = self.maxpool_conv(x)\n",
    "        return x\n",
    "\n",
    "class UpSample(nn.Module):\n",
    "    def __init__(self, in_channels, out_channels, emb_dim=256):\n",
    "        super(UpSample, self).__init__()\n",
    "\n",
    "        self.upsample = nn.Upsample(scale_factor=2, mode=\"bilinear\", align_corners=True)\n",
    "        self.out_channels = out_channels\n",
    "        self.conv = nn.Sequential(\n",
    "            ConvBlock(in_channels, in_channels, residual=True),\n",
    "            ConvBlock(in_channels, out_channels, in_channels // 2),\n",
    "        )\n",
    "\n",
    "        self.emb_layer = nn.Sequential(\n",
    "            nn.SiLU(),\n",
    "            nn.Linear(emb_dim, out_channels),\n",
    "        )\n",
    "\n",
    "    def forward(self, x, skip_x):\n",
    "\n",
    "        x = self.upsample(x)\n",
    "        #print(x.shape)\n",
    "        #print(skip_x.shape)\n",
    "        x = torch.cat([skip_x, x], dim=1)\n",
    "        x = self.conv(x)\n",
    "        #emb = self.emb_layer(t)[:, :, None, None].expand(-1, -1, x.shape[-2], x.shape[-1])\n",
    "        return x\n",
    "\n",
    "class UNet(nn.Module):\n",
    "    def __init__(self, c_in=3, c_out=3):\n",
    "        super(UNet, self).__init__()\n",
    "        self.initial_conv = ConvBlock(c_in, 64)\n",
    "        self.downsample1 = DownSample(64, 128)\n",
    "        self.self_attention1 = SelfAttention(128, 128)\n",
    "        self.downsample2 = DownSample(128, 256)\n",
    "        self.self_attention2 = SelfAttention(256, 256)\n",
    "        self.downsample3 = DownSample(256, 256)\n",
    "        self.self_attention3 = SelfAttention(256, 256)\n",
    "\n",
    "        self.bottom1 = ConvBlock(256, 512)\n",
    "        self.bottom2 = ConvBlock(512, 512)\n",
    "        self.bottom3 = ConvBlock(512, 256)\n",
    "\n",
    "        self.upsample1 = UpSample(512, 128)\n",
    "        self.self_attention4 = SelfAttention(128, 128)\n",
    "        self.upsample2 = UpSample(256, 64)\n",
    "        self.self_attention5 = SelfAttention(64, 64)\n",
    "        self.upsample3 = UpSample(128, 64)\n",
    "        self.self_attention6 = SelfAttention(64, 64)\n",
    "        self.output_conv = nn.Conv2d(64, c_out, kernel_size=1)\n",
    "\n",
    "    def forward(self, x):\n",
    "\n",
    "        x1 = self.initial_conv(x)\n",
    "        x2 = self.downsample1(x1)\n",
    "        #x2 = self.self_attention1(x2)\n",
    "        x3 = self.downsample2(x2)\n",
    "        #x3 = self.self_attention2(x3)\n",
    "        x4 = self.downsample3(x3)\n",
    "        #x4 = self.self_attention3(x4)\n",
    "\n",
    "        x4 = self.bottom1(x4)\n",
    "        x4 = self.bottom2(x4)\n",
    "        x4 = self.bottom3(x4)\n",
    "\n",
    "        x = self.upsample1(x4, x3)\n",
    "        #x = self.self_attention4(x)\n",
    "        x = self.upsample2(x, x2)\n",
    "        #x = self.self_attention5(x)\n",
    "        x = self.upsample3(x, x1)\n",
    "        #x = self.self_attention6(x)\n",
    "        output = self.output_conv(x)\n",
    "        return output\n"
   ]
  },
  {
   "cell_type": "code",
   "execution_count": null,
   "metadata": {
    "id": "VUl5vR9zunWT"
   },
   "outputs": [],
   "source": [
    "#define early stopping\n",
    "class EarlyStopping:\n",
    "    def __init__(self, patience=3, verbose=True):\n",
    "        self.patience = patience\n",
    "        self.verbose = verbose\n",
    "        self.counter = 0\n",
    "        self.best_score = None\n",
    "        self.early_stop = False\n",
    "\n",
    "    def __call__(self, val_loss, model):\n",
    "        if self.best_score is None:\n",
    "            self.best_score = val_loss\n",
    "            self.save_checkpoint(model)\n",
    "        elif val_loss > self.best_score:\n",
    "            self.counter += 1\n",
    "            if self.verbose:\n",
    "                print(f'EarlyStopping counter: {self.counter} out of {self.patience}')\n",
    "            if self.counter >= self.patience:\n",
    "                self.early_stop = True\n",
    "        else:\n",
    "            self.best_score = val_loss\n",
    "            self.save_checkpoint(model)\n",
    "            self.counter = 0\n",
    "        return self.early_stop\n",
    "\n",
    "    def save_checkpoint(self, model):\n",
    "        if self.verbose:\n",
    "            print(f'Saving model...')\n",
    "        torch.save(model.state_dict(), 'checkpoint.pth')\n"
   ]
  },
  {
   "cell_type": "code",
   "execution_count": null,
   "metadata": {
    "id": "L5t2F8q2oVaW"
   },
   "outputs": [],
   "source": [
    "c_in = 3  # input channel 3 for RGB\n",
    "c_out = 1  # output channel\n",
    "if torch.cuda.device_count() > 1:\n",
    "    device1 = torch.device(\"cuda:0\")\n",
    "    device2 = torch.device(\"cuda:1\")\n",
    "else:\n",
    "    raise RuntimeError(\"Multiple GPUs are required.\")\n",
    "\n",
    "model = UNet(c_in, c_out)\n",
    "\n",
    "criterion = nn.BCEWithLogitsLoss()\n",
    "\n",
    "optimizer = optim.Adam(model.parameters(), lr=0.001)\n",
    "early_stopping = EarlyStopping(patience=15, verbose=True)"
   ]
  },
  {
   "cell_type": "code",
   "execution_count": null,
   "metadata": {
    "colab": {
     "base_uri": "https://localhost:8080/"
    },
    "id": "S_rJgq05eHvi",
    "outputId": "8cdac83d-abc5-46f7-aa9d-825f58a1f61a"
   },
   "outputs": [
    {
     "name": "stdout",
     "output_type": "stream",
     "text": [
      "----------------------------------------------------------------\n",
      "        Layer (type)               Output Shape         Param #\n",
      "================================================================\n",
      "            Conv2d-1         [-1, 64, 128, 128]           1,728\n",
      "         GroupNorm-2         [-1, 64, 128, 128]             128\n",
      "              GELU-3         [-1, 64, 128, 128]               0\n",
      "            Conv2d-4         [-1, 64, 128, 128]          36,864\n",
      "         GroupNorm-5         [-1, 64, 128, 128]             128\n",
      "         ConvBlock-6         [-1, 64, 128, 128]               0\n",
      "         MaxPool2d-7           [-1, 64, 64, 64]               0\n",
      "            Conv2d-8           [-1, 64, 64, 64]          36,864\n",
      "         GroupNorm-9           [-1, 64, 64, 64]             128\n",
      "             GELU-10           [-1, 64, 64, 64]               0\n",
      "           Conv2d-11           [-1, 64, 64, 64]          36,864\n",
      "        GroupNorm-12           [-1, 64, 64, 64]             128\n",
      "        ConvBlock-13           [-1, 64, 64, 64]               0\n",
      "           Conv2d-14          [-1, 128, 64, 64]          73,728\n",
      "        GroupNorm-15          [-1, 128, 64, 64]             256\n",
      "             GELU-16          [-1, 128, 64, 64]               0\n",
      "           Conv2d-17          [-1, 128, 64, 64]         147,456\n",
      "        GroupNorm-18          [-1, 128, 64, 64]             256\n",
      "        ConvBlock-19          [-1, 128, 64, 64]               0\n",
      "       DownSample-20          [-1, 128, 64, 64]               0\n",
      "        MaxPool2d-21          [-1, 128, 32, 32]               0\n",
      "           Conv2d-22          [-1, 128, 32, 32]         147,456\n",
      "        GroupNorm-23          [-1, 128, 32, 32]             256\n",
      "             GELU-24          [-1, 128, 32, 32]               0\n",
      "           Conv2d-25          [-1, 128, 32, 32]         147,456\n",
      "        GroupNorm-26          [-1, 128, 32, 32]             256\n",
      "        ConvBlock-27          [-1, 128, 32, 32]               0\n",
      "           Conv2d-28          [-1, 256, 32, 32]         294,912\n",
      "        GroupNorm-29          [-1, 256, 32, 32]             512\n",
      "             GELU-30          [-1, 256, 32, 32]               0\n",
      "           Conv2d-31          [-1, 256, 32, 32]         589,824\n",
      "        GroupNorm-32          [-1, 256, 32, 32]             512\n",
      "        ConvBlock-33          [-1, 256, 32, 32]               0\n",
      "       DownSample-34          [-1, 256, 32, 32]               0\n",
      "        MaxPool2d-35          [-1, 256, 16, 16]               0\n",
      "           Conv2d-36          [-1, 256, 16, 16]         589,824\n",
      "        GroupNorm-37          [-1, 256, 16, 16]             512\n",
      "             GELU-38          [-1, 256, 16, 16]               0\n",
      "           Conv2d-39          [-1, 256, 16, 16]         589,824\n",
      "        GroupNorm-40          [-1, 256, 16, 16]             512\n",
      "        ConvBlock-41          [-1, 256, 16, 16]               0\n",
      "           Conv2d-42          [-1, 256, 16, 16]         589,824\n",
      "        GroupNorm-43          [-1, 256, 16, 16]             512\n",
      "             GELU-44          [-1, 256, 16, 16]               0\n",
      "           Conv2d-45          [-1, 256, 16, 16]         589,824\n",
      "        GroupNorm-46          [-1, 256, 16, 16]             512\n",
      "        ConvBlock-47          [-1, 256, 16, 16]               0\n",
      "       DownSample-48          [-1, 256, 16, 16]               0\n",
      "           Conv2d-49          [-1, 512, 16, 16]       1,179,648\n",
      "        GroupNorm-50          [-1, 512, 16, 16]           1,024\n",
      "             GELU-51          [-1, 512, 16, 16]               0\n",
      "           Conv2d-52          [-1, 512, 16, 16]       2,359,296\n",
      "        GroupNorm-53          [-1, 512, 16, 16]           1,024\n",
      "        ConvBlock-54          [-1, 512, 16, 16]               0\n",
      "           Conv2d-55          [-1, 512, 16, 16]       2,359,296\n",
      "        GroupNorm-56          [-1, 512, 16, 16]           1,024\n",
      "             GELU-57          [-1, 512, 16, 16]               0\n",
      "           Conv2d-58          [-1, 512, 16, 16]       2,359,296\n",
      "        GroupNorm-59          [-1, 512, 16, 16]           1,024\n",
      "        ConvBlock-60          [-1, 512, 16, 16]               0\n",
      "           Conv2d-61          [-1, 256, 16, 16]       1,179,648\n",
      "        GroupNorm-62          [-1, 256, 16, 16]             512\n",
      "             GELU-63          [-1, 256, 16, 16]               0\n",
      "           Conv2d-64          [-1, 256, 16, 16]         589,824\n",
      "        GroupNorm-65          [-1, 256, 16, 16]             512\n",
      "        ConvBlock-66          [-1, 256, 16, 16]               0\n",
      "         Upsample-67          [-1, 256, 32, 32]               0\n",
      "           Conv2d-68          [-1, 512, 32, 32]       2,359,296\n",
      "        GroupNorm-69          [-1, 512, 32, 32]           1,024\n",
      "             GELU-70          [-1, 512, 32, 32]               0\n",
      "           Conv2d-71          [-1, 512, 32, 32]       2,359,296\n",
      "        GroupNorm-72          [-1, 512, 32, 32]           1,024\n",
      "        ConvBlock-73          [-1, 512, 32, 32]               0\n",
      "           Conv2d-74          [-1, 256, 32, 32]       1,179,648\n",
      "        GroupNorm-75          [-1, 256, 32, 32]             512\n",
      "             GELU-76          [-1, 256, 32, 32]               0\n",
      "           Conv2d-77          [-1, 128, 32, 32]         294,912\n",
      "        GroupNorm-78          [-1, 128, 32, 32]             256\n",
      "        ConvBlock-79          [-1, 128, 32, 32]               0\n",
      "         UpSample-80          [-1, 128, 32, 32]               0\n",
      "         Upsample-81          [-1, 128, 64, 64]               0\n",
      "           Conv2d-82          [-1, 256, 64, 64]         589,824\n",
      "        GroupNorm-83          [-1, 256, 64, 64]             512\n",
      "             GELU-84          [-1, 256, 64, 64]               0\n",
      "           Conv2d-85          [-1, 256, 64, 64]         589,824\n",
      "        GroupNorm-86          [-1, 256, 64, 64]             512\n",
      "        ConvBlock-87          [-1, 256, 64, 64]               0\n",
      "           Conv2d-88          [-1, 128, 64, 64]         294,912\n",
      "        GroupNorm-89          [-1, 128, 64, 64]             256\n",
      "             GELU-90          [-1, 128, 64, 64]               0\n",
      "           Conv2d-91           [-1, 64, 64, 64]          73,728\n",
      "        GroupNorm-92           [-1, 64, 64, 64]             128\n",
      "        ConvBlock-93           [-1, 64, 64, 64]               0\n",
      "         UpSample-94           [-1, 64, 64, 64]               0\n",
      "         Upsample-95         [-1, 64, 128, 128]               0\n",
      "           Conv2d-96        [-1, 128, 128, 128]         147,456\n",
      "        GroupNorm-97        [-1, 128, 128, 128]             256\n",
      "             GELU-98        [-1, 128, 128, 128]               0\n",
      "           Conv2d-99        [-1, 128, 128, 128]         147,456\n",
      "       GroupNorm-100        [-1, 128, 128, 128]             256\n",
      "       ConvBlock-101        [-1, 128, 128, 128]               0\n",
      "          Conv2d-102         [-1, 64, 128, 128]          73,728\n",
      "       GroupNorm-103         [-1, 64, 128, 128]             128\n",
      "            GELU-104         [-1, 64, 128, 128]               0\n",
      "          Conv2d-105         [-1, 64, 128, 128]          36,864\n",
      "       GroupNorm-106         [-1, 64, 128, 128]             128\n",
      "       ConvBlock-107         [-1, 64, 128, 128]               0\n",
      "        UpSample-108         [-1, 64, 128, 128]               0\n",
      "          Conv2d-109          [-1, 1, 128, 128]              65\n",
      "================================================================\n",
      "Total params: 22,061,185\n",
      "Trainable params: 22,061,185\n",
      "Non-trainable params: 0\n",
      "----------------------------------------------------------------\n",
      "Input size (MB): 0.19\n",
      "Forward/backward pass size (MB): 401.12\n",
      "Params size (MB): 84.16\n",
      "Estimated Total Size (MB): 485.47\n",
      "----------------------------------------------------------------\n"
     ]
    }
   ],
   "source": [
    "#print unet model summary\n",
    "\n",
    "from torchsummary import summary\n",
    "\n",
    "def count_parameters(model):\n",
    "    return sum(p.numel() for p in model.parameters() if p.requires_grad)\n",
    "\n",
    "#print(model)\n",
    "#print(f\"Total Trainable Parameters: {count_parameters(model)}\")\n",
    "summary(model, (3, 128, 128), device= 'cpu')\n"
   ]
  },
  {
   "cell_type": "code",
   "execution_count": null,
   "metadata": {
    "colab": {
     "base_uri": "https://localhost:8080/"
    },
    "id": "XMBuT4yDoYpY",
    "outputId": "f2b77b3b-1e9e-4a77-fc34-41778ffa3ac7"
   },
   "outputs": [
    {
     "name": "stderr",
     "output_type": "stream",
     "text": [
      "100%|██████████| 7/7 [00:32<00:00,  4.69s/it]\n"
     ]
    },
    {
     "name": "stdout",
     "output_type": "stream",
     "text": [
      "Epoch [1/100] Loss: 0.33232502000672476 IoU: 0.0008992174906390053\n",
      "Saving model...\n"
     ]
    },
    {
     "name": "stderr",
     "output_type": "stream",
     "text": [
      "100%|██████████| 7/7 [00:37<00:00,  5.38s/it]\n"
     ]
    },
    {
     "name": "stdout",
     "output_type": "stream",
     "text": [
      "Epoch [2/100] Loss: 0.2684537810938699 IoU: 0.0\n",
      "EarlyStopping counter: 1 out of 15\n"
     ]
    },
    {
     "name": "stderr",
     "output_type": "stream",
     "text": [
      "100%|██████████| 7/7 [00:38<00:00,  5.43s/it]\n"
     ]
    },
    {
     "name": "stdout",
     "output_type": "stream",
     "text": [
      "Epoch [3/100] Loss: 0.2578663251229695 IoU: 0.0\n",
      "EarlyStopping counter: 2 out of 15\n"
     ]
    },
    {
     "name": "stderr",
     "output_type": "stream",
     "text": [
      "100%|██████████| 7/7 [00:36<00:00,  5.19s/it]\n"
     ]
    },
    {
     "name": "stdout",
     "output_type": "stream",
     "text": [
      "Epoch [4/100] Loss: 0.2534421363047191 IoU: 0.0\n",
      "Saving model...\n"
     ]
    },
    {
     "name": "stderr",
     "output_type": "stream",
     "text": [
      "100%|██████████| 7/7 [00:33<00:00,  4.85s/it]\n"
     ]
    },
    {
     "name": "stdout",
     "output_type": "stream",
     "text": [
      "Epoch [5/100] Loss: 0.24861853676182882 IoU: 0.0\n",
      "Saving model...\n"
     ]
    },
    {
     "name": "stderr",
     "output_type": "stream",
     "text": [
      "100%|██████████| 7/7 [00:34<00:00,  4.97s/it]\n"
     ]
    },
    {
     "name": "stdout",
     "output_type": "stream",
     "text": [
      "Epoch [6/100] Loss: 0.23383663594722748 IoU: 0.003700179180928639\n",
      "Saving model...\n"
     ]
    },
    {
     "name": "stderr",
     "output_type": "stream",
     "text": [
      "100%|██████████| 7/7 [00:37<00:00,  5.32s/it]\n"
     ]
    },
    {
     "name": "stdout",
     "output_type": "stream",
     "text": [
      "Epoch [7/100] Loss: 0.1906848336969103 IoU: 0.08422053182825298\n",
      "Saving model...\n"
     ]
    },
    {
     "name": "stderr",
     "output_type": "stream",
     "text": [
      "100%|██████████| 7/7 [00:35<00:00,  5.07s/it]\n"
     ]
    },
    {
     "name": "stdout",
     "output_type": "stream",
     "text": [
      "Epoch [8/100] Loss: 0.15758569751467025 IoU: 0.15525758585759572\n",
      "Saving model...\n"
     ]
    },
    {
     "name": "stderr",
     "output_type": "stream",
     "text": [
      "100%|██████████| 7/7 [00:37<00:00,  5.31s/it]\n"
     ]
    },
    {
     "name": "stdout",
     "output_type": "stream",
     "text": [
      "Epoch [9/100] Loss: 0.13625367943729674 IoU: 0.08696658164262772\n",
      "Saving model...\n"
     ]
    },
    {
     "name": "stderr",
     "output_type": "stream",
     "text": [
      "100%|██████████| 7/7 [00:35<00:00,  5.08s/it]\n"
     ]
    },
    {
     "name": "stdout",
     "output_type": "stream",
     "text": [
      "Epoch [10/100] Loss: 0.12678206712007523 IoU: 0.2067506249461855\n",
      "EarlyStopping counter: 1 out of 15\n"
     ]
    },
    {
     "name": "stderr",
     "output_type": "stream",
     "text": [
      "100%|██████████| 7/7 [00:34<00:00,  4.93s/it]\n"
     ]
    },
    {
     "name": "stdout",
     "output_type": "stream",
     "text": [
      "Epoch [11/100] Loss: 0.11526320768254143 IoU: 0.311759101493018\n",
      "EarlyStopping counter: 2 out of 15\n"
     ]
    },
    {
     "name": "stderr",
     "output_type": "stream",
     "text": [
      "100%|██████████| 7/7 [00:34<00:00,  4.90s/it]\n"
     ]
    },
    {
     "name": "stdout",
     "output_type": "stream",
     "text": [
      "Epoch [12/100] Loss: 0.10516138694116048 IoU: 0.3521021476813725\n",
      "EarlyStopping counter: 3 out of 15\n"
     ]
    },
    {
     "name": "stderr",
     "output_type": "stream",
     "text": [
      "100%|██████████| 7/7 [00:32<00:00,  4.61s/it]\n"
     ]
    },
    {
     "name": "stdout",
     "output_type": "stream",
     "text": [
      "Epoch [13/100] Loss: 0.09370665571519307 IoU: 0.4074696557862418\n",
      "Saving model...\n"
     ]
    },
    {
     "name": "stderr",
     "output_type": "stream",
     "text": [
      "100%|██████████| 7/7 [00:35<00:00,  5.07s/it]\n"
     ]
    },
    {
     "name": "stdout",
     "output_type": "stream",
     "text": [
      "Epoch [14/100] Loss: 0.09409299918583461 IoU: 0.380697563290596\n",
      "EarlyStopping counter: 1 out of 15\n"
     ]
    },
    {
     "name": "stderr",
     "output_type": "stream",
     "text": [
      "100%|██████████| 7/7 [00:36<00:00,  5.19s/it]\n"
     ]
    },
    {
     "name": "stdout",
     "output_type": "stream",
     "text": [
      "Epoch [15/100] Loss: 0.08874194643327168 IoU: 0.40871998241969515\n",
      "EarlyStopping counter: 2 out of 15\n"
     ]
    },
    {
     "name": "stderr",
     "output_type": "stream",
     "text": [
      "100%|██████████| 7/7 [00:37<00:00,  5.31s/it]\n"
     ]
    },
    {
     "name": "stdout",
     "output_type": "stream",
     "text": [
      "Epoch [16/100] Loss: 0.0822624723826136 IoU: 0.4519390804427011\n",
      "Saving model...\n"
     ]
    },
    {
     "name": "stderr",
     "output_type": "stream",
     "text": [
      "100%|██████████| 7/7 [00:37<00:00,  5.34s/it]\n"
     ]
    },
    {
     "name": "stdout",
     "output_type": "stream",
     "text": [
      "Epoch [17/100] Loss: 0.08148399208273206 IoU: 0.4985881873539516\n",
      "EarlyStopping counter: 1 out of 15\n"
     ]
    },
    {
     "name": "stderr",
     "output_type": "stream",
     "text": [
      "100%|██████████| 7/7 [00:37<00:00,  5.31s/it]\n"
     ]
    },
    {
     "name": "stdout",
     "output_type": "stream",
     "text": [
      "Epoch [18/100] Loss: 0.076065260384764 IoU: 0.5257167390414647\n",
      "Saving model...\n"
     ]
    },
    {
     "name": "stderr",
     "output_type": "stream",
     "text": [
      "100%|██████████| 7/7 [00:36<00:00,  5.21s/it]\n"
     ]
    },
    {
     "name": "stdout",
     "output_type": "stream",
     "text": [
      "Epoch [19/100] Loss: 0.07499464335186141 IoU: 0.54282346367836\n",
      "EarlyStopping counter: 1 out of 15\n"
     ]
    },
    {
     "name": "stderr",
     "output_type": "stream",
     "text": [
      "100%|██████████| 7/7 [00:37<00:00,  5.31s/it]\n"
     ]
    },
    {
     "name": "stdout",
     "output_type": "stream",
     "text": [
      "Epoch [20/100] Loss: 0.07117988914251328 IoU: 0.5710869090897697\n",
      "Saving model...\n"
     ]
    },
    {
     "name": "stderr",
     "output_type": "stream",
     "text": [
      "100%|██████████| 7/7 [00:37<00:00,  5.29s/it]\n"
     ]
    },
    {
     "name": "stdout",
     "output_type": "stream",
     "text": [
      "Epoch [21/100] Loss: 0.07789949966328484 IoU: 0.48037891728537424\n",
      "EarlyStopping counter: 1 out of 15\n"
     ]
    },
    {
     "name": "stderr",
     "output_type": "stream",
     "text": [
      "100%|██████████| 7/7 [00:37<00:00,  5.37s/it]\n"
     ]
    },
    {
     "name": "stdout",
     "output_type": "stream",
     "text": [
      "Epoch [22/100] Loss: 0.07564040166991097 IoU: 0.5228541110243116\n",
      "EarlyStopping counter: 2 out of 15\n"
     ]
    },
    {
     "name": "stderr",
     "output_type": "stream",
     "text": [
      "100%|██████████| 7/7 [00:36<00:00,  5.27s/it]\n"
     ]
    },
    {
     "name": "stdout",
     "output_type": "stream",
     "text": [
      "Epoch [23/100] Loss: 0.07297093953405108 IoU: 0.5615670468126025\n",
      "EarlyStopping counter: 3 out of 15\n"
     ]
    },
    {
     "name": "stderr",
     "output_type": "stream",
     "text": [
      "100%|██████████| 7/7 [00:36<00:00,  5.27s/it]\n"
     ]
    },
    {
     "name": "stdout",
     "output_type": "stream",
     "text": [
      "Epoch [24/100] Loss: 0.07495074612753731 IoU: 0.5262960152966636\n",
      "EarlyStopping counter: 4 out of 15\n"
     ]
    },
    {
     "name": "stderr",
     "output_type": "stream",
     "text": [
      "100%|██████████| 7/7 [00:35<00:00,  5.11s/it]\n"
     ]
    },
    {
     "name": "stdout",
     "output_type": "stream",
     "text": [
      "Epoch [25/100] Loss: 0.06757738600884165 IoU: 0.6145108767918178\n",
      "EarlyStopping counter: 5 out of 15\n"
     ]
    },
    {
     "name": "stderr",
     "output_type": "stream",
     "text": [
      "100%|██████████| 7/7 [00:34<00:00,  4.96s/it]\n"
     ]
    },
    {
     "name": "stdout",
     "output_type": "stream",
     "text": [
      "Epoch [26/100] Loss: 0.061559389744486125 IoU: 0.6223382353782654\n",
      "Saving model...\n"
     ]
    },
    {
     "name": "stderr",
     "output_type": "stream",
     "text": [
      "100%|██████████| 7/7 [00:33<00:00,  4.80s/it]\n"
     ]
    },
    {
     "name": "stdout",
     "output_type": "stream",
     "text": [
      "Epoch [27/100] Loss: 0.061257406537021906 IoU: 0.6505517022950309\n",
      "EarlyStopping counter: 1 out of 15\n"
     ]
    },
    {
     "name": "stderr",
     "output_type": "stream",
     "text": [
      "100%|██████████| 7/7 [00:33<00:00,  4.84s/it]\n"
     ]
    },
    {
     "name": "stdout",
     "output_type": "stream",
     "text": [
      "Epoch [28/100] Loss: 0.05739709096295493 IoU: 0.6294194757938385\n",
      "Saving model...\n"
     ]
    },
    {
     "name": "stderr",
     "output_type": "stream",
     "text": [
      "100%|██████████| 7/7 [00:33<00:00,  4.83s/it]\n"
     ]
    },
    {
     "name": "stdout",
     "output_type": "stream",
     "text": [
      "Epoch [29/100] Loss: 0.0590051215674196 IoU: 0.6631600601332528\n",
      "EarlyStopping counter: 1 out of 15\n"
     ]
    },
    {
     "name": "stderr",
     "output_type": "stream",
     "text": [
      "100%|██████████| 7/7 [00:33<00:00,  4.82s/it]\n"
     ]
    },
    {
     "name": "stdout",
     "output_type": "stream",
     "text": [
      "Epoch [30/100] Loss: 0.054109507373401096 IoU: 0.6862211738313947\n",
      "EarlyStopping counter: 2 out of 15\n"
     ]
    },
    {
     "name": "stderr",
     "output_type": "stream",
     "text": [
      "100%|██████████| 7/7 [00:33<00:00,  4.82s/it]\n"
     ]
    },
    {
     "name": "stdout",
     "output_type": "stream",
     "text": [
      "Epoch [31/100] Loss: 0.05356398757014956 IoU: 0.6762932964733669\n",
      "EarlyStopping counter: 3 out of 15\n"
     ]
    },
    {
     "name": "stderr",
     "output_type": "stream",
     "text": [
      "100%|██████████| 7/7 [00:34<00:00,  4.86s/it]\n"
     ]
    },
    {
     "name": "stdout",
     "output_type": "stream",
     "text": [
      "Epoch [32/100] Loss: 0.052940837506737025 IoU: 0.6868445021765572\n",
      "EarlyStopping counter: 4 out of 15\n"
     ]
    },
    {
     "name": "stderr",
     "output_type": "stream",
     "text": [
      "100%|██████████| 7/7 [00:33<00:00,  4.85s/it]\n"
     ]
    },
    {
     "name": "stdout",
     "output_type": "stream",
     "text": [
      "Epoch [33/100] Loss: 0.05056499955909593 IoU: 0.7038705263819013\n",
      "Saving model...\n"
     ]
    },
    {
     "name": "stderr",
     "output_type": "stream",
     "text": [
      "100%|██████████| 7/7 [00:33<00:00,  4.84s/it]\n"
     ]
    },
    {
     "name": "stdout",
     "output_type": "stream",
     "text": [
      "Epoch [34/100] Loss: 0.05068845780832427 IoU: 0.7112037880080087\n",
      "EarlyStopping counter: 1 out of 15\n"
     ]
    },
    {
     "name": "stderr",
     "output_type": "stream",
     "text": [
      "100%|██████████| 7/7 [00:34<00:00,  4.87s/it]\n"
     ]
    },
    {
     "name": "stdout",
     "output_type": "stream",
     "text": [
      "Epoch [35/100] Loss: 0.053449270980698724 IoU: 0.6715067454746791\n",
      "EarlyStopping counter: 2 out of 15\n"
     ]
    },
    {
     "name": "stderr",
     "output_type": "stream",
     "text": [
      "100%|██████████| 7/7 [00:33<00:00,  4.83s/it]\n"
     ]
    },
    {
     "name": "stdout",
     "output_type": "stream",
     "text": [
      "Epoch [36/100] Loss: 0.054491348564624786 IoU: 0.6864035555294582\n",
      "EarlyStopping counter: 3 out of 15\n"
     ]
    },
    {
     "name": "stderr",
     "output_type": "stream",
     "text": [
      "100%|██████████| 7/7 [00:34<00:00,  4.98s/it]\n"
     ]
    },
    {
     "name": "stdout",
     "output_type": "stream",
     "text": [
      "Epoch [37/100] Loss: 0.05291954640831266 IoU: 0.6834821105003357\n",
      "EarlyStopping counter: 4 out of 15\n"
     ]
    },
    {
     "name": "stderr",
     "output_type": "stream",
     "text": [
      "100%|██████████| 7/7 [00:34<00:00,  4.86s/it]\n"
     ]
    },
    {
     "name": "stdout",
     "output_type": "stream",
     "text": [
      "Epoch [38/100] Loss: 0.05257846947227206 IoU: 0.6854546666145325\n",
      "EarlyStopping counter: 5 out of 15\n"
     ]
    },
    {
     "name": "stderr",
     "output_type": "stream",
     "text": [
      "100%|██████████| 7/7 [00:32<00:00,  4.60s/it]\n"
     ]
    },
    {
     "name": "stdout",
     "output_type": "stream",
     "text": [
      "Epoch [39/100] Loss: 0.052695131727627346 IoU: 0.6872089079448155\n",
      "EarlyStopping counter: 6 out of 15\n"
     ]
    },
    {
     "name": "stderr",
     "output_type": "stream",
     "text": [
      "100%|██████████| 7/7 [00:30<00:00,  4.42s/it]\n"
     ]
    },
    {
     "name": "stdout",
     "output_type": "stream",
     "text": [
      "Epoch [40/100] Loss: 0.04983430887971606 IoU: 0.7279709918158395\n",
      "EarlyStopping counter: 7 out of 15\n"
     ]
    },
    {
     "name": "stderr",
     "output_type": "stream",
     "text": [
      "100%|██████████| 7/7 [00:32<00:00,  4.65s/it]\n"
     ]
    },
    {
     "name": "stdout",
     "output_type": "stream",
     "text": [
      "Epoch [41/100] Loss: 0.04959849002105849 IoU: 0.7036673937525068\n",
      "EarlyStopping counter: 8 out of 15\n"
     ]
    },
    {
     "name": "stderr",
     "output_type": "stream",
     "text": [
      "100%|██████████| 7/7 [00:34<00:00,  4.92s/it]\n"
     ]
    },
    {
     "name": "stdout",
     "output_type": "stream",
     "text": [
      "Epoch [42/100] Loss: 0.04731454434139388 IoU: 0.7107539347239903\n",
      "EarlyStopping counter: 9 out of 15\n"
     ]
    },
    {
     "name": "stderr",
     "output_type": "stream",
     "text": [
      "100%|██████████| 7/7 [00:35<00:00,  5.04s/it]\n"
     ]
    },
    {
     "name": "stdout",
     "output_type": "stream",
     "text": [
      "Epoch [43/100] Loss: 0.04715481773018837 IoU: 0.7192494869232178\n",
      "EarlyStopping counter: 10 out of 15\n"
     ]
    },
    {
     "name": "stderr",
     "output_type": "stream",
     "text": [
      "100%|██████████| 7/7 [00:35<00:00,  5.08s/it]\n"
     ]
    },
    {
     "name": "stdout",
     "output_type": "stream",
     "text": [
      "Epoch [44/100] Loss: 0.04708700893180711 IoU: 0.7339701226779393\n",
      "EarlyStopping counter: 11 out of 15\n"
     ]
    },
    {
     "name": "stderr",
     "output_type": "stream",
     "text": [
      "100%|██████████| 7/7 [00:35<00:00,  5.13s/it]\n"
     ]
    },
    {
     "name": "stdout",
     "output_type": "stream",
     "text": [
      "Epoch [45/100] Loss: 0.04643364357096808 IoU: 0.7258040734699794\n",
      "Saving model...\n"
     ]
    },
    {
     "name": "stderr",
     "output_type": "stream",
     "text": [
      "100%|██████████| 7/7 [00:36<00:00,  5.26s/it]\n"
     ]
    },
    {
     "name": "stdout",
     "output_type": "stream",
     "text": [
      "Epoch [46/100] Loss: 0.04488370700606278 IoU: 0.7303655913897923\n",
      "Saving model...\n"
     ]
    },
    {
     "name": "stderr",
     "output_type": "stream",
     "text": [
      "100%|██████████| 7/7 [00:34<00:00,  4.99s/it]\n"
     ]
    },
    {
     "name": "stdout",
     "output_type": "stream",
     "text": [
      "Epoch [47/100] Loss: 0.04484081215092114 IoU: 0.7360508271626064\n",
      "EarlyStopping counter: 1 out of 15\n"
     ]
    },
    {
     "name": "stderr",
     "output_type": "stream",
     "text": [
      "100%|██████████| 7/7 [00:35<00:00,  5.02s/it]\n"
     ]
    },
    {
     "name": "stdout",
     "output_type": "stream",
     "text": [
      "Epoch [48/100] Loss: 0.04526934400200844 IoU: 0.7437483157430377\n",
      "EarlyStopping counter: 2 out of 15\n"
     ]
    },
    {
     "name": "stderr",
     "output_type": "stream",
     "text": [
      "100%|██████████| 7/7 [00:33<00:00,  4.77s/it]\n"
     ]
    },
    {
     "name": "stdout",
     "output_type": "stream",
     "text": [
      "Epoch [49/100] Loss: 0.04569126133407865 IoU: 0.7251891578946795\n",
      "EarlyStopping counter: 3 out of 15\n"
     ]
    },
    {
     "name": "stderr",
     "output_type": "stream",
     "text": [
      "100%|██████████| 7/7 [00:33<00:00,  4.85s/it]\n"
     ]
    },
    {
     "name": "stdout",
     "output_type": "stream",
     "text": [
      "Epoch [50/100] Loss: 0.04717477251376424 IoU: 0.7242927125522068\n",
      "EarlyStopping counter: 4 out of 15\n"
     ]
    },
    {
     "name": "stderr",
     "output_type": "stream",
     "text": [
      "100%|██████████| 7/7 [00:36<00:00,  5.24s/it]\n"
     ]
    },
    {
     "name": "stdout",
     "output_type": "stream",
     "text": [
      "Epoch [51/100] Loss: 0.045862486852066855 IoU: 0.7284718922206334\n",
      "EarlyStopping counter: 5 out of 15\n"
     ]
    },
    {
     "name": "stderr",
     "output_type": "stream",
     "text": [
      "100%|██████████| 7/7 [00:35<00:00,  5.11s/it]\n"
     ]
    },
    {
     "name": "stdout",
     "output_type": "stream",
     "text": [
      "Epoch [52/100] Loss: 0.04602702281304768 IoU: 0.7398988093648639\n",
      "EarlyStopping counter: 6 out of 15\n"
     ]
    },
    {
     "name": "stderr",
     "output_type": "stream",
     "text": [
      "100%|██████████| 7/7 [00:36<00:00,  5.15s/it]\n"
     ]
    },
    {
     "name": "stdout",
     "output_type": "stream",
     "text": [
      "Epoch [53/100] Loss: 0.0433063767850399 IoU: 0.7503484487533569\n",
      "EarlyStopping counter: 7 out of 15\n"
     ]
    },
    {
     "name": "stderr",
     "output_type": "stream",
     "text": [
      "100%|██████████| 7/7 [00:36<00:00,  5.18s/it]\n"
     ]
    },
    {
     "name": "stdout",
     "output_type": "stream",
     "text": [
      "Epoch [54/100] Loss: 0.04467933305672237 IoU: 0.726082307951791\n",
      "EarlyStopping counter: 8 out of 15\n"
     ]
    },
    {
     "name": "stderr",
     "output_type": "stream",
     "text": [
      "100%|██████████| 7/7 [00:35<00:00,  5.06s/it]\n"
     ]
    },
    {
     "name": "stdout",
     "output_type": "stream",
     "text": [
      "Epoch [55/100] Loss: 0.045052479420389445 IoU: 0.7568615164075579\n",
      "EarlyStopping counter: 9 out of 15\n"
     ]
    },
    {
     "name": "stderr",
     "output_type": "stream",
     "text": [
      "100%|██████████| 7/7 [00:35<00:00,  5.12s/it]\n"
     ]
    },
    {
     "name": "stdout",
     "output_type": "stream",
     "text": [
      "Epoch [56/100] Loss: 0.044454497418233326 IoU: 0.7270187394959586\n",
      "EarlyStopping counter: 10 out of 15\n"
     ]
    },
    {
     "name": "stderr",
     "output_type": "stream",
     "text": [
      "100%|██████████| 7/7 [00:35<00:00,  5.10s/it]\n"
     ]
    },
    {
     "name": "stdout",
     "output_type": "stream",
     "text": [
      "Epoch [57/100] Loss: 0.044224654989583154 IoU: 0.7543518543243408\n",
      "EarlyStopping counter: 11 out of 15\n"
     ]
    },
    {
     "name": "stderr",
     "output_type": "stream",
     "text": [
      "100%|██████████| 7/7 [00:35<00:00,  5.06s/it]\n"
     ]
    },
    {
     "name": "stdout",
     "output_type": "stream",
     "text": [
      "Epoch [58/100] Loss: 0.04481421570692744 IoU: 0.7445938416889736\n",
      "EarlyStopping counter: 12 out of 15\n"
     ]
    },
    {
     "name": "stderr",
     "output_type": "stream",
     "text": [
      "100%|██████████| 7/7 [00:35<00:00,  5.12s/it]\n"
     ]
    },
    {
     "name": "stdout",
     "output_type": "stream",
     "text": [
      "Epoch [59/100] Loss: 0.04334153501050813 IoU: 0.7439149447849819\n",
      "EarlyStopping counter: 13 out of 15\n"
     ]
    },
    {
     "name": "stderr",
     "output_type": "stream",
     "text": [
      "100%|██████████| 7/7 [00:35<00:00,  5.11s/it]\n"
     ]
    },
    {
     "name": "stdout",
     "output_type": "stream",
     "text": [
      "Epoch [60/100] Loss: 0.042131422353642325 IoU: 0.7491987688200814\n",
      "EarlyStopping counter: 14 out of 15\n"
     ]
    },
    {
     "name": "stderr",
     "output_type": "stream",
     "text": [
      "100%|██████████| 7/7 [00:35<00:00,  5.12s/it]"
     ]
    },
    {
     "name": "stdout",
     "output_type": "stream",
     "text": [
      "Epoch [61/100] Loss: 0.04230132805449622 IoU: 0.7486486179488046\n",
      "EarlyStopping counter: 15 out of 15\n",
      "Early stopping triggered\n",
      "Best loss is 0.029974503442645073, besst iou is 0.7792145013809204\n"
     ]
    },
    {
     "name": "stderr",
     "output_type": "stream",
     "text": [
      "\n"
     ]
    }
   ],
   "source": [
    "# Training loop\n",
    "num_epochs = 100\n",
    "model.to(device2)\n",
    "best_loss = 1.0\n",
    "best_iou = 0.0\n",
    "for epoch in range(0,num_epochs):\n",
    "    model.train()\n",
    "    total_loss = 0.0\n",
    "    total_iou = 0.0\n",
    "    for inputs, labels in tqdm(train_loader):\n",
    "        gpu = torch.cuda.get_device_properties(device2)\n",
    "        #print(f'{device1}: {gpu.name}, Total Memory: {gpu.total_memory / 1024**2:.2f} MB, Free Memory: {torch.cuda.max_memory_allocated(device1) / 1024**2:.2f} MB')\n",
    "        #print(torch.cuda.memory_allocated(device1))\n",
    "        #print(torch.cuda.max_memory_allocated(device1))\n",
    "        if torch.cuda.memory_allocated(device2) > 0.9 * gpu.total_memory:\n",
    "            model = model.to(device1)\n",
    "            device1, device2 = device2, device1\n",
    "            print('changed gpu')\n",
    "            #inputs, labels = inputs.to(device1), labels.to(device1)\n",
    "            model = model.to(device2)\n",
    "            \n",
    "        inputs, labels = inputs.permute(0, 3, 1, 2).to(device2), labels.permute(0, 3, 1, 2).to(device2)\n",
    "        #print(inputs.shape)\n",
    "        #print(labels.shape)\n",
    "        optimizer.zero_grad()\n",
    "        outputs = model(inputs)\n",
    "        iou = mean_iou(outputs, labels)\n",
    "        loss = criterion(outputs, labels)\n",
    "        loss.backward()\n",
    "        optimizer.step()\n",
    "        total_loss += loss.item()\n",
    "        total_iou += iou.item()\n",
    "\n",
    "    avg_loss = total_loss / len(train_loader)\n",
    "    avg_iou = total_iou / len(train_loader)\n",
    "    print(f\"Epoch [{epoch+1}/{num_epochs}] Loss: {avg_loss} IoU: {avg_iou}\")\n",
    "\n",
    "    best_loss = min(best_loss,avg_loss)\n",
    "    best_iou = max(best_iou,avg_iou)\n",
    "\n",
    "    if early_stopping(loss, model):\n",
    "        print('Early stopping triggered')\n",
    "        break\n",
    "print(f'Best loss is {best_loss}, besst iou is {best_iou}')"
   ]
  },
  {
   "cell_type": "code",
   "execution_count": null,
   "metadata": {
    "id": "79_SFU7zoeaI"
   },
   "outputs": [],
   "source": [
    "model = model.to(device1)\n",
    "model.eval()\n",
    "with torch.no_grad():\n",
    "    for inputs in val_loader:\n",
    "        inputs = inputs[0].permute(0, 3, 1, 2).to(device1)\n",
    "        outputs = model(inputs)\n",
    "torch.save(model.state_dict(),'cell_segment.pth')"
   ]
  },
  {
   "cell_type": "code",
   "execution_count": null,
   "metadata": {
    "id": "tWdZq2capAB0"
   },
   "outputs": [],
   "source": [
    "#prediction\n",
    "#X_train = torch.Tensor(X_train).permute(0, 3, 1, 2).to(device)\n",
    "X_test = torch.Tensor(X_test).permute(0, 3, 1, 2)\n",
    "val_X = x_val_tensor.permute(0,3,1,2)\n",
    "with torch.no_grad():\n",
    "    #preds_train = model(X_train[:int(X_train.shape[0]*0.9)])\n",
    "    #preds_val = model(X_train[int(X_train.shape[0]*0.9):])\n",
    "    #preds_train = model(x_train_tensor.permute(0,3,1,2).to(device2))\n",
    "    preds_val = model(val_X[:int(val_X.shape[0]*0.2)].to(device1))\n",
    "    preds_test = model(X_test[:int(X_test.shape[0]*0.2)].to(device1))\n",
    "\n",
    "\n",
    "# Threshold predictions\n",
    "threshold = 0.5\n",
    "#preds_train_t = (preds_train > threshold).byte()\n",
    "preds_val_t = (preds_val > threshold)\n",
    "preds_test_t = (preds_test > threshold)\n"
   ]
  },
  {
   "cell_type": "code",
   "execution_count": null,
   "metadata": {
    "id": "PetLgupa91VI"
   },
   "outputs": [],
   "source": [
    "# # Create a list of upsampled test masks\n",
    "# preds_test_upsampled = []\n",
    "# for i in range(len(preds_test)):\n",
    "#     preds_test_upsampled.append(np.squeeze(preds_test_t[i]))"
   ]
  },
  {
   "cell_type": "code",
   "execution_count": null,
   "metadata": {},
   "outputs": [
    {
     "data": {
      "image/png": "[encoded data removed]",
      "text/plain": [
       "<Figure size 640x480 with 2 Axes>"
      ]
     },
     "metadata": {},
     "output_type": "display_data"
    }
   ],
   "source": [
    "import random\n",
    "import matplotlib.pyplot as plt\n",
    "\n",
    "X_test = torch.Tensor(X_test).permute(0, 2, 3, 1)\n",
    "random_index = random.randint(0, len(preds_test_t) - 1)\n",
    "test_image = X_test[random_index,:, :, 0].cpu()\n",
    "predicted_mask = preds_test_t[random_index].cpu()\n",
    "# print(test_image.shape)\n",
    "# print(predicted_mask.shape)\n",
    "#plt.figure(figsize=(10, 5))\n",
    "plt.subplot(1, 2, 1)\n",
    "#plt.imshow(test_image, cmap='gray')\n",
    "plt.imshow(test_image, cmap='gray')\n",
    "plt.title(\"Test Image\")\n",
    "plt.axis('off')\n",
    "\n",
    "plt.subplot(1, 2, 2)\n",
    "plt.imshow(predicted_mask[0],cmap='gray')\n",
    "plt.title(\"Predicted Mask\")\n",
    "plt.axis('off')\n",
    "\n",
    "plt.show()"
   ]
  },
  {
   "cell_type": "code",
   "execution_count": null,
   "metadata": {
    "colab": {
     "base_uri": "https://localhost:8080/",
     "height": 1000
    },
    "id": "ArQDZ1nPp1GB",
    "outputId": "4312e19c-ed11-4ebb-cb94-ec7dadb3ddf7"
   },
   "outputs": [
    {
     "data": {
      "text/plain": [
       "\"\\nimport random\\nimport torch\\nimport matplotlib.pyplot as plt\\n\\n# Define a function to display images\\ndef imshow_tensor(tensor):\\n    # Ensure the tensor is on the CPU and convert it to a NumPy array\\n    #tensor = tensor.cpu().numpy()\\n\\n    # If the tensor is 3D (C, H, W) and has a single channel, squeeze it to (H, W)\\n    if len(tensor.shape) == 3 and tensor.shape[0] == 1:\\n        tensor = tensor.squeeze(0)\\n\\n    # Display the image\\n    plt.imshow(tensor, cmap='gray')\\n    plt.show()\\n\\n# Move your tensors to CPU (if they are not already)\\nX_train_cpu = x\\nY_train_cpu = y\\n\\n# Perform a sanity check on some random training samples\\nix = random.randint(0, len(preds_train_t))\\nimshow_tensor(X_train_cpu[ix])\\nimshow_tensor(Y_train_cpu[ix])\\nimshow_tensor(preds_train_t[ix].cpu())\\n\""
      ]
     },
     "execution_count": 29,
     "metadata": {},
     "output_type": "execute_result"
    }
   ],
   "source": [
    "'''\n",
    "import random\n",
    "import torch\n",
    "import matplotlib.pyplot as plt\n",
    "\n",
    "# Define a function to display images\n",
    "def imshow_tensor(tensor):\n",
    "    # Ensure the tensor is on the CPU and convert it to a NumPy array\n",
    "    #tensor = tensor.cpu().numpy()\n",
    "\n",
    "    # If the tensor is 3D (C, H, W) and has a single channel, squeeze it to (H, W)\n",
    "    if len(tensor.shape) == 3 and tensor.shape[0] == 1:\n",
    "        tensor = tensor.squeeze(0)\n",
    "\n",
    "    # Display the image\n",
    "    plt.imshow(tensor, cmap='gray')\n",
    "    plt.show()\n",
    "\n",
    "# Move your tensors to CPU (if they are not already)\n",
    "X_train_cpu = x\n",
    "Y_train_cpu = y\n",
    "\n",
    "# Perform a sanity check on some random training samples\n",
    "ix = random.randint(0, len(preds_train_t))\n",
    "imshow_tensor(X_train_cpu[ix])\n",
    "imshow_tensor(Y_train_cpu[ix])\n",
    "imshow_tensor(preds_train_t[ix].cpu())\n",
    "'''"
   ]
  },
  {
   "cell_type": "code",
   "execution_count": null,
   "metadata": {
    "colab": {
     "base_uri": "https://localhost:8080/",
     "height": 1000
    },
    "id": "IdWbUbBup1pb",
    "outputId": "d2ffdac7-8fe6-43ca-9a17-25064fa85ebb"
   },
   "outputs": [
    {
     "data": {
      "image/png": "[encoded data removed]",
      "text/plain": [
       "<Figure size 640x480 with 1 Axes>"
      ]
     },
     "metadata": {},
     "output_type": "display_data"
    },
    {
     "data": {
      "image/png": "[encoded data removed]",
      "text/plain": [
       "<Figure size 640x480 with 1 Axes>"
      ]
     },
     "metadata": {},
     "output_type": "display_data"
    },
    {
     "data": {
      "image/png": "[encoded data removed]",
      "text/plain": [
       "<Figure size 640x480 with 1 Axes>"
      ]
     },
     "metadata": {},
     "output_type": "display_data"
    }
   ],
   "source": [
    "import random\n",
    "import torch\n",
    "import matplotlib.pyplot as plt\n",
    "\n",
    "# Define a function to display images\n",
    "def imshow_tensor(tensor):\n",
    "    # Ensure the tensor is on the CPU and convert it to a NumPy array\n",
    "    #tensor = tensor.cpu().numpy()\n",
    "\n",
    "    # If the tensor is 3D (C, H, W) and has a single channel, squeeze it to (H, W)\n",
    "    if len(tensor.shape) == 3 and tensor.shape[0] == 1:\n",
    "        tensor = tensor.squeeze(0)\n",
    "\n",
    "    # Display the image\n",
    "    plt.imshow(tensor, cmap='gray')\n",
    "    plt.show()\n",
    "\n",
    "# Move your tensors to CPU (if they are not already)\n",
    "X_val_cpu = x_val\n",
    "Y_val_cpu = y_val\n",
    "\n",
    "# Perform a sanity check on some random training samples\n",
    "ix = random.randint(0, len(preds_val_t))\n",
    "imshow_tensor(X_val_cpu[ix,:,:,0])\n",
    "imshow_tensor(Y_val_cpu[ix])\n",
    "imshow_tensor(np.squeeze(preds_val_t[ix]).cpu()/255.0)"
   ]
  },
  {
   "cell_type": "code",
   "execution_count": null,
   "metadata": {
    "id": "TdCSJ_Jkp3lI"
   },
   "outputs": [],
   "source": [
    "# # Run-length encoding stolen from https://www.kaggle.com/rakhlin/fast-run-length-encoding-python\n",
    "# def rle_encoding(x):\n",
    "#     dots = np.where(x.T.flatten() == 1)[0]\n",
    "#     run_lengths = []\n",
    "#     prev = -2\n",
    "#     for b in dots:\n",
    "#         if (b>prev+1): run_lengths.extend((b + 1, 0))\n",
    "#         run_lengths[-1] += 1\n",
    "#         prev = b\n",
    "#     return run_lengths\n",
    "\n",
    "# def prob_to_rles(x, cutoff=0.5):\n",
    "#     lab_img = label(x > cutoff)\n",
    "#     for i in range(1, lab_img.max() + 1):\n",
    "#         yield rle_encoding(lab_img == i)"
   ]
  },
  {
   "cell_type": "code",
   "execution_count": null,
   "metadata": {
    "id": "at_Mn79Ep5W9"
   },
   "outputs": [],
   "source": [
    "# new_test_ids = []\n",
    "# rles = []\n",
    "# for n, id_ in enumerate(test_ids):\n",
    "#     if n > len(preds_test_t) - 1:\n",
    "#         n = len(preds_test_t) - 1\n",
    "#     rle = list(prob_to_rles(preds_test_t[n].cpu()))\n",
    "#     rles.extend(rle)\n",
    "#     new_test_ids.extend([id_] * len(rle))"
   ]
  },
  {
   "cell_type": "code",
   "execution_count": null,
   "metadata": {},
   "outputs": [],
   "source": [
    "#print(rles)"
   ]
  }
 ],
 "metadata": {
  "accelerator": "GPU",
  "colab": {
   "gpuType": "V100",
   "provenance": []
  },
  "kernelspec": {
   "display_name": "Python 3 (ipykernel)",
   "language": "python",
   "name": "python3"
  },
  "language_info": {
   "codemirror_mode": {
    "name": "ipython",
    "version": 3
   },
   "file_extension": ".py",
   "mimetype": "text/x-python",
   "name": "python",
   "nbconvert_exporter": "python",
   "pygments_lexer": "ipython3",
   "version": "3.9.18"
  }
 },
 "nbformat": 4,
 "nbformat_minor": 4
}
