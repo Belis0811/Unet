{
 "cells": [
  {
   "cell_type": "code",
   "execution_count": 12,
   "metadata": {},
   "outputs": [],
   "source": [
    "import os\n",
    "import sys\n",
    "import random\n",
    "import warnings\n",
    "\n",
    "import numpy as np\n",
    "import pandas as pd\n",
    "\n",
    "import matplotlib.pyplot as plt\n",
    "\n",
    "from tqdm import tqdm\n",
    "from itertools import chain\n",
    "from skimage.io import imread, imshow, imread_collection, concatenate_images\n",
    "from skimage.transform import resize\n",
    "from skimage.morphology import label\n",
    "\n",
    "import torch\n",
    "import torch.nn as nn\n",
    "import torch.optim as optim\n",
    "import torch.utils.data as data\n",
    "import torchvision.transforms as transforms\n",
    "import torch.nn.functional as F\n",
    "\n",
    "'''\n",
    "from google.colab import drive\n",
    "drive.mount('/content/drive')\n",
    "'''\n",
    "\n",
    "# Set some parameters\n",
    "BATCH_SIZE = 5 # the higher the better\n",
    "IMG_WIDTH = 512 # for faster computing on kaggle\n",
    "IMG_HEIGHT = 512 # for faster computing on kaggle\n",
    "IMG_CHANNELS = 3\n",
    "\n",
    "\n",
    "TRAIN_PATH = os.path.abspath(\"../data/sample_data/40x_magnification\") \n",
    "TEST_PATH = os.path.abspath(\"../data/sample_data/40x_magnification\") \n",
    "warnings.filterwarnings('ignore', category=UserWarning, module='skimage')\n",
    "seed = 42\n",
    "\n"
   ]
  },
  {
   "cell_type": "code",
   "execution_count": 13,
   "metadata": {},
   "outputs": [],
   "source": [
    "\n",
    "train_ids = next(os.walk(TRAIN_PATH))[1]\n",
    "\n",
    "num_test_items = int(0.1 * len(train_ids))\n",
    "\n",
    "# Slice the train_ids list to get the test IDs\n",
    "test_ids = train_ids[-num_test_items:]\n",
    "np.random.seed(10)"
   ]
  },
  {
   "cell_type": "code",
   "execution_count": 14,
   "metadata": {},
   "outputs": [
    {
     "name": "stdout",
     "output_type": "stream",
     "text": [
      "Getting and resizing train images and masks ... \n"
     ]
    },
    {
     "name": "stderr",
     "output_type": "stream",
     "text": [
      "100%|██████████| 6/6 [00:02<00:00,  2.33it/s]"
     ]
    },
    {
     "name": "stdout",
     "output_type": "stream",
     "text": [
      "All train images and masks images are processed!\n"
     ]
    },
    {
     "name": "stderr",
     "output_type": "stream",
     "text": [
      "\n"
     ]
    }
   ],
   "source": [
    "\n",
    "import re\n",
    "\n",
    "#print(len(train_ids))\n",
    "X_train = np.zeros((len(train_ids), IMG_HEIGHT, IMG_WIDTH, IMG_CHANNELS), dtype=np.float64)\n",
    "Y_train = np.zeros((len(train_ids), IMG_HEIGHT, IMG_WIDTH, 1), dtype=np.uint8)\n",
    "Y_train_1 = np.zeros((len(train_ids), IMG_HEIGHT, IMG_WIDTH, 1), dtype=np.uint8)\n",
    "Y_train_2 = np.zeros((len(train_ids), IMG_HEIGHT, IMG_WIDTH, 1), dtype=np.uint8)\n",
    "\n",
    "print('Getting and resizing train images and masks ... ')\n",
    "sys.stdout.flush()\n",
    "for n, id_ in tqdm(enumerate(train_ids), total=len(train_ids)):\n",
    "\n",
    "\n",
    "    \n",
    "    path = os.path.join(TRAIN_PATH, id_)\n",
    "\n",
    "    img_path = os.path.join(path, 'images', id_ +'_mSLIM'+ '.png')\n",
    "    if path != \"./Cell/Cell/f0_t0_i0_ch0_c15_r44_z0\":\n",
    "        img = imread(img_path)\n",
    "        img = resize(img, (IMG_HEIGHT, IMG_WIDTH), mode='constant', preserve_range=True)\n",
    "        img = np.expand_dims(img, axis=-1).astype(np.float64)\n",
    "        \n",
    "        X_train[n] = img.astype(np.float64)\n",
    "        #print(\"*******************************************************\")\n",
    "        for mask_file in next(os.walk(path + '/masks/'))[2]:\n",
    "            mask = imread(os.path.join(path, 'masks', mask_file))\n",
    "            mask = resize(mask, (IMG_HEIGHT, IMG_WIDTH), mode='constant', preserve_range=True)\n",
    "            if mask_file.endswith('Prot.png'):\n",
    "                Y_train_2[n] = np.where(mask[:, :, np.newaxis] > 0, 2, 0)\n",
    "            else:\n",
    "                Y_train_1[n] = np.where(mask[:, :, np.newaxis] > 0, 1, 0)\n",
    "        Y_train[n] = np.maximum(Y_train_1[n], Y_train_2[n])\n",
    "print(\"All train images and masks images are processed!\")\n",
    "        \n"
   ]
  },
  {
   "cell_type": "code",
   "execution_count": 10,
   "metadata": {},
   "outputs": [
    {
     "name": "stdout",
     "output_type": "stream",
     "text": [
      "(6, 512, 512, 1)\n",
      "260972\n",
      "1050\n",
      "122\n"
     ]
    }
   ],
   "source": [
    "print(Y_train.shape)\n",
    "zero = 0\n",
    "one = 0\n",
    "two = 0\n",
    "for array in Y_train[5]:\n",
    "    for i in array:\n",
    "        if i == 0:\n",
    "            zero = zero + 1\n",
    "        elif i == 1:\n",
    "            one = one + 1\n",
    "        else:\n",
    "            two = two + 1\n",
    "print(zero)\n",
    "print(one)\n",
    "print(two)"
   ]
  },
  {
   "cell_type": "code",
   "execution_count": null,
   "metadata": {},
   "outputs": [],
   "source": [
    "dir = \"../data/processed\"\n",
    "os.makedirs(dir, exist_ok = True) #create the dir if its not exist\n",
    "\n",
    "np.save(os.path.join(dir, \"X_train.npy\"), X_train)\n",
    "np.save(os.path.join(dir, \"Y_train.npy\"), Y_train)"
   ]
  }
 ],
 "metadata": {
  "kernelspec": {
   "display_name": "base",
   "language": "python",
   "name": "python3"
  },
  "language_info": {
   "codemirror_mode": {
    "name": "ipython",
    "version": 3
   },
   "file_extension": ".py",
   "mimetype": "text/x-python",
   "name": "python",
   "nbconvert_exporter": "python",
   "pygments_lexer": "ipython3",
   "version": "3.12.7"
  }
 },
 "nbformat": 4,
 "nbformat_minor": 4
}
