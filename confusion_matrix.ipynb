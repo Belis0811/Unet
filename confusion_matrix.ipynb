{
 "cells": [
  {
   "cell_type": "code",
   "execution_count": 37,
   "metadata": {},
   "outputs": [],
   "source": [
    "# Import necessary packages\n",
    "import os\n",
    "import sys\n",
    "import random\n",
    "import warnings\n",
    "import math\n",
    "import re\n",
    "from tqdm import tqdm\n",
    "from itertools import chain\n",
    "\n",
    "import numpy as np\n",
    "import pandas as pd\n",
    "import matplotlib.pyplot as plt\n",
    "from skimage.io import imread\n",
    "from skimage.transform import resize\n",
    "\n",
    "import torch\n",
    "import torch.nn as nn\n",
    "import torch.optim as optim\n",
    "import torch.utils.data as data\n",
    "import torchvision.transforms as transforms\n",
    "import torch.nn.functional as F\n",
    "from torch.nn import TransformerEncoderLayer, TransformerEncoder\n",
    "\n",
    "from torch.utils.data import TensorDataset, DataLoader\n",
    "from sklearn.model_selection import train_test_split\n",
    "\n",
    "warnings.filterwarnings('ignore', category=UserWarning, module='skimage')\n",
    "\n",
    "# Set random seed for reproducibility\n",
    "seed = 42\n",
    "np.random.seed(seed)\n",
    "torch.manual_seed(seed)\n",
    "\n",
    "# Set parameters\n",
    "BATCH_SIZE = 1\n",
    "IMG_WIDTH = 512\n",
    "IMG_HEIGHT = 512\n",
    "IMG_CHANNELS = 3\n",
    "\n",
    "TRAIN_PATH = './data/065'\n",
    "TEST_PATH = './data/065'\n"
   ]
  },
  {
   "cell_type": "code",
   "execution_count": 38,
   "metadata": {},
   "outputs": [],
   "source": [
    "# Get train and test IDs\n",
    "train_ids = next(os.walk(TRAIN_PATH))[1]\n",
    "num_test_items = int(0.1 * len(train_ids))\n",
    "\n",
    "# Slice the train_ids list to get the test IDs\n",
    "test_ids = train_ids[-num_test_items:]\n"
   ]
  },
  {
   "cell_type": "code",
   "execution_count": 39,
   "metadata": {},
   "outputs": [
    {
     "name": "stdout",
     "output_type": "stream",
     "text": [
      "Getting and resizing train images and masks ... \n"
     ]
    },
    {
     "name": "stderr",
     "output_type": "stream",
     "text": [
      "100%|██████████| 100/100 [00:56<00:00,  1.77it/s]\n"
     ]
    }
   ],
   "source": [
    "\n",
    "sequences = {}\n",
    "masks = {}\n",
    "time_steps_list = []\n",
    "\n",
    "X_train = np.zeros((len(train_ids), IMG_HEIGHT, IMG_WIDTH, IMG_CHANNELS), dtype=np.float32)\n",
    "Y_train = np.zeros((len(train_ids), IMG_HEIGHT, IMG_WIDTH, 1), dtype=np.uint8)\n",
    "Y_train_1 = np.zeros((len(train_ids), IMG_HEIGHT, IMG_WIDTH, 1), dtype=np.uint8)\n",
    "Y_train_2 = np.zeros((len(train_ids), IMG_HEIGHT, IMG_WIDTH, 1), dtype=np.uint8)\n",
    "\n",
    "print('Getting and resizing train images and masks ... ')\n",
    "sys.stdout.flush()\n",
    "\n",
    "for n, id_ in tqdm(enumerate(train_ids), total=len(train_ids)):\n",
    "    path = os.path.join(TRAIN_PATH, id_)\n",
    "    \n",
    "    # Extract time step \n",
    "    match = re.search(r'_i(\\d+)_', id_)\n",
    "    if match:\n",
    "        time_step = int(match.group(1))\n",
    "    else:\n",
    "        raise ValueError(f\"Time step not found in the filename: {id_}\")\n",
    "    time_steps_list.append(time_step)\n",
    "    \n",
    "    img_path = os.path.join(path, 'images', id_ + '_mSLIM' + '.png')\n",
    "    img = imread(img_path)\n",
    "    img = resize(img, (IMG_HEIGHT, IMG_WIDTH), mode='constant', preserve_range=True)\n",
    "    img = np.expand_dims(img, axis=-1).astype(np.float64)\n",
    "    X_train[n] = img.astype(np.float64)\n",
    "    \n",
    "    # Load masks\n",
    "    for mask_file in next(os.walk(os.path.join(path, 'masks/')))[2]:\n",
    "        mask = imread(os.path.join(path, 'masks', mask_file))\n",
    "        mask = resize(mask, (IMG_HEIGHT, IMG_WIDTH), mode='constant', preserve_range=True)\n",
    "        if mask_file.endswith('Prot.png'):\n",
    "            Y_train_2[n] = np.where(mask[:, :, np.newaxis] > 0, 2, 0)\n",
    "        else:\n",
    "            Y_train_1[n] = np.where(mask[:, :, np.newaxis] > 0, 1, 0)\n",
    "\n",
    "    Y_train[n] = np.maximum(Y_train_1[n], Y_train_2[n])\n",
    "    \n",
    "    if time_step not in sequences:\n",
    "        sequences[time_step] = []\n",
    "        masks[time_step] = []\n",
    "    sequences[time_step].append(img)\n",
    "    masks[time_step].append(Y_train[n])\n",
    "\n",
    "# Sort sequences by time steps\n",
    "time_steps = sorted(sequences.keys())\n",
    "X_sequences = [np.stack(sequences[t]) for t in time_steps]\n",
    "Y_sequences = [np.stack(masks[t]) for t in time_steps]\n",
    "\n",
    "X_sequences = np.array(X_sequences)  \n",
    "Y_sequences = np.array(Y_sequences)\n"
   ]
  },
  {
   "cell_type": "code",
   "execution_count": 40,
   "metadata": {},
   "outputs": [
    {
     "name": "stdout",
     "output_type": "stream",
     "text": [
      "Data loaded and resized.\n"
     ]
    }
   ],
   "source": [
    "\n",
    "print('Data loaded and resized.')\n",
    "split_ratio = 0.8\n",
    "split_idx = int(X_train.shape[0] * split_ratio)\n",
    "\n",
    "x = X_train[:split_idx]\n",
    "y = Y_train[:split_idx]\n",
    "x_val = X_train[split_idx:]\n",
    "y_val = Y_train[split_idx:]\n",
    "\n",
    "test_ratio = 0.5\n",
    "split_test = int(x_val.shape[0] * test_ratio)\n",
    "\n",
    "X_test = x_val[split_test:]\n",
    "Y_test = y_val[split_test:]\n",
    "x_val = x_val[:split_test]\n",
    "y_val = y_val[:split_test]\n",
    "\n",
    "x_train_tensor = torch.from_numpy(x).float()\n",
    "y_train_tensor = torch.from_numpy(y).float()\n",
    "\n",
    "x_val_tensor = torch.from_numpy(x_val).float()\n",
    "y_val_tensor = torch.from_numpy(y_val).float()\n",
    "\n",
    "x_test_tensor = torch.from_numpy(X_test).float()\n",
    "y_test_tensor = torch.from_numpy(Y_test).float()\n",
    "\n",
    "train_dataset = TensorDataset(x_train_tensor, y_train_tensor)\n",
    "val_dataset = TensorDataset(x_val_tensor, y_val_tensor)\n",
    "test_dataset = TensorDataset(x_test_tensor, y_test_tensor)\n",
    "\n",
    "train_loader = DataLoader(train_dataset, batch_size=BATCH_SIZE, shuffle=True, pin_memory=True)\n",
    "val_loader = DataLoader(val_dataset, batch_size=BATCH_SIZE, shuffle=False, pin_memory=True)\n",
    "test_loader = DataLoader(test_dataset, batch_size=BATCH_SIZE, shuffle=False, pin_memory=True)\n"
   ]
  },
  {
   "cell_type": "code",
   "execution_count": 41,
   "metadata": {},
   "outputs": [],
   "source": [
    "\n",
    "def show_mask(mask, title=None):\n",
    "    cmap = plt.cm.colors.ListedColormap(['black', 'green', 'yellow'])  \n",
    "    bounds = [-0.5, 0.5, 1.5, 2.5]  \n",
    "    norm = plt.cm.colors.BoundaryNorm(bounds, cmap.N)\n",
    "    \n",
    "    plt.imshow(mask, cmap=cmap, norm=norm)\n",
    "    cbar = plt.colorbar(ticks=[0, 1, 2])\n",
    "    cbar.ax.set_yticklabels(['Background', 'Live', 'Dead'])\n",
    "    plt.axis('off')\n",
    "    if title:\n",
    "        plt.title(title)\n",
    "    plt.show()\n"
   ]
  },
  {
   "cell_type": "code",
   "execution_count": 42,
   "metadata": {},
   "outputs": [
    {
     "data": {
      "image/png": "[encoded data removed]",
      "text/plain": [
       "<Figure size 1000x500 with 3 Axes>"
      ]
     },
     "metadata": {},
     "output_type": "display_data"
    },
    {
     "data": {
      "image/png": "[encoded data removed]",
      "text/plain": [
       "<Figure size 1000x500 with 3 Axes>"
      ]
     },
     "metadata": {},
     "output_type": "display_data"
    }
   ],
   "source": [
    "\n",
    "import torchvision.transforms as transforms\n",
    "from torchvision.utils import make_grid\n",
    "import matplotlib.pyplot as plt\n",
    "from matplotlib.colors import Normalize\n",
    "\n",
    "\n",
    "plt.figure(figsize=(10, 5))\n",
    "plt.subplot(1, 2, 1)\n",
    "plt.imshow(x[5,:,:,0], cmap='gray')\n",
    "plt.title(\"Images\")\n",
    "plt.axis('off')\n",
    "\n",
    "plt.subplot(1, 2, 2)\n",
    "show_mask(y[5],\"Mask\")\n",
    "\n",
    "plt.figure(figsize=(10, 5))\n",
    "plt.subplot(2, 2, 1)\n",
    "plt.imshow(x_val[5,:,:,0], cmap='gray')\n",
    "plt.title(\"Val_Images\")\n",
    "plt.axis('off')\n",
    "\n",
    "plt.subplot(2, 2, 2)\n",
    "show_mask(y_val[5],\"Val_Mask\")\n",
    "#creating a training and validation generator that generate masks and images\n",
    "#train_generator = zip(x, y)\n",
    "#val_generator = zip(x_val, y_val)\n"
   ]
  },
  {
   "cell_type": "code",
   "execution_count": 43,
   "metadata": {},
   "outputs": [],
   "source": [
    "\n",
    "# Define IoU metric\n",
    "import torch\n",
    "\n",
    "def mean_iou(y_pred, y_true, num_classes=3):\n",
    "    \n",
    "    y_pred = torch.argmax(y_pred, dim=1)\n",
    "\n",
    "    iou_list = []\n",
    "    \n",
    "    for class_id in range(num_classes):\n",
    "       \n",
    "        intersection = torch.sum((y_true == class_id) & (y_pred == class_id))\n",
    "        union = torch.sum((y_true == class_id) | (y_pred == class_id))\n",
    "        \n",
    "        \n",
    "        if union == 0:\n",
    "            iou = torch.tensor(1.0)\n",
    "        else:\n",
    "            iou = intersection.float() / union.float()\n",
    "        \n",
    "        iou_list.append(iou)\n",
    "\n",
    "    return torch.mean(torch.tensor(iou_list))\n",
    "\n"
   ]
  },
  {
   "cell_type": "code",
   "execution_count": 44,
   "metadata": {},
   "outputs": [],
   "source": [
    "\n",
    "\n",
    "class SelfAttention(nn.Module):\n",
    "    def __init__(self, channels, size):\n",
    "        super(SelfAttention, self).__init__()\n",
    "        self.channels = channels\n",
    "        self.size = size\n",
    "        self.mha = nn.MultiheadAttention(channels, 4, batch_first=True)\n",
    "        self.ln = nn.LayerNorm([channels])\n",
    "        self.ff_self = nn.Sequential(\n",
    "            nn.LayerNorm([channels]),\n",
    "            nn.Linear(channels, channels),\n",
    "            nn.GELU(),\n",
    "            nn.Linear(channels, channels),\n",
    "        )\n",
    "\n",
    "    def forward(self, x):\n",
    "        x = x.view(-1, self.channels, self.size * self.size).swapaxes(1, 2)\n",
    "        x_ln = self.ln(x)\n",
    "        attention_value, _ = self.mha(x_ln, x_ln, x_ln)\n",
    "        attention_value = attention_value + x\n",
    "        attention_value = self.ff_self(attention_value) + attention_value\n",
    "        return attention_value.swapaxes(2, 1).view(-1, self.channels, self.size, self.size)\n",
    "\n",
    "class ConvBlock(nn.Module):\n",
    "    def __init__(self, in_channels, out_channels, mid_channels=None, residual=False):\n",
    "        super(ConvBlock, self).__init__()\n",
    "        self.residual = residual\n",
    "        if not mid_channels:\n",
    "            mid_channels = out_channels\n",
    "        self.conv_block = nn.Sequential(\n",
    "            nn.Conv2d(in_channels, mid_channels, kernel_size=3, padding=1, bias=False),\n",
    "            nn.GroupNorm(1, mid_channels),\n",
    "            nn.GELU(),\n",
    "            nn.Conv2d(mid_channels, out_channels, kernel_size=3, padding=1, bias=False),\n",
    "            nn.GroupNorm(1, out_channels),\n",
    "        )\n",
    "\n",
    "    def forward(self, x):\n",
    "        if self.residual:\n",
    "            return F.gelu(x + self.conv_block(x))\n",
    "        else:\n",
    "            return self.conv_block(x)\n",
    "\n",
    "class DownSample(nn.Module):\n",
    "    def __init__(self, in_channels, out_channels, emb_dim=256):\n",
    "        super(DownSample, self).__init__()\n",
    "        self.maxpool_conv = nn.Sequential(\n",
    "            nn.MaxPool2d(2),\n",
    "            ConvBlock(in_channels, in_channels, residual=True),\n",
    "            ConvBlock(in_channels, out_channels),\n",
    "        )\n",
    "\n",
    "        self.emb_layer = nn.Sequential(\n",
    "            nn.SiLU(),\n",
    "            nn.Linear(emb_dim, out_channels),\n",
    "        )\n",
    "\n",
    "    def forward(self, x):\n",
    "        x = self.maxpool_conv(x)\n",
    "        return x\n",
    "\n",
    "class UpSample(nn.Module):\n",
    "    def __init__(self, in_channels, out_channels, emb_dim=256):\n",
    "        super(UpSample, self).__init__()\n",
    "\n",
    "        self.upsample = nn.Upsample(scale_factor=2, mode=\"bilinear\", align_corners=True)\n",
    "        self.out_channels = out_channels\n",
    "        self.conv = nn.Sequential(\n",
    "            ConvBlock(in_channels, in_channels, residual=True),\n",
    "            ConvBlock(in_channels, out_channels, in_channels // 2),\n",
    "        )\n",
    "\n",
    "        self.emb_layer = nn.Sequential(\n",
    "            nn.SiLU(),\n",
    "            nn.Linear(emb_dim, out_channels),\n",
    "        )\n",
    "\n",
    "    def forward(self, x, skip_x):\n",
    "\n",
    "        x = self.upsample(x)\n",
    "        #print(x.shape)\n",
    "        #print(skip_x.shape)\n",
    "        x = torch.cat([skip_x, x], dim=1)\n",
    "        x = self.conv(x)\n",
    "        #emb = self.emb_layer(t)[:, :, None, None].expand(-1, -1, x.shape[-2], x.shape[-1])\n",
    "        return x\n",
    "\n",
    "class UNet(nn.Module):\n",
    "    def __init__(self, c_in=3, c_out=3):\n",
    "        super(UNet, self).__init__()\n",
    "        self.initial_conv = ConvBlock(c_in, 64)\n",
    "        self.downsample1 = DownSample(64, 128)\n",
    "        self.self_attention1 = SelfAttention(128, 128)\n",
    "        self.downsample2 = DownSample(128, 256)\n",
    "        self.self_attention2 = SelfAttention(256, 256)\n",
    "        self.downsample3 = DownSample(256, 256)\n",
    "        self.self_attention3 = SelfAttention(256, 256)\n",
    "\n",
    "        self.bottom1 = ConvBlock(256, 512)\n",
    "        self.bottom2 = ConvBlock(512, 512)\n",
    "        self.bottom3 = ConvBlock(512, 256)\n",
    "\n",
    "        self.upsample1 = UpSample(512, 128)\n",
    "        self.self_attention4 = SelfAttention(128, 128)\n",
    "        self.upsample2 = UpSample(256, 64)\n",
    "        self.self_attention5 = SelfAttention(64, 64)\n",
    "        self.upsample3 = UpSample(128, 64)\n",
    "        self.self_attention6 = SelfAttention(64, 64)\n",
    "        self.output_conv = nn.Conv2d(64, c_out, kernel_size=1)\n",
    "\n",
    "    def forward(self, x):\n",
    "\n",
    "        x1 = self.initial_conv(x)\n",
    "        x2 = self.downsample1(x1)\n",
    "        #x2 = self.self_attention1(x2)\n",
    "        x3 = self.downsample2(x2)\n",
    "        #x3 = self.self_attention2(x3)\n",
    "        x4 = self.downsample3(x3)\n",
    "        #x4 = self.self_attention3(x4)\n",
    "\n",
    "        x4 = self.bottom1(x4)\n",
    "        x4 = self.bottom2(x4)\n",
    "        x4 = self.bottom3(x4)\n",
    "\n",
    "        x = self.upsample1(x4, x3)\n",
    "        #x = self.self_attention4(x)\n",
    "        x = self.upsample2(x, x2)\n",
    "        #x = self.self_attention5(x)\n",
    "        x = self.upsample3(x, x1)\n",
    "        #x = self.self_attention6(x)\n",
    "        output = self.output_conv(x)\n",
    "        return output\n",
    "#define early stopping\n",
    "class EarlyStopping:\n",
    "    def __init__(self, patience=3, verbose=True, name=\"null\"):\n",
    "        self.patience = patience\n",
    "        self.verbose = verbose\n",
    "        self.name = name\n",
    "        self.counter = 0\n",
    "        self.best_score = None\n",
    "        self.early_stop = False\n",
    "\n",
    "    def __call__(self, val_loss, model):\n",
    "        if self.best_score is None:\n",
    "            self.best_score = val_loss\n",
    "            self.save_checkpoint(model)\n",
    "        elif val_loss > self.best_score:\n",
    "            self.counter += 1\n",
    "            if self.verbose:\n",
    "                print(f'EarlyStopping counter: {self.counter} out of {self.patience}')\n",
    "            if self.counter >= self.patience:\n",
    "                self.early_stop = True\n",
    "        else:\n",
    "            self.best_score = val_loss\n",
    "            self.save_checkpoint(model)\n",
    "            self.counter = 0\n",
    "        return self.early_stop\n",
    "\n",
    "    def save_checkpoint(self, model):\n",
    "        if self.verbose:\n",
    "            print(f'Saving model...')\n",
    "        torch.save(model.state_dict(), f'checkpoint_{self.name}.pth')\n"
   ]
  },
  {
   "cell_type": "code",
   "execution_count": 45,
   "metadata": {},
   "outputs": [
    {
     "name": "stderr",
     "output_type": "stream",
     "text": [
      "/home/chenzhong/miniconda3/envs/anzhe/lib/python3.10/site-packages/torch/nn/parallel/data_parallel.py:32: UserWarning: \n",
      "    There is an imbalance between your GPUs. You may want to exclude GPU 1 which\n",
      "    has less than 75% of the memory or cores of GPU 0. You can do so by setting\n",
      "    the device_ids argument to DataParallel, or by setting the CUDA_VISIBLE_DEVICES\n",
      "    environment variable.\n",
      "  warnings.warn(imbalance_warn.format(device_ids[min_pos], device_ids[max_pos]))\n"
     ]
    }
   ],
   "source": [
    "import torch.backends.cudnn as cudnn\n",
    "\n",
    "c_in = 3  # input channel 3 for RGB\n",
    "c_out = 3  # output channel\n",
    "if torch.cuda.device_count() > 1:\n",
    "    device1 = torch.device(\"cuda:0\")\n",
    "    device2 = torch.device(\"cuda:1\")\n",
    "else:\n",
    "    raise RuntimeError(\"Multiple GPUs are required.\")\n",
    "\n",
    "model = UNet(c_in, c_out)\n",
    "checkpoint = torch.load('checkpoint.pth')\n",
    "modified_state_dict = {key.replace('module.', ''): value for key, value in checkpoint.items()}\n",
    "model.load_state_dict(modified_state_dict)\n",
    "cudnn.benchmark = True\n",
    "model = torch.nn.DataParallel(model)\n",
    "\n",
    "criterion = nn.CrossEntropyLoss()\n",
    "\n",
    "optimizer = optim.Adam(model.parameters(), lr=0.001)\n",
    "# early_stopping = EarlyStopping(patience=5, verbose=True, name=\"unet\")\n",
    "scheduler =  torch.optim.lr_scheduler.CosineAnnealingLR(optimizer, T_max=100)"
   ]
  },
  {
   "cell_type": "code",
   "execution_count": 46,
   "metadata": {},
   "outputs": [],
   "source": [
    "from sklearn.metrics import confusion_matrix, f1_score, precision_score, recall_score\n",
    "\n",
    "\n",
    "def calculate_metrics(y_true, y_pred):\n",
    "    # Flatten the predictions and true labels to compute pixel-wise values\n",
    "    y_true_flat = y_true.flatten()\n",
    "    y_pred_flat = y_pred.flatten()\n",
    "\n",
    "    # Calculate confusion matrix\n",
    "    cm = confusion_matrix(y_true_flat, y_pred_flat, labels=[1, 2])\n",
    "    precision = precision_score(y_true_flat, y_pred_flat, labels=[1, 2], average=None)\n",
    "    recall = recall_score(y_true_flat, y_pred_flat, labels=[1, 2], average=None)\n",
    "    f1 = f1_score(y_true_flat, y_pred_flat, labels=[1, 2], average=None)\n",
    "\n",
    "    return cm, precision, recall, f1"
   ]
  },
  {
   "cell_type": "code",
   "execution_count": 47,
   "metadata": {},
   "outputs": [
    {
     "name": "stderr",
     "output_type": "stream",
     "text": [
      "100%|██████████| 80/80 [00:58<00:00,  1.38it/s]\n"
     ]
    },
    {
     "name": "stdout",
     "output_type": "stream",
     "text": [
      "Epoch [1/100] Loss: 0.009959280356997623 IoU: 0.7096874192357063\n",
      "\n",
      "Training Metrics for Epoch [1]:\n",
      "Confusion Matrix:\n",
      "[[76219  3540]\n",
      " [ 1398 79354]]\n",
      "Precision (Live, Dead): [82.91884247 81.69370779]%\n",
      "Recall (Live, Dead): [72.99971267 79.01266529]%\n",
      "F1 Score (Live, Dead): [77.64376305 80.33082281]%\n",
      "\n"
     ]
    },
    {
     "name": "stderr",
     "output_type": "stream",
     "text": [
      "100%|██████████| 80/80 [00:57<00:00,  1.38it/s]\n"
     ]
    },
    {
     "name": "stdout",
     "output_type": "stream",
     "text": [
      "Epoch [2/100] Loss: 0.011716790439095348 IoU: 0.684424240142107\n",
      "\n",
      "Training Metrics for Epoch [2]:\n",
      "Confusion Matrix:\n",
      "[[70520  4663]\n",
      " [  861 77328]]\n",
      "Precision (Live, Dead): [77.50387409 77.01224978]%\n",
      "Recall (Live, Dead): [67.54142324 76.99537996]%\n",
      "F1 Score (Live, Dead): [72.18051269 77.00381394]%\n",
      "\n"
     ]
    },
    {
     "name": "stderr",
     "output_type": "stream",
     "text": [
      "100%|██████████| 80/80 [00:58<00:00,  1.38it/s]\n"
     ]
    },
    {
     "name": "stdout",
     "output_type": "stream",
     "text": [
      "Epoch [3/100] Loss: 0.01025533540523611 IoU: 0.7057735733687878\n",
      "\n",
      "Training Metrics for Epoch [3]:\n",
      "Confusion Matrix:\n",
      "[[74589  4640]\n",
      " [  975 79725]]\n",
      "Precision (Live, Dead): [80.23773666 80.51485069]%\n",
      "Recall (Live, Dead): [71.43855952 79.38206946]%\n",
      "F1 Score (Live, Dead): [75.58291534 79.94444751]%\n",
      "\n"
     ]
    },
    {
     "name": "stderr",
     "output_type": "stream",
     "text": [
      "100%|██████████| 80/80 [00:58<00:00,  1.38it/s]\n"
     ]
    },
    {
     "name": "stdout",
     "output_type": "stream",
     "text": [
      "Epoch [4/100] Loss: 0.008663349626294803 IoU: 0.7358315382152796\n",
      "\n",
      "Training Metrics for Epoch [4]:\n",
      "Confusion Matrix:\n",
      "[[75437  4242]\n",
      " [ 1037 84079]]\n",
      "Precision (Live, Dead): [84.11047186 83.67734873]%\n",
      "Recall (Live, Dead): [72.25074227 83.71734109]%\n",
      "F1 Score (Live, Dead): [77.730837   83.69734013]%\n",
      "\n"
     ]
    },
    {
     "name": "stderr",
     "output_type": "stream",
     "text": [
      "100%|██████████| 80/80 [00:58<00:00,  1.38it/s]\n"
     ]
    },
    {
     "name": "stdout",
     "output_type": "stream",
     "text": [
      "Epoch [5/100] Loss: 0.007265865019871853 IoU: 0.7716529481112957\n",
      "\n",
      "Training Metrics for Epoch [5]:\n",
      "Confusion Matrix:\n",
      "[[81212  4269]\n",
      " [ 1052 87700]]\n",
      "Precision (Live, Dead): [84.13048658 85.84321134]%\n",
      "Recall (Live, Dead): [77.78182166 87.32276565]%\n",
      "F1 Score (Live, Dead): [80.83168691 86.57666774]%\n",
      "\n"
     ]
    },
    {
     "name": "stderr",
     "output_type": "stream",
     "text": [
      "100%|██████████| 80/80 [00:57<00:00,  1.38it/s]\n"
     ]
    },
    {
     "name": "stdout",
     "output_type": "stream",
     "text": [
      "Epoch [6/100] Loss: 0.0066433709871489555 IoU: 0.7847408253699542\n",
      "\n",
      "Training Metrics for Epoch [6]:\n",
      "Confusion Matrix:\n",
      "[[84580  3587]\n",
      " [ 1384 87479]]\n",
      "Precision (Live, Dead): [86.18915146 86.13359327]%\n",
      "Recall (Live, Dead): [81.00756633 87.10271627]%\n",
      "F1 Score (Live, Dead): [83.51806777 86.61544402]%\n",
      "\n"
     ]
    },
    {
     "name": "stderr",
     "output_type": "stream",
     "text": [
      "100%|██████████| 80/80 [00:58<00:00,  1.38it/s]\n"
     ]
    },
    {
     "name": "stdout",
     "output_type": "stream",
     "text": [
      "Epoch [7/100] Loss: 0.006588011547864881 IoU: 0.7947149395942688\n",
      "\n",
      "Training Metrics for Epoch [7]:\n",
      "Confusion Matrix:\n",
      "[[84515  4190]\n",
      " [ 1436 88146]]\n",
      "Precision (Live, Dead): [87.25119756 85.5911055 ]%\n",
      "Recall (Live, Dead): [80.94531175 87.76684722]%\n",
      "F1 Score (Live, Dead): [83.9800471  86.66532296]%\n",
      "\n"
     ]
    },
    {
     "name": "stderr",
     "output_type": "stream",
     "text": [
      "100%|██████████| 80/80 [00:58<00:00,  1.38it/s]\n"
     ]
    },
    {
     "name": "stdout",
     "output_type": "stream",
     "text": [
      "Epoch [8/100] Loss: 0.006351883223396726 IoU: 0.7852905634790659\n",
      "\n",
      "Training Metrics for Epoch [8]:\n",
      "Confusion Matrix:\n",
      "[[84376  4184]\n",
      " [ 1259 89271]]\n",
      "Precision (Live, Dead): [85.76714306 86.69444121]%\n",
      "Recall (Live, Dead): [80.81218274 88.88700812]%\n",
      "F1 Score (Live, Dead): [83.21596939 87.77703487]%\n",
      "\n"
     ]
    },
    {
     "name": "stderr",
     "output_type": "stream",
     "text": [
      "100%|██████████| 80/80 [00:58<00:00,  1.38it/s]\n"
     ]
    },
    {
     "name": "stdout",
     "output_type": "stream",
     "text": [
      "Epoch [9/100] Loss: 0.0063179344768286684 IoU: 0.7945703364908695\n",
      "\n",
      "Training Metrics for Epoch [9]:\n",
      "Confusion Matrix:\n",
      "[[85148  3672]\n",
      " [ 1638 87504]]\n",
      "Precision (Live, Dead): [86.14382259 87.36072841]%\n",
      "Recall (Live, Dead): [81.55157552 87.12760873]%\n",
      "F1 Score (Live, Dead): [83.78482096 87.24401284]%\n",
      "\n"
     ]
    },
    {
     "name": "stderr",
     "output_type": "stream",
     "text": [
      "100%|██████████| 80/80 [00:57<00:00,  1.38it/s]\n"
     ]
    },
    {
     "name": "stdout",
     "output_type": "stream",
     "text": [
      "Epoch [10/100] Loss: 0.005988956561486703 IoU: 0.8014452159404755\n",
      "\n",
      "Training Metrics for Epoch [10]:\n",
      "Confusion Matrix:\n",
      "[[86782  4159]\n",
      " [ 1154 89705]]\n",
      "Precision (Live, Dead): [87.37087973 85.75429943]%\n",
      "Recall (Live, Dead): [83.11655972 89.31914131]%\n",
      "F1 Score (Live, Dead): [85.19063887 87.50042675]%\n",
      "\n"
     ]
    },
    {
     "name": "stderr",
     "output_type": "stream",
     "text": [
      "100%|██████████| 80/80 [00:57<00:00,  1.38it/s]\n"
     ]
    },
    {
     "name": "stdout",
     "output_type": "stream",
     "text": [
      "Epoch [11/100] Loss: 0.005588553065899759 IoU: 0.8204239182174206\n",
      "\n",
      "Training Metrics for Epoch [11]:\n",
      "Confusion Matrix:\n",
      "[[87654  3185]\n",
      " [ 1698 90145]]\n",
      "Precision (Live, Dead): [87.51572515 87.43792194]%\n",
      "Recall (Live, Dead): [83.95172876 89.75724869]%\n",
      "F1 Score (Live, Dead): [85.69668765 88.58240635]%\n",
      "\n"
     ]
    },
    {
     "name": "stderr",
     "output_type": "stream",
     "text": [
      "100%|██████████| 80/80 [00:57<00:00,  1.38it/s]\n"
     ]
    },
    {
     "name": "stdout",
     "output_type": "stream",
     "text": [
      "Epoch [12/100] Loss: 0.005998900164559018 IoU: 0.8003923192620277\n",
      "\n",
      "Training Metrics for Epoch [12]:\n",
      "Confusion Matrix:\n",
      "[[86746  3667]\n",
      " [ 1225 88321]]\n",
      "Precision (Live, Dead): [87.56119472 87.12649574]%\n",
      "Recall (Live, Dead): [83.08208026 87.94109447]%\n",
      "F1 Score (Live, Dead): [85.26285268 87.53189992]%\n",
      "\n"
     ]
    },
    {
     "name": "stderr",
     "output_type": "stream",
     "text": [
      "100%|██████████| 80/80 [00:58<00:00,  1.38it/s]\n"
     ]
    },
    {
     "name": "stdout",
     "output_type": "stream",
     "text": [
      "Epoch [13/100] Loss: 0.0052035136468475685 IoU: 0.8202607594430447\n",
      "\n",
      "Training Metrics for Epoch [13]:\n",
      "Confusion Matrix:\n",
      "[[88568  2687]\n",
      " [ 1477 91338]]\n",
      "Precision (Live, Dead): [87.32105533 89.44708855]%\n",
      "Recall (Live, Dead): [84.82712384 90.94511709]%\n",
      "F1 Score (Live, Dead): [86.05602464 90.18988279]%\n",
      "\n"
     ]
    },
    {
     "name": "stderr",
     "output_type": "stream",
     "text": [
      "100%|██████████| 80/80 [00:58<00:00,  1.38it/s]\n"
     ]
    },
    {
     "name": "stdout",
     "output_type": "stream",
     "text": [
      "Epoch [14/100] Loss: 0.005037379454006441 IoU: 0.8281238190829754\n",
      "\n",
      "Training Metrics for Epoch [14]:\n",
      "Confusion Matrix:\n",
      "[[87804  3167]\n",
      " [ 1108 92290]]\n",
      "Precision (Live, Dead): [87.74696447 90.37849483]%\n",
      "Recall (Live, Dead): [84.09539316 91.89302214]%\n",
      "F1 Score (Live, Dead): [85.88238171 91.12946625]%\n",
      "\n"
     ]
    },
    {
     "name": "stderr",
     "output_type": "stream",
     "text": [
      "100%|██████████| 80/80 [00:58<00:00,  1.38it/s]\n"
     ]
    },
    {
     "name": "stdout",
     "output_type": "stream",
     "text": [
      "Epoch [15/100] Loss: 0.005574803655326832 IoU: 0.8179226346313954\n",
      "\n",
      "Training Metrics for Epoch [15]:\n",
      "Confusion Matrix:\n",
      "[[87987  3460]\n",
      " [ 1553 89777]]\n",
      "Precision (Live, Dead): [87.8420606  87.40313096]%\n",
      "Recall (Live, Dead): [84.27066373 89.39083161]%\n",
      "F1 Score (Live, Dead): [86.01930832 88.38580739]%\n",
      "\n"
     ]
    },
    {
     "name": "stderr",
     "output_type": "stream",
     "text": [
      "100%|██████████| 80/80 [00:58<00:00,  1.38it/s]\n"
     ]
    },
    {
     "name": "stdout",
     "output_type": "stream",
     "text": [
      "Epoch [16/100] Loss: 0.005703464245016221 IoU: 0.814779207855463\n",
      "\n",
      "Training Metrics for Epoch [16]:\n",
      "Confusion Matrix:\n",
      "[[88284  2718]\n",
      " [ 1619 88887]]\n",
      "Precision (Live, Dead): [87.55987979 87.82172251]%\n",
      "Recall (Live, Dead): [84.55511924 88.50465987]%\n",
      "F1 Score (Live, Dead): [86.03127116 88.16186863]%\n",
      "\n"
     ]
    },
    {
     "name": "stderr",
     "output_type": "stream",
     "text": [
      "100%|██████████| 80/80 [00:58<00:00,  1.38it/s]\n"
     ]
    },
    {
     "name": "stdout",
     "output_type": "stream",
     "text": [
      "Epoch [17/100] Loss: 0.004794538592977915 IoU: 0.8357958726584911\n",
      "\n",
      "Training Metrics for Epoch [17]:\n",
      "Confusion Matrix:\n",
      "[[89657  3098]\n",
      " [  784 93138]]\n",
      "Precision (Live, Dead): [88.94808377 89.42421246]%\n",
      "Recall (Live, Dead): [85.87012738 92.73737454]%\n",
      "F1 Score (Live, Dead): [87.38200939 91.05066354]%\n",
      "\n"
     ]
    },
    {
     "name": "stderr",
     "output_type": "stream",
     "text": [
      "100%|██████████| 80/80 [00:57<00:00,  1.38it/s]\n"
     ]
    },
    {
     "name": "stdout",
     "output_type": "stream",
     "text": [
      "Epoch [18/100] Loss: 0.0046754538532695735 IoU: 0.8401968583464623\n",
      "\n",
      "Training Metrics for Epoch [18]:\n",
      "Confusion Matrix:\n",
      "[[89221  2448]\n",
      " [ 1390 92169]]\n",
      "Precision (Live, Dead): [88.22843016 91.62019503]%\n",
      "Recall (Live, Dead): [85.45254286 91.77254262]%\n",
      "F1 Score (Live, Dead): [86.81830345 91.69630554]%\n",
      "\n"
     ]
    },
    {
     "name": "stderr",
     "output_type": "stream",
     "text": [
      "100%|██████████| 80/80 [00:58<00:00,  1.38it/s]\n"
     ]
    },
    {
     "name": "stdout",
     "output_type": "stream",
     "text": [
      "Epoch [19/100] Loss: 0.004239099952974357 IoU: 0.8559394598007202\n",
      "\n",
      "Training Metrics for Epoch [19]:\n",
      "Confusion Matrix:\n",
      "[[90769  2598]\n",
      " [ 1330 93795]]\n",
      "Precision (Live, Dead): [89.46196075 91.1400892 ]%\n",
      "Recall (Live, Dead): [86.93515947 93.39154851]%\n",
      "F1 Score (Live, Dead): [88.18046252 92.2520839 ]%\n",
      "\n"
     ]
    },
    {
     "name": "stderr",
     "output_type": "stream",
     "text": [
      "100%|██████████| 80/80 [00:58<00:00,  1.38it/s]\n"
     ]
    },
    {
     "name": "stdout",
     "output_type": "stream",
     "text": [
      "Epoch [20/100] Loss: 0.004257609724299982 IoU: 0.8522579677402973\n",
      "\n",
      "Training Metrics for Epoch [20]:\n",
      "Confusion Matrix:\n",
      "[[90785  2583]\n",
      " [ 1497 93795]]\n",
      "Precision (Live, Dead): [88.58628832 91.94236142]%\n",
      "Recall (Live, Dead): [86.95048367 93.39154851]%\n",
      "F1 Score (Live, Dead): [87.76076407 92.66128913]%\n",
      "\n"
     ]
    },
    {
     "name": "stderr",
     "output_type": "stream",
     "text": [
      "100%|██████████| 80/80 [00:58<00:00,  1.38it/s]\n"
     ]
    },
    {
     "name": "stdout",
     "output_type": "stream",
     "text": [
      "Epoch [21/100] Loss: 0.004036738058493939 IoU: 0.8590325325727463\n",
      "\n",
      "Training Metrics for Epoch [21]:\n",
      "Confusion Matrix:\n",
      "[[90654  2369]\n",
      " [ 1146 94426]]\n",
      "Precision (Live, Dead): [89.01785188 92.7937578 ]%\n",
      "Recall (Live, Dead): [86.82501676 94.01983432]%\n",
      "F1 Score (Live, Dead): [87.90776153 93.40277263]%\n",
      "\n"
     ]
    },
    {
     "name": "stderr",
     "output_type": "stream",
     "text": [
      "100%|██████████| 80/80 [00:57<00:00,  1.38it/s]\n"
     ]
    },
    {
     "name": "stdout",
     "output_type": "stream",
     "text": [
      "Epoch [22/100] Loss: 0.003980524893268012 IoU: 0.8622682243585587\n",
      "\n",
      "Training Metrics for Epoch [22]:\n",
      "Confusion Matrix:\n",
      "[[91674  2147]\n",
      " [ 1509 93664]]\n",
      "Precision (Live, Dead): [89.36829791 92.21892938]%\n",
      "Recall (Live, Dead): [87.80193468 93.261112  ]%\n",
      "F1 Score (Live, Dead): [88.57819218 92.73709276]%\n",
      "\n"
     ]
    },
    {
     "name": "stderr",
     "output_type": "stream",
     "text": [
      "100%|██████████| 80/80 [00:57<00:00,  1.38it/s]\n"
     ]
    },
    {
     "name": "stdout",
     "output_type": "stream",
     "text": [
      "Epoch [23/100] Loss: 0.003650151519832434 IoU: 0.8693641066551209\n",
      "\n",
      "Training Metrics for Epoch [23]:\n",
      "Confusion Matrix:\n",
      "[[93808  2242]\n",
      " [ 1153 94330]]\n",
      "Precision (Live, Dead): [89.74780912 92.70215024]%\n",
      "Recall (Live, Dead): [89.84580021 93.92424725]%\n",
      "F1 Score (Live, Dead): [89.79677793 93.30919738]%\n",
      "\n"
     ]
    },
    {
     "name": "stderr",
     "output_type": "stream",
     "text": [
      "100%|██████████| 80/80 [00:58<00:00,  1.38it/s]\n"
     ]
    },
    {
     "name": "stdout",
     "output_type": "stream",
     "text": [
      "Epoch [24/100] Loss: 0.0037772871655761264 IoU: 0.8681908071041107\n",
      "\n",
      "Training Metrics for Epoch [24]:\n",
      "Confusion Matrix:\n",
      "[[92394  1919]\n",
      " [ 1696 93982]]\n",
      "Precision (Live, Dead): [89.65329866 92.92635659]%\n",
      "Recall (Live, Dead): [88.4915238  93.57774415]%\n",
      "F1 Score (Live, Dead): [89.06862296 93.25091284]%\n",
      "\n"
     ]
    },
    {
     "name": "stderr",
     "output_type": "stream",
     "text": [
      "100%|██████████| 80/80 [00:58<00:00,  1.38it/s]\n"
     ]
    },
    {
     "name": "stdout",
     "output_type": "stream",
     "text": [
      "Epoch [25/100] Loss: 0.003790750694315648 IoU: 0.8669419266283512\n",
      "\n",
      "Training Metrics for Epoch [25]:\n",
      "Confusion Matrix:\n",
      "[[92233  2203]\n",
      " [ 1294 93875]]\n",
      "Precision (Live, Dead): [89.95445369 92.8471817 ]%\n",
      "Recall (Live, Dead): [88.33732401 93.4712044 ]%\n",
      "F1 Score (Live, Dead): [89.13855506 93.15814805]%\n",
      "\n"
     ]
    },
    {
     "name": "stderr",
     "output_type": "stream",
     "text": [
      "100%|██████████| 80/80 [00:58<00:00,  1.38it/s]\n"
     ]
    },
    {
     "name": "stdout",
     "output_type": "stream",
     "text": [
      "Epoch [26/100] Loss: 0.0036019706472870893 IoU: 0.8705074720084667\n",
      "\n",
      "Training Metrics for Epoch [26]:\n",
      "Confusion Matrix:\n",
      "[[92987  2218]\n",
      " [ 1055 94455]]\n",
      "Precision (Live, Dead): [90.44460223 92.80675208]%\n",
      "Recall (Live, Dead): [89.05947706 94.04870957]%\n",
      "F1 Score (Live, Dead): [89.74669556 93.42360342]%\n",
      "\n"
     ]
    },
    {
     "name": "stderr",
     "output_type": "stream",
     "text": [
      "100%|██████████| 80/80 [00:58<00:00,  1.38it/s]\n"
     ]
    },
    {
     "name": "stdout",
     "output_type": "stream",
     "text": [
      "Epoch [27/100] Loss: 0.0035516573996574154 IoU: 0.8743407361209392\n",
      "\n",
      "Training Metrics for Epoch [27]:\n",
      "Confusion Matrix:\n",
      "[[93664  1998]\n",
      " [ 1690 94175]]\n",
      "Precision (Live, Dead): [90.20725788 92.83538539]%\n",
      "Recall (Live, Dead): [89.70788239 93.76991397]%\n",
      "F1 Score (Live, Dead): [89.95687709 93.3003096 ]%\n",
      "\n"
     ]
    },
    {
     "name": "stderr",
     "output_type": "stream",
     "text": [
      "100%|██████████| 80/80 [00:57<00:00,  1.38it/s]\n"
     ]
    },
    {
     "name": "stdout",
     "output_type": "stream",
     "text": [
      "Epoch [28/100] Loss: 0.003410234560578829 IoU: 0.8708835765719414\n",
      "\n",
      "Training Metrics for Epoch [28]:\n",
      "Confusion Matrix:\n",
      "[[93474  2088]\n",
      " [ 1364 94324]]\n",
      "Precision (Live, Dead): [90.99085945 92.81757083]%\n",
      "Recall (Live, Dead): [89.52590748 93.91827306]%\n",
      "F1 Score (Live, Dead): [90.25243918 93.36467793]%\n",
      "\n"
     ]
    },
    {
     "name": "stderr",
     "output_type": "stream",
     "text": [
      "100%|██████████| 80/80 [00:58<00:00,  1.38it/s]\n"
     ]
    },
    {
     "name": "stdout",
     "output_type": "stream",
     "text": [
      "Epoch [29/100] Loss: 0.0033471900227596053 IoU: 0.8781214497983456\n",
      "\n",
      "Training Metrics for Epoch [29]:\n",
      "Confusion Matrix:\n",
      "[[94248  2012]\n",
      " [ 1236 94534]]\n",
      "Precision (Live, Dead): [91.07406871 93.07642321]%\n",
      "Recall (Live, Dead): [90.26721578 94.12736976]%\n",
      "F1 Score (Live, Dead): [90.66884725 93.59894652]%\n",
      "\n"
     ]
    },
    {
     "name": "stderr",
     "output_type": "stream",
     "text": [
      "100%|██████████| 80/80 [00:57<00:00,  1.38it/s]\n"
     ]
    },
    {
     "name": "stdout",
     "output_type": "stream",
     "text": [
      "Epoch [30/100] Loss: 0.0035463340049318504 IoU: 0.8724101074039936\n",
      "\n",
      "Training Metrics for Epoch [30]:\n",
      "Confusion Matrix:\n",
      "[[92939  2294]\n",
      " [ 1279 94940]]\n",
      "Precision (Live, Dead): [89.5693992  93.16885997]%\n",
      "Recall (Live, Dead): [89.01350445 94.53162339]%\n",
      "F1 Score (Live, Dead): [89.29058663 93.84529464]%\n",
      "\n"
     ]
    },
    {
     "name": "stderr",
     "output_type": "stream",
     "text": [
      "100%|██████████| 80/80 [00:58<00:00,  1.38it/s]\n"
     ]
    },
    {
     "name": "stdout",
     "output_type": "stream",
     "text": [
      "Epoch [31/100] Loss: 0.0033348943754390346 IoU: 0.879585075378418\n",
      "\n",
      "Training Metrics for Epoch [31]:\n",
      "Confusion Matrix:\n",
      "[[93578  1622]\n",
      " [ 1345 95048]]\n",
      "Precision (Live, Dead): [90.51935113 94.20113182]%\n",
      "Recall (Live, Dead): [89.6255148  94.63915883]%\n",
      "F1 Score (Live, Dead): [90.07021546 94.41963731]%\n",
      "\n"
     ]
    },
    {
     "name": "stderr",
     "output_type": "stream",
     "text": [
      "100%|██████████| 80/80 [00:58<00:00,  1.38it/s]\n"
     ]
    },
    {
     "name": "stdout",
     "output_type": "stream",
     "text": [
      "Epoch [32/100] Loss: 0.0031635353443562053 IoU: 0.8869151033461093\n",
      "\n",
      "Training Metrics for Epoch [32]:\n",
      "Confusion Matrix:\n",
      "[[94358  1771]\n",
      " [ 1099 95347]]\n",
      "Precision (Live, Dead): [91.07915058 93.94070761]%\n",
      "Recall (Live, Dead): [90.37256968 94.93687271]%\n",
      "F1 Score (Live, Dead): [90.7244844  94.43616321]%\n",
      "\n"
     ]
    },
    {
     "name": "stderr",
     "output_type": "stream",
     "text": [
      "100%|██████████| 80/80 [00:58<00:00,  1.38it/s]\n"
     ]
    },
    {
     "name": "stdout",
     "output_type": "stream",
     "text": [
      "Epoch [33/100] Loss: 0.003111396524036536 IoU: 0.8881615422666073\n",
      "\n",
      "Training Metrics for Epoch [33]:\n",
      "Confusion Matrix:\n",
      "[[94615  1820]\n",
      " [ 1072 95350]]\n",
      "Precision (Live, Dead): [91.06527556 94.00942559]%\n",
      "Recall (Live, Dead): [90.61871468 94.93985981]%\n",
      "F1 Score (Live, Dead): [90.84144632 94.47235185]%\n",
      "\n"
     ]
    },
    {
     "name": "stderr",
     "output_type": "stream",
     "text": [
      "100%|██████████| 80/80 [00:58<00:00,  1.38it/s]\n"
     ]
    },
    {
     "name": "stdout",
     "output_type": "stream",
     "text": [
      "Epoch [34/100] Loss: 0.0030850704861222766 IoU: 0.8899284534156322\n",
      "\n",
      "Training Metrics for Epoch [34]:\n",
      "Confusion Matrix:\n",
      "[[95115  1765]\n",
      " [ 1428 95086]]\n",
      "Precision (Live, Dead): [91.17618865 93.73435066]%\n",
      "Recall (Live, Dead): [91.09759602 94.67699538]%\n",
      "F1 Score (Live, Dead): [91.13687539 94.20331494]%\n",
      "\n"
     ]
    },
    {
     "name": "stderr",
     "output_type": "stream",
     "text": [
      "100%|██████████| 80/80 [00:58<00:00,  1.38it/s]\n"
     ]
    },
    {
     "name": "stdout",
     "output_type": "stream",
     "text": [
      "Epoch [35/100] Loss: 0.0035032303727348334 IoU: 0.8762408182024956\n",
      "\n",
      "Training Metrics for Epoch [35]:\n",
      "Confusion Matrix:\n",
      "[[94651  1842]\n",
      " [ 1291 93283]]\n",
      "Precision (Live, Dead): [91.41138067 92.55184046]%\n",
      "Recall (Live, Dead): [90.65319414 92.88175084]%\n",
      "F1 Score (Live, Dead): [91.03070871 92.71650217]%\n",
      "\n"
     ]
    },
    {
     "name": "stderr",
     "output_type": "stream",
     "text": [
      "100%|██████████| 80/80 [00:58<00:00,  1.38it/s]\n"
     ]
    },
    {
     "name": "stdout",
     "output_type": "stream",
     "text": [
      "Epoch [36/100] Loss: 0.0035322123003425077 IoU: 0.872959130257368\n",
      "\n",
      "Training Metrics for Epoch [36]:\n",
      "Confusion Matrix:\n",
      "[[94383  2254]\n",
      " [ 1311 93553]]\n",
      "Precision (Live, Dead): [91.0461583  91.81223993]%\n",
      "Recall (Live, Dead): [90.39651374 93.15058945]%\n",
      "F1 Score (Live, Dead): [90.72017301 92.47657269]%\n",
      "\n"
     ]
    },
    {
     "name": "stderr",
     "output_type": "stream",
     "text": [
      "100%|██████████| 80/80 [00:58<00:00,  1.38it/s]\n"
     ]
    },
    {
     "name": "stdout",
     "output_type": "stream",
     "text": [
      "Epoch [37/100] Loss: 0.003610801672039088 IoU: 0.8706786826252937\n",
      "\n",
      "Training Metrics for Epoch [37]:\n",
      "Confusion Matrix:\n",
      "[[93793  1675]\n",
      " [ 1979 93024]]\n",
      "Precision (Live, Dead): [90.41596375 92.79942539]%\n",
      "Recall (Live, Dead): [89.83143377 92.6238649 ]%\n",
      "F1 Score (Live, Dead): [90.12275097 92.71156204]%\n",
      "\n"
     ]
    },
    {
     "name": "stderr",
     "output_type": "stream",
     "text": [
      "100%|██████████| 80/80 [00:58<00:00,  1.38it/s]\n"
     ]
    },
    {
     "name": "stdout",
     "output_type": "stream",
     "text": [
      "Epoch [38/100] Loss: 0.00330899538093945 IoU: 0.8839373715221882\n",
      "\n",
      "Training Metrics for Epoch [38]:\n",
      "Confusion Matrix:\n",
      "[[94417  2255]\n",
      " [ 1305 94335]]\n",
      "Precision (Live, Dead): [91.49998062 92.53882148]%\n",
      "Recall (Live, Dead): [90.42907767 93.92922574]%\n",
      "F1 Score (Live, Dead): [90.96137728 93.22883982]%\n",
      "\n"
     ]
    },
    {
     "name": "stderr",
     "output_type": "stream",
     "text": [
      "100%|██████████| 80/80 [00:58<00:00,  1.38it/s]\n"
     ]
    },
    {
     "name": "stdout",
     "output_type": "stream",
     "text": [
      "Epoch [39/100] Loss: 0.0027663406173815018 IoU: 0.900624118000269\n",
      "\n",
      "Training Metrics for Epoch [39]:\n",
      "Confusion Matrix:\n",
      "[[95785  1845]\n",
      " [ 1203 95660]]\n",
      "Precision (Live, Dead): [92.19670427 94.33273837]%\n",
      "Recall (Live, Dead): [91.739297   95.24852637]%\n",
      "F1 Score (Live, Dead): [91.9674319  94.78842047]%\n",
      "\n"
     ]
    },
    {
     "name": "stderr",
     "output_type": "stream",
     "text": [
      "100%|██████████| 80/80 [00:58<00:00,  1.38it/s]\n"
     ]
    },
    {
     "name": "stdout",
     "output_type": "stream",
     "text": [
      "Epoch [40/100] Loss: 0.0026623470566846663 IoU: 0.9030376493930816\n",
      "\n",
      "Training Metrics for Epoch [40]:\n",
      "Confusion Matrix:\n",
      "[[95819  1734]\n",
      " [ 1128 96105]]\n",
      "Precision (Live, Dead): [92.26495397 94.64370125]%\n",
      "Recall (Live, Dead): [91.77186093 95.69161224]%\n",
      "F1 Score (Live, Dead): [92.01774688 95.16477205]%\n",
      "\n"
     ]
    },
    {
     "name": "stderr",
     "output_type": "stream",
     "text": [
      "100%|██████████| 80/80 [00:58<00:00,  1.38it/s]\n"
     ]
    },
    {
     "name": "stdout",
     "output_type": "stream",
     "text": [
      "Epoch [41/100] Loss: 0.002742716475768248 IoU: 0.9004001043736934\n",
      "\n",
      "Training Metrics for Epoch [41]:\n",
      "Confusion Matrix:\n",
      "[[95846  1451]\n",
      " [ 1185 95991]]\n",
      "Precision (Live, Dead): [91.89629715 94.91842183]%\n",
      "Recall (Live, Dead): [91.79772052 95.5781026 ]%\n",
      "F1 Score (Live, Dead): [91.84698239 95.24711999]%\n",
      "\n"
     ]
    },
    {
     "name": "stderr",
     "output_type": "stream",
     "text": [
      "100%|██████████| 80/80 [00:58<00:00,  1.38it/s]\n"
     ]
    },
    {
     "name": "stdout",
     "output_type": "stream",
     "text": [
      "Epoch [42/100] Loss: 0.00249841977347387 IoU: 0.9046716943383217\n",
      "\n",
      "Training Metrics for Epoch [42]:\n",
      "Confusion Matrix:\n",
      "[[97117  1544]\n",
      " [ 1047 96112]]\n",
      "Precision (Live, Dead): [92.81324962 94.79809836]%\n",
      "Recall (Live, Dead): [93.01503687 95.69858213]%\n",
      "F1 Score (Live, Dead): [92.91403369 95.24621193]%\n",
      "\n"
     ]
    },
    {
     "name": "stderr",
     "output_type": "stream",
     "text": [
      "100%|██████████| 80/80 [00:57<00:00,  1.38it/s]\n"
     ]
    },
    {
     "name": "stdout",
     "output_type": "stream",
     "text": [
      "Epoch [43/100] Loss: 0.0027324809263518544 IoU: 0.8995631158351898\n",
      "\n",
      "Training Metrics for Epoch [43]:\n",
      "Confusion Matrix:\n",
      "[[96052  1457]\n",
      " [ 1242 95560]]\n",
      "Precision (Live, Dead): [92.37989901 94.73955545]%\n",
      "Recall (Live, Dead): [91.99501963 95.14895651]%\n",
      "F1 Score (Live, Dead): [92.18705761 94.94381464]%\n",
      "\n"
     ]
    },
    {
     "name": "stderr",
     "output_type": "stream",
     "text": [
      "100%|██████████| 80/80 [00:58<00:00,  1.38it/s]\n"
     ]
    },
    {
     "name": "stdout",
     "output_type": "stream",
     "text": [
      "Epoch [44/100] Loss: 0.00285942886112025 IoU: 0.8950507171452046\n",
      "\n",
      "Training Metrics for Epoch [44]:\n",
      "Confusion Matrix:\n",
      "[[95421  1565]\n",
      " [ 1437 95541]]\n",
      "Precision (Live, Dead): [91.65578054 94.57725774]%\n",
      "Recall (Live, Dead): [91.39067139 95.13003823]%\n",
      "F1 Score (Live, Dead): [91.52303398 94.85284263]%\n",
      "\n"
     ]
    },
    {
     "name": "stderr",
     "output_type": "stream",
     "text": [
      "100%|██████████| 80/80 [00:57<00:00,  1.38it/s]\n"
     ]
    },
    {
     "name": "stdout",
     "output_type": "stream",
     "text": [
      "Epoch [45/100] Loss: 0.0028766821706085466 IoU: 0.8932787127792835\n",
      "\n",
      "Training Metrics for Epoch [45]:\n",
      "Confusion Matrix:\n",
      "[[95288  1825]\n",
      " [ 1118 96059]]\n",
      "Precision (Live, Dead): [91.21174703 94.4932469 ]%\n",
      "Recall (Live, Dead): [91.26328896 95.6458101 ]%\n",
      "F1 Score (Live, Dead): [91.23751071 95.06603526]%\n",
      "\n"
     ]
    },
    {
     "name": "stderr",
     "output_type": "stream",
     "text": [
      "100%|██████████| 80/80 [00:58<00:00,  1.38it/s]\n"
     ]
    },
    {
     "name": "stdout",
     "output_type": "stream",
     "text": [
      "Epoch [46/100] Loss: 0.00269455123852822 IoU: 0.9002910867333412\n",
      "\n",
      "Training Metrics for Epoch [46]:\n",
      "Confusion Matrix:\n",
      "[[96479  1538]\n",
      " [ 1537 95439]]\n",
      "Precision (Live, Dead): [91.94693555 94.71725452]%\n",
      "Recall (Live, Dead): [92.40398429 95.02847698]%\n",
      "F1 Score (Live, Dead): [92.17489335 94.87261052]%\n",
      "\n"
     ]
    },
    {
     "name": "stderr",
     "output_type": "stream",
     "text": [
      "100%|██████████| 80/80 [00:58<00:00,  1.38it/s]\n"
     ]
    },
    {
     "name": "stdout",
     "output_type": "stream",
     "text": [
      "Epoch [47/100] Loss: 0.002525665563007351 IoU: 0.9063378393650054\n",
      "\n",
      "Training Metrics for Epoch [47]:\n",
      "Confusion Matrix:\n",
      "[[96520  1602]\n",
      " [  844 96132]]\n",
      "Precision (Live, Dead): [93.18941047 94.77575889]%\n",
      "Recall (Live, Dead): [92.44325256 95.7184961 ]%\n",
      "F1 Score (Live, Dead): [92.81483191 95.24479474]%\n",
      "\n"
     ]
    },
    {
     "name": "stderr",
     "output_type": "stream",
     "text": [
      "100%|██████████| 80/80 [00:58<00:00,  1.38it/s]\n"
     ]
    },
    {
     "name": "stdout",
     "output_type": "stream",
     "text": [
      "Epoch [48/100] Loss: 0.0023305267852265386 IoU: 0.9120087049901485\n",
      "\n",
      "Training Metrics for Epoch [48]:\n",
      "Confusion Matrix:\n",
      "[[97189  1348]\n",
      " [ 1061 96569]]\n",
      "Precision (Live, Dead): [92.93001731 95.34289043]%\n",
      "Recall (Live, Dead): [93.08399579 96.15361638]%\n",
      "F1 Score (Live, Dead): [93.00694282 95.74653725]%\n",
      "\n"
     ]
    },
    {
     "name": "stderr",
     "output_type": "stream",
     "text": [
      "100%|██████████| 80/80 [00:58<00:00,  1.38it/s]\n"
     ]
    },
    {
     "name": "stdout",
     "output_type": "stream",
     "text": [
      "Epoch [49/100] Loss: 0.002350260905950563 IoU: 0.910924369096756\n",
      "\n",
      "Training Metrics for Epoch [49]:\n",
      "Confusion Matrix:\n",
      "[[97134  1477]\n",
      " [ 1180 96553]]\n",
      "Precision (Live, Dead): [93.15533562 95.00255825]%\n",
      "Recall (Live, Dead): [93.03131884 96.1376852 ]%\n",
      "F1 Score (Live, Dead): [93.09328592 95.56675113]%\n",
      "\n"
     ]
    },
    {
     "name": "stderr",
     "output_type": "stream",
     "text": [
      "100%|██████████| 80/80 [00:58<00:00,  1.38it/s]\n"
     ]
    },
    {
     "name": "stdout",
     "output_type": "stream",
     "text": [
      "Epoch [50/100] Loss: 0.0025445905768719966 IoU: 0.9071140095591546\n",
      "\n",
      "Training Metrics for Epoch [50]:\n",
      "Confusion Matrix:\n",
      "[[96716  1815]\n",
      " [ 1181 95666]]\n",
      "Precision (Live, Dead): [93.00509664 94.87098118]%\n",
      "Recall (Live, Dead): [92.63097404 95.25450056]%\n",
      "F1 Score (Live, Dead): [92.81765835 95.06235405]%\n",
      "\n"
     ]
    },
    {
     "name": "stderr",
     "output_type": "stream",
     "text": [
      "100%|██████████| 80/80 [00:57<00:00,  1.38it/s]\n"
     ]
    },
    {
     "name": "stdout",
     "output_type": "stream",
     "text": [
      "Epoch [51/100] Loss: 0.002611819801677484 IoU: 0.9040388375520706\n",
      "\n",
      "Training Metrics for Epoch [51]:\n",
      "Confusion Matrix:\n",
      "[[96746  1587]\n",
      " [ 1444 95504]]\n",
      "Precision (Live, Dead): [92.3571865  94.64837866]%\n",
      "Recall (Live, Dead): [92.65970692 95.09319739]%\n",
      "F1 Score (Live, Dead): [92.50819939 94.87026662]%\n",
      "\n"
     ]
    },
    {
     "name": "stderr",
     "output_type": "stream",
     "text": [
      "100%|██████████| 80/80 [00:58<00:00,  1.38it/s]\n"
     ]
    },
    {
     "name": "stdout",
     "output_type": "stream",
     "text": [
      "Epoch [52/100] Loss: 0.002346466505332501 IoU: 0.9101689577102661\n",
      "\n",
      "Training Metrics for Epoch [52]:\n",
      "Confusion Matrix:\n",
      "[[96913  1426]\n",
      " [ 1124 96492]]\n",
      "Precision (Live, Dead): [93.2797536  95.33746332]%\n",
      "Recall (Live, Dead): [92.81965329 96.07694759]%\n",
      "F1 Score (Live, Dead): [93.04913468 95.70577704]%\n",
      "\n"
     ]
    },
    {
     "name": "stderr",
     "output_type": "stream",
     "text": [
      "100%|██████████| 80/80 [00:58<00:00,  1.38it/s]\n"
     ]
    },
    {
     "name": "stdout",
     "output_type": "stream",
     "text": [
      "Epoch [53/100] Loss: 0.0022484966400952546 IoU: 0.9156076952815055\n",
      "\n",
      "Training Metrics for Epoch [53]:\n",
      "Confusion Matrix:\n",
      "[[97542  1385]\n",
      " [  879 96831]]\n",
      "Precision (Live, Dead): [93.19180647 95.75092952]%\n",
      "Recall (Live, Dead): [93.42208601 96.41448941]%\n",
      "F1 Score (Live, Dead): [93.30680416 96.0815638 ]%\n",
      "\n"
     ]
    },
    {
     "name": "stderr",
     "output_type": "stream",
     "text": [
      "100%|██████████| 80/80 [00:58<00:00,  1.38it/s]\n"
     ]
    },
    {
     "name": "stdout",
     "output_type": "stream",
     "text": [
      "Epoch [54/100] Loss: 0.0022861802488478135 IoU: 0.9131874404847622\n",
      "\n",
      "Training Metrics for Epoch [54]:\n",
      "Confusion Matrix:\n",
      "[[97368  1342]\n",
      " [ 1251 96580]]\n",
      "Precision (Live, Dead): [93.04512356 95.66543841]%\n",
      "Recall (Live, Dead): [93.2554353  96.16456906]%\n",
      "F1 Score (Live, Dead): [93.15016072 95.91435438]%\n",
      "\n"
     ]
    },
    {
     "name": "stderr",
     "output_type": "stream",
     "text": [
      "100%|██████████| 80/80 [00:58<00:00,  1.38it/s]\n"
     ]
    },
    {
     "name": "stdout",
     "output_type": "stream",
     "text": [
      "Epoch [55/100] Loss: 0.002335068142201635 IoU: 0.9134014584124088\n",
      "\n",
      "Training Metrics for Epoch [55]:\n",
      "Confusion Matrix:\n",
      "[[97154  1286]\n",
      " [ 1029 96492]]\n",
      "Precision (Live, Dead): [93.07632615 95.77845054]%\n",
      "Recall (Live, Dead): [93.05047409 96.07694759]%\n",
      "F1 Score (Live, Dead): [93.06339833 95.92746686]%\n",
      "\n"
     ]
    },
    {
     "name": "stderr",
     "output_type": "stream",
     "text": [
      "100%|██████████| 80/80 [00:58<00:00,  1.38it/s]\n"
     ]
    },
    {
     "name": "stdout",
     "output_type": "stream",
     "text": [
      "Epoch [56/100] Loss: 0.0023629744646314066 IoU: 0.9100426755845547\n",
      "\n",
      "Training Metrics for Epoch [56]:\n",
      "Confusion Matrix:\n",
      "[[97084  1318]\n",
      " [  983 96601]]\n",
      "Precision (Live, Dead): [92.88823828 95.4432731 ]%\n",
      "Recall (Live, Dead): [92.98343071 96.18547873]%\n",
      "F1 Score (Live, Dead): [92.93581012 95.81293858]%\n",
      "\n"
     ]
    },
    {
     "name": "stderr",
     "output_type": "stream",
     "text": [
      "100%|██████████| 80/80 [00:57<00:00,  1.38it/s]\n"
     ]
    },
    {
     "name": "stdout",
     "output_type": "stream",
     "text": [
      "Epoch [57/100] Loss: 0.002447785041294992 IoU: 0.9096407316625118\n",
      "\n",
      "Training Metrics for Epoch [57]:\n",
      "Confusion Matrix:\n",
      "[[97260  1423]\n",
      " [ 1114 95797]]\n",
      "Precision (Live, Dead): [93.05930306 95.08670233]%\n",
      "Recall (Live, Dead): [93.15199694 95.38493707]%\n",
      "F1 Score (Live, Dead): [93.10562693 95.23558622]%\n",
      "\n"
     ]
    },
    {
     "name": "stderr",
     "output_type": "stream",
     "text": [
      "100%|██████████| 80/80 [00:58<00:00,  1.38it/s]\n"
     ]
    },
    {
     "name": "stdout",
     "output_type": "stream",
     "text": [
      "Epoch [58/100] Loss: 0.002254462140626856 IoU: 0.9168743759393692\n",
      "\n",
      "Training Metrics for Epoch [58]:\n",
      "Confusion Matrix:\n",
      "[[97392  1304]\n",
      " [  943 96598]]\n",
      "Precision (Live, Dead): [93.77058019 95.87224709]%\n",
      "Recall (Live, Dead): [93.27842161 96.18249164]%\n",
      "F1 Score (Live, Dead): [93.52385342 96.02711878]%\n",
      "\n"
     ]
    },
    {
     "name": "stderr",
     "output_type": "stream",
     "text": [
      "100%|██████████| 80/80 [00:58<00:00,  1.38it/s]\n"
     ]
    },
    {
     "name": "stdout",
     "output_type": "stream",
     "text": [
      "Epoch [59/100] Loss: 0.0021326046160538683 IoU: 0.9193585827946663\n",
      "\n",
      "Training Metrics for Epoch [59]:\n",
      "Confusion Matrix:\n",
      "[[98163  1401]\n",
      " [ 1125 97035]]\n",
      "Precision (Live, Dead): [93.50014764 95.55391433]%\n",
      "Recall (Live, Dead): [94.01685662 96.61761192]%\n",
      "F1 Score (Live, Dead): [93.75779023 96.08281926]%\n",
      "\n"
     ]
    },
    {
     "name": "stderr",
     "output_type": "stream",
     "text": [
      "100%|██████████| 80/80 [00:58<00:00,  1.38it/s]\n"
     ]
    },
    {
     "name": "stdout",
     "output_type": "stream",
     "text": [
      "Epoch [60/100] Loss: 0.002123048359135282 IoU: 0.9204207383096218\n",
      "\n",
      "Training Metrics for Epoch [60]:\n",
      "Confusion Matrix:\n",
      "[[97943  1439]\n",
      " [ 1254 96403]]\n",
      "Precision (Live, Dead): [93.70204542 95.85757042]%\n",
      "Recall (Live, Dead): [93.80614884 95.98833041]%\n",
      "F1 Score (Live, Dead): [93.75406823 95.92290586]%\n",
      "\n"
     ]
    },
    {
     "name": "stderr",
     "output_type": "stream",
     "text": [
      "100%|██████████| 80/80 [00:58<00:00,  1.38it/s]\n"
     ]
    },
    {
     "name": "stdout",
     "output_type": "stream",
     "text": [
      "Epoch [61/100] Loss: 0.0021603075030725448 IoU: 0.9182557217776776\n",
      "\n",
      "Training Metrics for Epoch [61]:\n",
      "Confusion Matrix:\n",
      "[[97954  1455]\n",
      " [ 1075 96438]]\n",
      "Precision (Live, Dead): [93.91382716 95.38778054]%\n",
      "Recall (Live, Dead): [93.81668423 96.02317986]%\n",
      "F1 Score (Live, Dead): [93.86523056 95.70442558]%\n",
      "\n"
     ]
    },
    {
     "name": "stderr",
     "output_type": "stream",
     "text": [
      "100%|██████████| 80/80 [00:58<00:00,  1.38it/s]\n"
     ]
    },
    {
     "name": "stdout",
     "output_type": "stream",
     "text": [
      "Epoch [62/100] Loss: 0.002604612240975257 IoU: 0.9036647185683251\n",
      "\n",
      "Training Metrics for Epoch [62]:\n",
      "Confusion Matrix:\n",
      "[[97145  1449]\n",
      " [ 1430 95418]]\n",
      "Precision (Live, Dead): [93.14801853 94.06997723]%\n",
      "Recall (Live, Dead): [93.04185423 95.00756731]%\n",
      "F1 Score (Live, Dead): [93.09490611 94.53644763]%\n",
      "\n"
     ]
    },
    {
     "name": "stderr",
     "output_type": "stream",
     "text": [
      "100%|██████████| 80/80 [00:58<00:00,  1.38it/s]\n"
     ]
    },
    {
     "name": "stdout",
     "output_type": "stream",
     "text": [
      "Epoch [63/100] Loss: 0.0023041131888021484 IoU: 0.9088659942150116\n",
      "\n",
      "Training Metrics for Epoch [63]:\n",
      "Confusion Matrix:\n",
      "[[97755  1544]\n",
      " [ 1119 95927]]\n",
      "Precision (Live, Dead): [93.6144336  95.09209144]%\n",
      "Recall (Live, Dead): [93.62608946 95.51437789]%\n",
      "F1 Score (Live, Dead): [93.62026117 95.30276688]%\n",
      "\n"
     ]
    },
    {
     "name": "stderr",
     "output_type": "stream",
     "text": [
      "100%|██████████| 80/80 [00:58<00:00,  1.38it/s]\n"
     ]
    },
    {
     "name": "stdout",
     "output_type": "stream",
     "text": [
      "Epoch [64/100] Loss: 0.002074521758913761 IoU: 0.9204230077564717\n",
      "\n",
      "Training Metrics for Epoch [64]:\n",
      "Confusion Matrix:\n",
      "[[98229  1174]\n",
      " [  953 96733]]\n",
      "Precision (Live, Dead): [94.11071511 95.7430172 ]%\n",
      "Recall (Live, Dead): [94.08006896 96.31691094]%\n",
      "F1 Score (Live, Dead): [94.09538954 96.02910665]%\n",
      "\n"
     ]
    },
    {
     "name": "stderr",
     "output_type": "stream",
     "text": [
      "100%|██████████| 80/80 [00:58<00:00,  1.38it/s]\n"
     ]
    },
    {
     "name": "stdout",
     "output_type": "stream",
     "text": [
      "Epoch [65/100] Loss: 0.0019194438395061298 IoU: 0.9266361087560654\n",
      "\n",
      "Training Metrics for Epoch [65]:\n",
      "Confusion Matrix:\n",
      "[[98542  1218]\n",
      " [  812 97351]]\n",
      "Precision (Live, Dead): [94.30939438 96.14343841]%\n",
      "Recall (Live, Dead): [94.37984867 96.93225267]%\n",
      "F1 Score (Live, Dead): [94.34460837 96.53623418]%\n",
      "\n"
     ]
    },
    {
     "name": "stderr",
     "output_type": "stream",
     "text": [
      "100%|██████████| 80/80 [00:58<00:00,  1.38it/s]\n"
     ]
    },
    {
     "name": "stdout",
     "output_type": "stream",
     "text": [
      "Epoch [66/100] Loss: 0.002023679825651925 IoU: 0.9260953582823277\n",
      "\n",
      "Training Metrics for Epoch [66]:\n",
      "Confusion Matrix:\n",
      "[[98188  1170]\n",
      " [ 1086 96871]]\n",
      "Precision (Live, Dead): [93.92745083 96.1966614 ]%\n",
      "Recall (Live, Dead): [94.04080069 96.45431735]%\n",
      "F1 Score (Live, Dead): [93.98409158 96.32531708]%\n",
      "\n"
     ]
    },
    {
     "name": "stderr",
     "output_type": "stream",
     "text": [
      "100%|██████████| 80/80 [00:58<00:00,  1.38it/s]\n"
     ]
    },
    {
     "name": "stdout",
     "output_type": "stream",
     "text": [
      "Epoch [67/100] Loss: 0.002153141649978352 IoU: 0.9208229996263981\n",
      "\n",
      "Training Metrics for Epoch [67]:\n",
      "Confusion Matrix:\n",
      "[[97932  1582]\n",
      " [ 1163 96452]]\n",
      "Precision (Live, Dead): [93.74084674 95.49892077]%\n",
      "Recall (Live, Dead): [93.79561345 96.03711964]%\n",
      "F1 Score (Live, Dead): [93.7682221  95.76726406]%\n",
      "\n"
     ]
    },
    {
     "name": "stderr",
     "output_type": "stream",
     "text": [
      "100%|██████████| 80/80 [00:58<00:00,  1.38it/s]\n"
     ]
    },
    {
     "name": "stdout",
     "output_type": "stream",
     "text": [
      "Epoch [68/100] Loss: 0.0020500901049672394 IoU: 0.9240966029465199\n",
      "\n",
      "Training Metrics for Epoch [68]:\n",
      "Confusion Matrix:\n",
      "[[98424  1327]\n",
      " [ 1066 96881]]\n",
      "Precision (Live, Dead): [93.81576941 95.76249407]%\n",
      "Recall (Live, Dead): [94.26683268 96.46427433]%\n",
      "F1 Score (Live, Dead): [94.04076017 96.11210317]%\n",
      "\n"
     ]
    },
    {
     "name": "stderr",
     "output_type": "stream",
     "text": [
      "100%|██████████| 80/80 [00:58<00:00,  1.38it/s]\n"
     ]
    },
    {
     "name": "stdout",
     "output_type": "stream",
     "text": [
      "Epoch [69/100] Loss: 0.00190475596646138 IoU: 0.9282844416797161\n",
      "\n",
      "Training Metrics for Epoch [69]:\n",
      "Confusion Matrix:\n",
      "[[98669  1184]\n",
      " [  946 97144]]\n",
      "Precision (Live, Dead): [94.55491562 96.08419137]%\n",
      "Recall (Live, Dead): [94.50148453 96.72614306]%\n",
      "F1 Score (Live, Dead): [94.52819253 96.40409854]%\n",
      "\n"
     ]
    },
    {
     "name": "stderr",
     "output_type": "stream",
     "text": [
      "100%|██████████| 80/80 [00:58<00:00,  1.38it/s]\n"
     ]
    },
    {
     "name": "stdout",
     "output_type": "stream",
     "text": [
      "Epoch [70/100] Loss: 0.0018039339698589173 IoU: 0.9317206181585789\n",
      "\n",
      "Training Metrics for Epoch [70]:\n",
      "Confusion Matrix:\n",
      "[[98845  1218]\n",
      " [  781 97482]]\n",
      "Precision (Live, Dead): [94.64648206 96.44425976]%\n",
      "Recall (Live, Dead): [94.67005076 97.06268918]%\n",
      "F1 Score (Live, Dead): [94.65826494 96.75248625]%\n",
      "\n"
     ]
    },
    {
     "name": "stderr",
     "output_type": "stream",
     "text": [
      "100%|██████████| 80/80 [00:58<00:00,  1.38it/s]\n"
     ]
    },
    {
     "name": "stdout",
     "output_type": "stream",
     "text": [
      "Epoch [71/100] Loss: 0.001994354535054299 IoU: 0.9269342593848705\n",
      "\n",
      "Training Metrics for Epoch [71]:\n",
      "Confusion Matrix:\n",
      "[[98471  1130]\n",
      " [ 1056 97059]]\n",
      "Precision (Live, Dead): [94.19096266 96.09326271]%\n",
      "Recall (Live, Dead): [94.31184752 96.64150868]%\n",
      "F1 Score (Live, Dead): [94.25136633 96.36660594]%\n",
      "\n"
     ]
    },
    {
     "name": "stderr",
     "output_type": "stream",
     "text": [
      "100%|██████████| 80/80 [00:58<00:00,  1.38it/s]\n"
     ]
    },
    {
     "name": "stdout",
     "output_type": "stream",
     "text": [
      "Epoch [72/100] Loss: 0.0018604084023536415 IoU: 0.9290428213775158\n",
      "\n",
      "Training Metrics for Epoch [72]:\n",
      "Confusion Matrix:\n",
      "[[98670  1140]\n",
      " [  882 97311]]\n",
      "Precision (Live, Dead): [94.44635883 96.42963315]%\n",
      "Recall (Live, Dead): [94.50244229 96.89242473]%\n",
      "F1 Score (Live, Dead): [94.47439224 96.660475  ]%\n",
      "\n"
     ]
    },
    {
     "name": "stderr",
     "output_type": "stream",
     "text": [
      "100%|██████████| 80/80 [00:57<00:00,  1.38it/s]\n"
     ]
    },
    {
     "name": "stdout",
     "output_type": "stream",
     "text": [
      "Epoch [73/100] Loss: 0.001933292017201893 IoU: 0.9269741326570511\n",
      "\n",
      "Training Metrics for Epoch [73]:\n",
      "Confusion Matrix:\n",
      "[[98541  1092]\n",
      " [  839 97376]]\n",
      "Precision (Live, Dead): [94.21376192 96.28889834]%\n",
      "Recall (Live, Dead): [94.37889091 96.95714513]%\n",
      "F1 Score (Live, Dead): [94.29625412 96.62186633]%\n",
      "\n"
     ]
    },
    {
     "name": "stderr",
     "output_type": "stream",
     "text": [
      "100%|██████████| 80/80 [00:58<00:00,  1.38it/s]\n"
     ]
    },
    {
     "name": "stdout",
     "output_type": "stream",
     "text": [
      "Epoch [74/100] Loss: 0.0018105399496562314 IoU: 0.9324408069252967\n",
      "\n",
      "Training Metrics for Epoch [74]:\n",
      "Confusion Matrix:\n",
      "[[98833  1112]\n",
      " [  839 97469]]\n",
      "Precision (Live, Dead): [94.4893257  96.68872201]%\n",
      "Recall (Live, Dead): [94.65855761 97.0497451 ]%\n",
      "F1 Score (Live, Dead): [94.57386595 96.86889718]%\n",
      "\n"
     ]
    },
    {
     "name": "stderr",
     "output_type": "stream",
     "text": [
      "100%|██████████| 80/80 [00:58<00:00,  1.38it/s]\n"
     ]
    },
    {
     "name": "stdout",
     "output_type": "stream",
     "text": [
      "Epoch [75/100] Loss: 0.0018511615722673013 IoU: 0.9289034567773342\n",
      "\n",
      "Training Metrics for Epoch [75]:\n",
      "Confusion Matrix:\n",
      "[[98839  1282]\n",
      " [ 1094 97044]]\n",
      "Precision (Live, Dead): [94.36064384 96.28718274]%\n",
      "Recall (Live, Dead): [94.66430419 96.6265732 ]%\n",
      "F1 Score (Live, Dead): [94.51223011 96.45657943]%\n",
      "\n"
     ]
    },
    {
     "name": "stderr",
     "output_type": "stream",
     "text": [
      "100%|██████████| 80/80 [00:58<00:00,  1.38it/s]\n"
     ]
    },
    {
     "name": "stdout",
     "output_type": "stream",
     "text": [
      "Epoch [76/100] Loss: 0.0018137964852940058 IoU: 0.9320546217262745\n",
      "\n",
      "Training Metrics for Epoch [76]:\n",
      "Confusion Matrix:\n",
      "[[98953  1145]\n",
      " [  997 97312]]\n",
      "Precision (Live, Dead): [94.61762062 96.34183769]%\n",
      "Recall (Live, Dead): [94.77348913 96.89342042]%\n",
      "F1 Score (Live, Dead): [94.69549074 96.61684182]%\n",
      "\n"
     ]
    },
    {
     "name": "stderr",
     "output_type": "stream",
     "text": [
      "100%|██████████| 80/80 [00:58<00:00,  1.38it/s]\n"
     ]
    },
    {
     "name": "stdout",
     "output_type": "stream",
     "text": [
      "Epoch [77/100] Loss: 0.0016513848848262569 IoU: 0.9382377177476883\n",
      "\n",
      "Training Metrics for Epoch [77]:\n",
      "Confusion Matrix:\n",
      "[[99421  1036]\n",
      " [  832 97660]]\n",
      "Precision (Live, Dead): [94.98428409 96.75821345]%\n",
      "Recall (Live, Dead): [95.22172206 97.23992353]%\n",
      "F1 Score (Live, Dead): [95.10285487 96.99847043]%\n",
      "\n"
     ]
    },
    {
     "name": "stderr",
     "output_type": "stream",
     "text": [
      "100%|██████████| 80/80 [00:58<00:00,  1.38it/s]\n"
     ]
    },
    {
     "name": "stdout",
     "output_type": "stream",
     "text": [
      "Epoch [78/100] Loss: 0.0017604313958145212 IoU: 0.9339539475739003\n",
      "\n",
      "Training Metrics for Epoch [78]:\n",
      "Confusion Matrix:\n",
      "[[98879  1121]\n",
      " [  956 97439]]\n",
      "Precision (Live, Dead): [94.66090986 96.66855164]%\n",
      "Recall (Live, Dead): [94.70261469 97.01987414]%\n",
      "F1 Score (Live, Dead): [94.68175768 96.84389427]%\n",
      "\n"
     ]
    },
    {
     "name": "stderr",
     "output_type": "stream",
     "text": [
      "100%|██████████| 80/80 [00:58<00:00,  1.38it/s]\n"
     ]
    },
    {
     "name": "stdout",
     "output_type": "stream",
     "text": [
      "Epoch [79/100] Loss: 0.0018275088212249102 IoU: 0.9317078866064549\n",
      "\n",
      "Training Metrics for Epoch [79]:\n",
      "Confusion Matrix:\n",
      "[[98835   942]\n",
      " [  912 97333]]\n",
      "Precision (Live, Dead): [94.38926559 96.7303698 ]%\n",
      "Recall (Live, Dead): [94.66047313 96.91433009]%\n",
      "F1 Score (Live, Dead): [94.52467483 96.82226256]%\n",
      "\n"
     ]
    },
    {
     "name": "stderr",
     "output_type": "stream",
     "text": [
      "100%|██████████| 80/80 [00:58<00:00,  1.38it/s]\n"
     ]
    },
    {
     "name": "stdout",
     "output_type": "stream",
     "text": [
      "Epoch [80/100] Loss: 0.001722384151435108 IoU: 0.9340616300702095\n",
      "\n",
      "Training Metrics for Epoch [80]:\n",
      "Confusion Matrix:\n",
      "[[99136  1107]\n",
      " [  757 97609]]\n",
      "Precision (Live, Dead): [94.9487597  96.52025156]%\n",
      "Recall (Live, Dead): [94.9487597 97.1891429]%\n",
      "F1 Score (Live, Dead): [94.9487597  96.85354237]%\n",
      "\n"
     ]
    },
    {
     "name": "stderr",
     "output_type": "stream",
     "text": [
      "100%|██████████| 80/80 [00:57<00:00,  1.38it/s]\n"
     ]
    },
    {
     "name": "stdout",
     "output_type": "stream",
     "text": [
      "Epoch [81/100] Loss: 0.0016038520912843523 IoU: 0.9381245851516724\n",
      "\n",
      "Training Metrics for Epoch [81]:\n",
      "Confusion Matrix:\n",
      "[[99691  1032]\n",
      " [  821 97538]]\n",
      "Precision (Live, Dead): [95.05425351 97.02087872]%\n",
      "Recall (Live, Dead): [95.48031798 97.1184483 ]%\n",
      "F1 Score (Live, Dead): [95.26680937 97.06963899]%\n",
      "\n"
     ]
    },
    {
     "name": "stderr",
     "output_type": "stream",
     "text": [
      "100%|██████████| 80/80 [00:58<00:00,  1.38it/s]\n"
     ]
    },
    {
     "name": "stdout",
     "output_type": "stream",
     "text": [
      "Epoch [82/100] Loss: 0.0016263766967313132 IoU: 0.9386577852070331\n",
      "\n",
      "Training Metrics for Epoch [82]:\n",
      "Confusion Matrix:\n",
      "[[99633  1035]\n",
      " [  946 97608]]\n",
      "Precision (Live, Dead): [95.05061009 96.62914674]%\n",
      "Recall (Live, Dead): [95.42476774 97.1881472 ]%\n",
      "F1 Score (Live, Dead): [95.23732143 96.90784085]%\n",
      "\n"
     ]
    },
    {
     "name": "stderr",
     "output_type": "stream",
     "text": [
      "100%|██████████| 80/80 [00:58<00:00,  1.38it/s]\n"
     ]
    },
    {
     "name": "stdout",
     "output_type": "stream",
     "text": [
      "Epoch [83/100] Loss: 0.0016340824578946922 IoU: 0.9358697421848774\n",
      "\n",
      "Training Metrics for Epoch [83]:\n",
      "Confusion Matrix:\n",
      "[[99529   946]\n",
      " [  943 97433]]\n",
      "Precision (Live, Dead): [95.12654356 96.87403681]%\n",
      "Recall (Live, Dead): [95.32516043 97.01389995]%\n",
      "F1 Score (Live, Dead): [95.22574843 96.94391793]%\n",
      "\n"
     ]
    },
    {
     "name": "stderr",
     "output_type": "stream",
     "text": [
      "100%|██████████| 80/80 [00:58<00:00,  1.38it/s]\n"
     ]
    },
    {
     "name": "stdout",
     "output_type": "stream",
     "text": [
      "Epoch [84/100] Loss: 0.0016019238293665695 IoU: 0.9361718215048314\n",
      "\n",
      "Training Metrics for Epoch [84]:\n",
      "Confusion Matrix:\n",
      "[[99587  1208]\n",
      " [  851 97527]]\n",
      "Precision (Live, Dead): [95.39898458 96.66666667]%\n",
      "Recall (Live, Dead): [95.38071066 97.10749562]%\n",
      "F1 Score (Live, Dead): [95.38984674 96.88657971]%\n",
      "\n"
     ]
    },
    {
     "name": "stderr",
     "output_type": "stream",
     "text": [
      "100%|██████████| 80/80 [00:58<00:00,  1.38it/s]\n"
     ]
    },
    {
     "name": "stdout",
     "output_type": "stream",
     "text": [
      "Epoch [85/100] Loss: 0.0017575339410541347 IoU: 0.9311904825270176\n",
      "\n",
      "Training Metrics for Epoch [85]:\n",
      "Confusion Matrix:\n",
      "[[99316  1240]\n",
      " [ 1133 97082]]\n",
      "Precision (Live, Dead): [94.64074709 96.33348879]%\n",
      "Recall (Live, Dead): [95.12115698 96.66440975]%\n",
      "F1 Score (Live, Dead): [94.88034392 96.49866557]%\n",
      "\n"
     ]
    },
    {
     "name": "stderr",
     "output_type": "stream",
     "text": [
      "100%|██████████| 80/80 [00:58<00:00,  1.38it/s]\n"
     ]
    },
    {
     "name": "stdout",
     "output_type": "stream",
     "text": [
      "Epoch [86/100] Loss: 0.0017016035031701903 IoU: 0.9354551635682583\n",
      "\n",
      "Training Metrics for Epoch [86]:\n",
      "Confusion Matrix:\n",
      "[[99091  1306]\n",
      " [ 1041 97380]]\n",
      "Precision (Live, Dead): [95.13527525 96.27952503]%\n",
      "Recall (Live, Dead): [94.90566038 96.96112793]%\n",
      "F1 Score (Live, Dead): [95.0203291 96.6191244]%\n",
      "\n"
     ]
    },
    {
     "name": "stderr",
     "output_type": "stream",
     "text": [
      "100%|██████████| 80/80 [00:58<00:00,  1.38it/s]\n"
     ]
    },
    {
     "name": "stdout",
     "output_type": "stream",
     "text": [
      "Epoch [87/100] Loss: 0.0016917021483095595 IoU: 0.9318823479115963\n",
      "\n",
      "Training Metrics for Epoch [87]:\n",
      "Confusion Matrix:\n",
      "[[99463  1237]\n",
      " [ 1145 97059]]\n",
      "Precision (Live, Dead): [95.05437795 96.57996338]%\n",
      "Recall (Live, Dead): [95.26194809 96.64150868]%\n",
      "F1 Score (Live, Dead): [95.15804983 96.61072623]%\n",
      "\n"
     ]
    },
    {
     "name": "stderr",
     "output_type": "stream",
     "text": [
      "100%|██████████| 80/80 [00:58<00:00,  1.38it/s]\n"
     ]
    },
    {
     "name": "stdout",
     "output_type": "stream",
     "text": [
      "Epoch [88/100] Loss: 0.0015896897504717345 IoU: 0.9388326458632946\n",
      "\n",
      "Training Metrics for Epoch [88]:\n",
      "Confusion Matrix:\n",
      "[[100072    996]\n",
      " [   906  97462]]\n",
      "Precision (Live, Dead): [95.55602238 96.55151917]%\n",
      "Recall (Live, Dead): [95.84522555 97.04277521]%\n",
      "F1 Score (Live, Dead): [95.70040548 96.7965239 ]%\n",
      "\n"
     ]
    },
    {
     "name": "stderr",
     "output_type": "stream",
     "text": [
      "100%|██████████| 80/80 [00:58<00:00,  1.38it/s]\n"
     ]
    },
    {
     "name": "stdout",
     "output_type": "stream",
     "text": [
      "Epoch [89/100] Loss: 0.001310145757815917 IoU: 0.9488142088055611\n",
      "\n",
      "Training Metrics for Epoch [89]:\n",
      "Confusion Matrix:\n",
      "[[100757    786]\n",
      " [   653  98069]]\n",
      "Precision (Live, Dead): [96.17062299 97.44050872]%\n",
      "Recall (Live, Dead): [96.50129298 97.64716425]%\n",
      "F1 Score (Live, Dead): [96.33567423 97.54372703]%\n",
      "\n"
     ]
    },
    {
     "name": "stderr",
     "output_type": "stream",
     "text": [
      "100%|██████████| 80/80 [00:58<00:00,  1.38it/s]\n"
     ]
    },
    {
     "name": "stdout",
     "output_type": "stream",
     "text": [
      "Epoch [90/100] Loss: 0.001448973453079816 IoU: 0.9449407048523426\n",
      "\n",
      "Training Metrics for Epoch [90]:\n",
      "Confusion Matrix:\n",
      "[[100173    955]\n",
      " [   761  97857]]\n",
      "Precision (Live, Dead): [96.02289067 96.87660872]%\n",
      "Recall (Live, Dead): [95.94195958 97.43607615]%\n",
      "F1 Score (Live, Dead): [95.98240806 97.15553702]%\n",
      "\n"
     ]
    },
    {
     "name": "stderr",
     "output_type": "stream",
     "text": [
      "100%|██████████| 80/80 [00:58<00:00,  1.38it/s]\n"
     ]
    },
    {
     "name": "stdout",
     "output_type": "stream",
     "text": [
      "Epoch [91/100] Loss: 0.0016377236304833786 IoU: 0.9368363626301288\n",
      "\n",
      "Training Metrics for Epoch [91]:\n",
      "Confusion Matrix:\n",
      "[[99635   916]\n",
      " [  989 97449]]\n",
      "Precision (Live, Dead): [94.96282882 96.94874448]%\n",
      "Recall (Live, Dead): [95.42668327 97.02983113]%\n",
      "F1 Score (Live, Dead): [95.19419099 96.98927086]%\n",
      "\n"
     ]
    },
    {
     "name": "stderr",
     "output_type": "stream",
     "text": [
      "100%|██████████| 80/80 [00:58<00:00,  1.38it/s]\n"
     ]
    },
    {
     "name": "stdout",
     "output_type": "stream",
     "text": [
      "Epoch [92/100] Loss: 0.0016458885964311775 IoU: 0.9375357277691364\n",
      "\n",
      "Training Metrics for Epoch [92]:\n",
      "Confusion Matrix:\n",
      "[[99525  1065]\n",
      " [ 1002 97650]]\n",
      "Precision (Live, Dead): [95.00649127 96.78762229]%\n",
      "Recall (Live, Dead): [95.32132937 97.22996654]%\n",
      "F1 Score (Live, Dead): [95.16364992 97.00829016]%\n",
      "\n"
     ]
    },
    {
     "name": "stderr",
     "output_type": "stream",
     "text": [
      "100%|██████████| 80/80 [00:58<00:00,  1.38it/s]\n"
     ]
    },
    {
     "name": "stdout",
     "output_type": "stream",
     "text": [
      "Epoch [93/100] Loss: 0.0015481065514904913 IoU: 0.9387531898915767\n",
      "\n",
      "Training Metrics for Epoch [93]:\n",
      "Confusion Matrix:\n",
      "[[99676  1151]\n",
      " [  840 97845]]\n",
      "Precision (Live, Dead): [95.26430981 96.91365973]%\n",
      "Recall (Live, Dead): [95.46595154 97.42412777]%\n",
      "F1 Score (Live, Dead): [95.36502409 97.16822332]%\n",
      "\n"
     ]
    },
    {
     "name": "stderr",
     "output_type": "stream",
     "text": [
      "100%|██████████| 80/80 [00:58<00:00,  1.38it/s]\n"
     ]
    },
    {
     "name": "stdout",
     "output_type": "stream",
     "text": [
      "Epoch [94/100] Loss: 0.0014594489824958146 IoU: 0.9453699499368667\n",
      "\n",
      "Training Metrics for Epoch [94]:\n",
      "Confusion Matrix:\n",
      "[[99950  1205]\n",
      " [  808 97785]]\n",
      "Precision (Live, Dead): [95.81280316 97.00123006]%\n",
      "Recall (Live, Dead): [95.72837851 97.36438585]%\n",
      "F1 Score (Live, Dead): [95.77057223 97.18246869]%\n",
      "\n"
     ]
    },
    {
     "name": "stderr",
     "output_type": "stream",
     "text": [
      "100%|██████████| 80/80 [00:57<00:00,  1.38it/s]\n"
     ]
    },
    {
     "name": "stdout",
     "output_type": "stream",
     "text": [
      "Epoch [95/100] Loss: 0.0016721704880183097 IoU: 0.9384970583021641\n",
      "\n",
      "Training Metrics for Epoch [95]:\n",
      "Confusion Matrix:\n",
      "[[99705   944]\n",
      " [ 1034 97474]]\n",
      "Precision (Live, Dead): [95.16741753 96.53949766]%\n",
      "Recall (Live, Dead): [95.49372665 97.05472359]%\n",
      "F1 Score (Live, Dead): [95.33029286 96.79642502]%\n",
      "\n"
     ]
    },
    {
     "name": "stderr",
     "output_type": "stream",
     "text": [
      "100%|██████████| 80/80 [00:58<00:00,  1.38it/s]\n"
     ]
    },
    {
     "name": "stdout",
     "output_type": "stream",
     "text": [
      "Epoch [96/100] Loss: 0.0016402673740230967 IoU: 0.938539481908083\n",
      "\n",
      "Training Metrics for Epoch [96]:\n",
      "Confusion Matrix:\n",
      "[[99620  1165]\n",
      " [  741 97664]]\n",
      "Precision (Live, Dead): [95.22626035 96.5994738 ]%\n",
      "Recall (Live, Dead): [95.41231683 97.24390632]%\n",
      "F1 Score (Live, Dead): [95.3191978  96.92061885]%\n",
      "\n"
     ]
    },
    {
     "name": "stderr",
     "output_type": "stream",
     "text": [
      "100%|██████████| 80/80 [00:58<00:00,  1.38it/s]\n"
     ]
    },
    {
     "name": "stdout",
     "output_type": "stream",
     "text": [
      "Epoch [97/100] Loss: 0.0015867724621784873 IoU: 0.9398791044950485\n",
      "\n",
      "Training Metrics for Epoch [97]:\n",
      "Confusion Matrix:\n",
      "[[99834   916]\n",
      " [  767 97546]]\n",
      "Precision (Live, Dead): [95.40072816 96.88524265]%\n",
      "Recall (Live, Dead): [95.61727804 97.12641389]%\n",
      "F1 Score (Live, Dead): [95.50888035 97.00567837]%\n",
      "\n"
     ]
    },
    {
     "name": "stderr",
     "output_type": "stream",
     "text": [
      "100%|██████████| 80/80 [00:58<00:00,  1.38it/s]\n"
     ]
    },
    {
     "name": "stdout",
     "output_type": "stream",
     "text": [
      "Epoch [98/100] Loss: 0.0014105670972639928 IoU: 0.9474041745066643\n",
      "\n",
      "Training Metrics for Epoch [98]:\n",
      "Confusion Matrix:\n",
      "[[100181    929]\n",
      " [   865  97994]]\n",
      "Precision (Live, Dead): [95.81197399 97.14495311]%\n",
      "Recall (Live, Dead): [95.94962168 97.57248686]%\n",
      "F1 Score (Live, Dead): [95.88074843 97.35825062]%\n",
      "\n"
     ]
    },
    {
     "name": "stderr",
     "output_type": "stream",
     "text": [
      "100%|██████████| 80/80 [00:58<00:00,  1.38it/s]\n"
     ]
    },
    {
     "name": "stdout",
     "output_type": "stream",
     "text": [
      "Epoch [99/100] Loss: 0.0012812068796847597 IoU: 0.9498580805957317\n",
      "\n",
      "Training Metrics for Epoch [99]:\n",
      "Confusion Matrix:\n",
      "[[100612    942]\n",
      " [   742  98040]]\n",
      "Precision (Live, Dead): [96.27574064 97.39040599]%\n",
      "Recall (Live, Dead): [96.36241739 97.61828899]%\n",
      "F1 Score (Live, Dead): [96.31905952 97.50421434]%\n",
      "\n"
     ]
    },
    {
     "name": "stderr",
     "output_type": "stream",
     "text": [
      "100%|██████████| 80/80 [00:58<00:00,  1.38it/s]\n"
     ]
    },
    {
     "name": "stdout",
     "output_type": "stream",
     "text": [
      "Epoch [100/100] Loss: 0.001223497468890855 IoU: 0.9521803170442581\n",
      "\n",
      "Training Metrics for Epoch [100]:\n",
      "Confusion Matrix:\n",
      "[[100921    797]\n",
      " [   750  98333]]\n",
      "Precision (Live, Dead): [96.3897193  97.46555655]%\n",
      "Recall (Live, Dead): [96.65836606 97.91002868]%\n",
      "F1 Score (Live, Dead): [96.52385575 97.68728703]%\n",
      "\n",
      "Best loss is 0.001223497468890855, best iou is 0.9521803170442581\n"
     ]
    }
   ],
   "source": [
    "\n",
    "# Training loop\n",
    "num_epochs = 100\n",
    "model.to(device1)\n",
    "best_loss = 1.0\n",
    "best_iou = 0.0\n",
    "train_predictions = []\n",
    "train_labels = []\n",
    "for epoch in range(0,num_epochs):\n",
    "    model.train()\n",
    "    total_loss = 0.0\n",
    "    total_iou = 0.0\n",
    "    train_predictions.clear()\n",
    "    train_labels.clear()\n",
    "    for i,(inputs, labels) in enumerate(tqdm(train_loader)):\n",
    "        gpu = torch.cuda.get_device_properties(device1)\n",
    "        #print(f'{device1}: {gpu.name}, Total Memory: {gpu.total_memory / 1024**2:.2f} MB, Free Memory: {torch.cuda.max_memory_allocated(device1) / 1024**2:.2f} MB')\n",
    "        #print(torch.cuda.memory_allocated(device1))\n",
    "        #print(torch.cuda.max_memory_allocated(device1))\n",
    "        if torch.cuda.memory_allocated(device1) > 0.9 * gpu.total_memory:\n",
    "            model = model.to(device2)\n",
    "            device1, device2 = device2, device1\n",
    "            print('changed gpu')\n",
    "            #inputs, labels = inputs.to(device1), labels.to(device1)\n",
    "            model = model.to(device1)\n",
    "            \n",
    "        inputs, labels = inputs.permute(0, 3, 1, 2).to(device1), labels.permute(0, 3, 1, 2).to(device1)\n",
    "        #print(inputs.shape)\n",
    "        #print(labels.shape)\n",
    "        optimizer.zero_grad()\n",
    "        outputs = model(inputs)\n",
    "        labels = labels.squeeze(1)\n",
    "        iou = mean_iou(outputs, labels)\n",
    "        labels = labels.long()\n",
    "        # print(f\"Min label value: {labels.min()}, Max label value: {labels.max()}\")\n",
    "\n",
    "        loss = criterion(outputs, labels)\n",
    "        loss.backward()\n",
    "        optimizer.step()\n",
    "        total_loss += loss.item()\n",
    "        total_iou += iou.item()\n",
    "        preds = torch.argmax(outputs, dim=1)\n",
    "        train_predictions.append(preds.cpu().numpy())\n",
    "        train_labels.append(labels.cpu().numpy())\n",
    "        # if i % 50 == 0 and i != 0:\n",
    "        #     print(f\"Epoch {epoch+1}: Batch[{i}/{len(train_loader)}] Loss: {total_loss / i} IoU: {total_iou / i}\")\n",
    "        #     if i % 100 == 0:\n",
    "        #         print(f'Saving model...')\n",
    "        #         torch.save(model.state_dict(), 'checkpoint_unet.pth')\n",
    "    avg_loss = total_loss / len(train_loader)\n",
    "    avg_iou = total_iou / len(train_loader)\n",
    "    print(f\"Epoch [{epoch+1}/{num_epochs}] Loss: {avg_loss} IoU: {avg_iou}\")\n",
    "\n",
    "    best_loss = min(best_loss,avg_loss)\n",
    "    best_iou = max(best_iou,avg_iou)\n",
    "\n",
    "    y_true = np.concatenate(train_labels, axis=0)\n",
    "    y_pred = np.concatenate(train_predictions, axis=0)\n",
    "    cm, precision, recall, f1 = calculate_metrics(y_true, y_pred)\n",
    "\n",
    "    # Print metrics\n",
    "    print(\"\\nTraining Metrics for Epoch [{}]:\".format(epoch + 1))\n",
    "    print(f\"Confusion Matrix:\\n{cm}\")\n",
    "    print(f\"Precision (Live, Dead): {precision * 100}%\")\n",
    "    print(f\"Recall (Live, Dead): {recall * 100}%\")\n",
    "    print(f\"F1 Score (Live, Dead): {f1 * 100}%\\n\")\n",
    "    \n",
    "    # if early_stopping(avg_loss, model):\n",
    "    #     print('Early stopping triggered')\n",
    "    # break\n",
    "    \n",
    "# torch.save(model.state_dict(), 'model.pth')\n",
    "print(f'Best loss is {best_loss}, best iou is {best_iou}')\n"
   ]
  },
  {
   "cell_type": "code",
   "execution_count": 55,
   "metadata": {},
   "outputs": [
    {
     "name": "stderr",
     "output_type": "stream",
     "text": [
      "  0%|          | 0/10 [00:00<?, ?it/s]"
     ]
    },
    {
     "name": "stderr",
     "output_type": "stream",
     "text": [
      "100%|██████████| 10/10 [00:04<00:00,  2.24it/s]"
     ]
    },
    {
     "name": "stdout",
     "output_type": "stream",
     "text": [
      "Validation Loss: 0.1093309698626399, Validation IoU: 0.5554288864135742\n"
     ]
    },
    {
     "name": "stderr",
     "output_type": "stream",
     "text": [
      "\n"
     ]
    }
   ],
   "source": [
    "model = model.to(device1)\n",
    "model.eval()\n",
    "total_val_loss = 0.0\n",
    "total_val_iou = 0.0\n",
    "num_batches = len(val_loader)\n",
    "\n",
    "with torch.no_grad():\n",
    "    for inputs, labels in tqdm(val_loader):\n",
    "        inputs, labels = inputs.permute(0, 3, 1, 2).to(device1), labels.permute(0, 3, 1, 2).to(device1)\n",
    "        outputs = model(inputs)\n",
    "        labels = labels.squeeze(1)\n",
    "        total_val_iou += mean_iou(outputs, labels).item()\n",
    "        labels = labels.long()\n",
    "        loss = criterion(outputs, labels)\n",
    "        total_val_loss += loss.item()\n",
    "        \n",
    "preds_val = outputs\n",
    "\n",
    "avg_val_loss = total_val_loss / num_batches\n",
    "avg_val_iou = total_val_iou / num_batches\n",
    "\n",
    "print(f\"Validation Loss: {avg_val_loss}, Validation IoU: {avg_val_iou}\")\n"
   ]
  },
  {
   "cell_type": "code",
   "execution_count": 56,
   "metadata": {},
   "outputs": [
    {
     "name": "stderr",
     "output_type": "stream",
     "text": [
      "  0%|          | 0/10 [00:00<?, ?it/s]"
     ]
    },
    {
     "name": "stderr",
     "output_type": "stream",
     "text": [
      "100%|██████████| 10/10 [00:03<00:00,  2.65it/s]\n",
      "100%|██████████| 10/10 [00:04<00:00,  2.44it/s]\n"
     ]
    }
   ],
   "source": [
    "\n",
    "model = model.to(device1)\n",
    "model.eval()\n",
    "# with torch.no_grad():\n",
    "#     for inputs in tqdm(val_loader):\n",
    "#         inputs = inputs[0].permute(0, 3, 1, 2).to(device2)\n",
    "#         outputs = model(inputs)\n",
    "        #print(outputs.shape)\n",
    "#torch.save(model.state_dict(),'cell_segment.pth')\n",
    "#prediction\n",
    "#X_train = torch.Tensor(X_train).permute(0, 3, 1, 2).to(device)\n",
    "#model=model.to(device1)\n",
    "preds_val=[]\n",
    "preds_test=[]\n",
    "\n",
    "# X_test = torch.Tensor(X_test).permute(0, 3, 1, 2)\n",
    "# val_X = x_val_tensor.permute(0,3,1,2)\n",
    "X_test_tensor = torch.tensor(X_test).permute(0, 3, 1, 2)\n",
    "test_dataset = TensorDataset(X_test_tensor)\n",
    "test_loader = DataLoader(test_dataset, batch_size=BATCH_SIZE, shuffle=False)\n",
    "\n",
    "with torch.no_grad():\n",
    "    #preds_train = model(X_train[:int(X_train.shape[0]*0.9)])\n",
    "    #preds_val = model(X_train[int(X_train.shape[0]*0.9):])\n",
    "    #preds_train = model(x_train_tensor.permute(0,3,1,2).to(device2))\n",
    "    # preds_val = model(val_X[:int(val_X.shape[0]*0.06)].to(device2))\n",
    "    # preds_test = model(X_test[:int(X_test.shape[0]*0.06)].to(device2))\n",
    "    # preds_val = model(val_X.to(device1))\n",
    "    # preds_test = model(X_test.to(device1))\n",
    "    for inputs, labels in tqdm(val_loader):\n",
    "        inputs, labels = inputs.permute(0, 3, 1, 2).to(device1), labels.permute(0, 3, 1, 2).to(device1)\n",
    "        outputs = model(inputs)\n",
    "        preds_val.append(outputs)\n",
    "\n",
    "    for batch in tqdm(test_loader):\n",
    "        inputs = batch[0].to(device1).float()\n",
    "        outputs = model(inputs)\n",
    "        preds_test.append(outputs)\n",
    "        \n",
    "\n",
    "#print(preds_test[0].size())\n",
    "# # Threshold predictions\n",
    "# threshold = 0.5\n",
    "# #preds_train_t = (preds_train > threshold).byte()\n",
    "# preds_val_t = (preds_val > threshold)\n",
    "# preds_test_t = (preds_test > threshold)\n",
    "\n",
    "# # Create a list of upsampled test masks\n",
    "# preds_test_upsampled = []\n",
    "# for i in range(len(preds_test)):\n",
    "#     preds_test_upsampled.append(np.squeeze(preds_test_t[i]))\n",
    "    \n"
   ]
  },
  {
   "cell_type": "code",
   "execution_count": 57,
   "metadata": {},
   "outputs": [],
   "source": [
    "\n",
    "def transform(preds):\n",
    "    \n",
    "    preds_val_transformed = []\n",
    "    \n",
    "    for pre in preds:\n",
    "        preds_argmax = torch.argmax(pre, dim=1)\n",
    "        #print(preds_argmax.shape)\n",
    "        preds_val_transformed.append(preds_argmax)\n",
    "        \n",
    "    preds = torch.cat(preds_val_transformed, dim=0)\n",
    "    \n",
    "    return preds\n"
   ]
  },
  {
   "cell_type": "code",
   "execution_count": 58,
   "metadata": {},
   "outputs": [
    {
     "name": "stdout",
     "output_type": "stream",
     "text": [
      "torch.Size([10, 512, 512])\n"
     ]
    }
   ],
   "source": [
    "\n",
    "preds_val_t = transform(preds_val)\n",
    "preds_test_t = transform(preds_test)\n",
    "print(preds_val_t.shape)\n"
   ]
  },
  {
   "cell_type": "code",
   "execution_count": 59,
   "metadata": {},
   "outputs": [
    {
     "data": {
      "image/png": "[encoded data removed]",
      "text/plain": [
       "<Figure size 1000x500 with 3 Axes>"
      ]
     },
     "metadata": {},
     "output_type": "display_data"
    },
    {
     "data": {
      "image/png": "[encoded data removed]",
      "text/plain": [
       "<Figure size 640x480 with 1 Axes>"
      ]
     },
     "metadata": {},
     "output_type": "display_data"
    }
   ],
   "source": [
    "random_index = random.randint(0, len(preds_test_t) - 1)\n",
    "test_image = X_test[random_index,:, :, 0]\n",
    "predicted_mask = preds_test_t[random_index].cpu().numpy()\n",
    "# predicted_mask_1 = preds_test_t[random_index][0].cpu().numpy()\n",
    "# predicted_mask_2 = preds_test_t[random_index][1].cpu().numpy()\n",
    "\n",
    "# predicted_mask = np.zeros_like(predicted_mask_1,dtype=np.uint8)\n",
    "# predicted_mask[predicted_mask_1>0] = [255,255,0]\n",
    "# predicted_mask[predicted_mask_2>0] = [128,0,128]\n",
    "\n",
    "#predicted_mask = np.transpose(predicted_mask, (1, 2, 0))\n",
    "\n",
    "# print(test_image.shape)\n",
    "# print(predicted_mask.shape)\n",
    "plt.figure(figsize=(10, 5))\n",
    "plt.subplot(1, 2, 1)\n",
    "#plt.imshow(test_image, cmap='gray')\n",
    "plt.imshow(test_image, cmap='gray')\n",
    "plt.title(\"Test Image\")\n",
    "plt.axis('off')\n",
    "\n",
    "plt.subplot(1, 2, 2)\n",
    "# plt.imshow(predicted_mask)\n",
    "# plt.title(\"Predicted Mask\")\n",
    "# print(preds_test_t.shape)\n",
    "\n",
    "# if predicted_mask.ndim == 1:\n",
    "#     predicted_mask = predicted_mask.reshape(128, 128)\n",
    "show_mask(predicted_mask,\"Predicted Mask\")\n",
    "plt.axis('off')\n",
    "\n",
    "plt.show()"
   ]
  },
  {
   "cell_type": "code",
   "execution_count": 60,
   "metadata": {},
   "outputs": [
    {
     "data": {
      "image/png": "[encoded data removed]",
      "text/plain": [
       "<Figure size 640x480 with 1 Axes>"
      ]
     },
     "metadata": {},
     "output_type": "display_data"
    },
    {
     "data": {
      "image/png": "[encoded data removed]",
      "text/plain": [
       "<Figure size 640x480 with 2 Axes>"
      ]
     },
     "metadata": {},
     "output_type": "display_data"
    },
    {
     "data": {
      "image/png": "[encoded data removed]",
      "text/plain": [
       "<Figure size 640x480 with 2 Axes>"
      ]
     },
     "metadata": {},
     "output_type": "display_data"
    }
   ],
   "source": [
    "\n",
    "\n",
    "import random\n",
    "import torch\n",
    "import matplotlib.pyplot as plt\n",
    "\n",
    "# Define a function to display images\n",
    "def imshow_tensor(tensor):\n",
    "    # Ensure the tensor is on the CPU and convert it to a NumPy array\n",
    "    #tensor = tensor.cpu().numpy()\n",
    "\n",
    "    # If the tensor is 3D (C, H, W) and has a single channel, squeeze it to (H, W)\n",
    "    if len(tensor.shape) == 3 and tensor.shape[0] == 1:\n",
    "        tensor = tensor.squeeze(0)\n",
    "    \n",
    "    if tensor.shape[0] == 3:\n",
    "        tensor = np.transpose(tensor, (1, 2, 0))\n",
    "\n",
    "    # Display the image\n",
    "    plt.imshow(tensor, cmap='gray')\n",
    "    plt.show()\n",
    "\n",
    "X_val_cpu = x_val\n",
    "Y_val_cpu = y_val\n",
    "\n",
    "# Perform a sanity check on some random training samples\n",
    "ix = random.randint(0, len(preds_val_t)-1)\n",
    "predicted_val_mask = preds_val_t[ix].cpu().numpy()\n",
    "#predicted_val_mask = np.transpose(predicted_val_mask,(1,2,0))\n",
    "\n",
    "imshow_tensor(X_val_cpu[ix,:,:,0])\n",
    "#imshow_tensor(Y_val_cpu[ix])\n",
    "show_mask(Y_val_cpu[ix])\n",
    "#imshow_tensor(np.squeeze(preds_val[ix]).cpu().astype(np.float32) / 255.0)\n",
    "show_mask(predicted_val_mask)"
   ]
  },
  {
   "cell_type": "code",
   "execution_count": 61,
   "metadata": {},
   "outputs": [
    {
     "data": {
      "image/png": "[encoded data removed]",
      "text/plain": [
       "<Figure size 1000x500 with 1 Axes>"
      ]
     },
     "metadata": {},
     "output_type": "display_data"
    }
   ],
   "source": [
    "import numpy as np\n",
    "import matplotlib.pyplot as plt\n",
    "from sklearn.metrics import confusion_matrix, precision_score, recall_score, f1_score\n",
    "\n",
    "# Define function to calculate pixel-wise confusion matrix metrics\n",
    "\n",
    "\n",
    "# Assuming Y_val_cpu is the ground truth and preds_val_t is the predicted output\n",
    "y_true = Y_val_cpu\n",
    "y_pred = preds_val_t.cpu().numpy()  # Convert to numpy array if necessary\n",
    "\n",
    "# Calculate metrics\n",
    "cm, precision, recall, f1 = calculate_metrics(y_true, y_pred)\n",
    "\n",
    "# Plot confusion matrix and metrics in table form\n",
    "fig, ax = plt.subplots(figsize=(10, 5))\n",
    "\n",
    "# Create table content\n",
    "column_labels = [\"Ground truth: Live (n = {})\".format(np.sum(y_true == 1)), \"Ground truth: Dead (n = {})\".format(np.sum(y_true == 2))]\n",
    "row_labels = [\"Live\", \"Dead\", \"Precision\", \"Recall\", \"F1 Score\"]\n",
    "table_data = [\n",
    "    [f\"{cm[0, 0] / np.sum(y_true == 1) * 100:.1f}%\", f\"{cm[0, 1] / np.sum(y_true == 2) * 100:.1f}%\"],\n",
    "    [f\"{cm[1, 0] / np.sum(y_true == 1) * 100:.1f}%\", f\"{cm[1, 1] / np.sum(y_true == 2) * 100:.1f}%\"],\n",
    "    [f\"{precision[0] * 100:.1f}%\", f\"{precision[1] * 100:.1f}%\"],\n",
    "    [f\"{recall[0] * 100:.1f}%\", f\"{recall[1] * 100:.1f}%\"],\n",
    "    [f\"{f1[0] * 100:.1f}%\", f\"{f1[1] * 100:.1f}%\"]\n",
    "]\n",
    "\n",
    "# Create table\n",
    "ax.axis('tight')\n",
    "ax.axis('off')\n",
    "table = ax.table(cellText=table_data, colLabels=column_labels, rowLabels=row_labels, loc='center', cellLoc='center')\n",
    "table.auto_set_font_size(False)\n",
    "table.set_fontsize(10)\n",
    "\n",
    "plt.title(\"Evaluation of the Performance on CHO\")\n",
    "plt.show()\n"
   ]
  }
 ],
 "metadata": {
  "kernelspec": {
   "display_name": "anzhe",
   "language": "python",
   "name": "python3"
  },
  "language_info": {
   "codemirror_mode": {
    "name": "ipython",
    "version": 3
   },
   "file_extension": ".py",
   "mimetype": "text/x-python",
   "name": "python",
   "nbconvert_exporter": "python",
   "pygments_lexer": "ipython3",
   "version": "3.10.13"
  }
 },
 "nbformat": 4,
 "nbformat_minor": 2
}
