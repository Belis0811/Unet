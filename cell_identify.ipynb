{
 "cells": [
  {
   "cell_type": "code",
   "execution_count": 9,
   "metadata": {},
   "outputs": [],
   "source": [
    "import os\n",
    "from PIL import Image\n",
    "import numpy as np\n",
    "from tqdm import tqdm"
   ]
  },
  {
   "cell_type": "code",
   "execution_count": 10,
   "metadata": {},
   "outputs": [
    {
     "name": "stderr",
     "output_type": "stream",
     "text": [
      "1it [02:32, 152.07s/it]\n",
      "1it [02:30, 150.20s/it]\n"
     ]
    }
   ],
   "source": [
    "\n",
    "def is_yellow(pixel):\n",
    "    return pixel[0] == 255 and pixel[1] == 255 and pixel[2] == 0\n",
    "\n",
    "def is_green(pixel):\n",
    "    return pixel[0] == 0 and pixel[1] == 255 and pixel[2] == 0\n",
    "\n",
    "def bfs(image, x, y, target_color, new_color):\n",
    "    rows, cols = image.shape[:2]\n",
    "    directions = [(-1, 0), (1, 0), (0, -1), (0, 1)]\n",
    "    queue = [(x, y)]\n",
    "    \n",
    "    while queue:\n",
    "        cx, cy = queue.pop()\n",
    "        for dx, dy in directions:\n",
    "            nx, ny = cx + dx, cy + dy\n",
    "            if 0 <= nx < rows and 0 <= ny < cols:\n",
    "                if (target_color == 'yellow' and not is_green(image[nx, ny])) or (target_color == 'green' and not is_yellow(image[nx, ny])):\n",
    "                    break\n",
    "        else:\n",
    "            image[x, y] = new_color\n",
    "            return\n",
    "\n",
    "def process_image(image_path):\n",
    "    image = Image.open(image_path)\n",
    "    image_np = np.array(image)\n",
    "    \n",
    "    rows, cols = image_np.shape[:2]\n",
    "    new_image_np = image_np.copy()\n",
    "\n",
    "    for x in range(rows):\n",
    "        for y in range(cols):\n",
    "            if is_yellow(image_np[x, y]):\n",
    "                bfs(new_image_np, x, y, 'yellow', (0, 255, 0))\n",
    "            elif is_green(image_np[x, y]):\n",
    "                bfs(new_image_np, x, y, 'green', (255, 255, 0))\n",
    "\n",
    "    new_image = Image.fromarray(new_image_np)\n",
    "    new_image.save(image_path)\n",
    "\n",
    "def process_folder(folder_path):\n",
    "    for root, _, files in tqdm(os.walk(folder_path)):\n",
    "        \n",
    "        for file in files:\n",
    "            #print(file)\n",
    "            if file.startswith('predicted_mask') and file.endswith('.jpg'):\n",
    "                process_image(os.path.join(root, file))\n",
    "\n",
    "result_folder = './result'\n",
    "test_folder = os.path.join(result_folder, 'test')\n",
    "val_folder = os.path.join(result_folder, 'val')\n",
    "\n",
    "process_folder(test_folder)\n",
    "process_folder(val_folder)\n"
   ]
  }
 ],
 "metadata": {
  "kernelspec": {
   "display_name": "anzhe",
   "language": "python",
   "name": "python3"
  },
  "language_info": {
   "codemirror_mode": {
    "name": "ipython",
    "version": 3
   },
   "file_extension": ".py",
   "mimetype": "text/x-python",
   "name": "python",
   "nbconvert_exporter": "python",
   "pygments_lexer": "ipython3",
   "version": "3.10.13"
  }
 },
 "nbformat": 4,
 "nbformat_minor": 2
}
