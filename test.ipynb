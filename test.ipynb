{
 "cells": [
  {
   "cell_type": "markdown",
   "metadata": {},
   "source": [
    "**0. Package Import**"
   ]
  },
  {
   "cell_type": "code",
   "execution_count": 23,
   "metadata": {},
   "outputs": [],
   "source": [
    "import os\n",
    "import sys\n",
    "import random\n",
    "import warnings\n",
    "\n",
    "import numpy as np\n",
    "import pandas as pd\n",
    "\n",
    "import matplotlib.pyplot as plt\n",
    "\n",
    "from tqdm import tqdm\n",
    "from itertools import chain\n",
    "from skimage.io import imread, imshow, imread_collection, concatenate_images\n",
    "from skimage.transform import resize\n",
    "from skimage.morphology import label\n",
    "\n",
    "import torch\n",
    "import torch.nn as nn\n",
    "import torch.optim as optim\n",
    "import torch.utils.data as data\n",
    "import torchvision.transforms as transforms\n",
    "import torch.nn.functional as F\n",
    "\n",
    "'''\n",
    "from google.colab import drive\n",
    "drive.mount('/content/drive')\n",
    "'''\n",
    "\n",
    "# Set some parameters\n",
    "BATCH_SIZE = 5 # the higher the better\n",
    "IMG_WIDTH = 512 # for faster computing on kaggle\n",
    "IMG_HEIGHT = 512 # for faster computing on kaggle\n",
    "IMG_CHANNELS = 3\n",
    "\n",
    "\n",
    "TEST_PATH = 'new_test/15/ch0_png'\n",
    "\n",
    "warnings.filterwarnings('ignore', category=UserWarning, module='skimage')\n",
    "seed = 42"
   ]
  },
  {
   "cell_type": "markdown",
   "metadata": {},
   "source": [
    "**1. Data Preparation**"
   ]
  },
  {
   "cell_type": "code",
   "execution_count": 24,
   "metadata": {},
   "outputs": [],
   "source": [
    "# Get test IDs\n",
    "test_ids = [f for f in os.listdir(TEST_PATH) if f.endswith('.png')]"
   ]
  },
  {
   "cell_type": "markdown",
   "metadata": {},
   "source": [
    "1.0 load image"
   ]
  },
  {
   "cell_type": "code",
   "execution_count": 25,
   "metadata": {},
   "outputs": [
    {
     "name": "stdout",
     "output_type": "stream",
     "text": [
      "Getting and resizing test images ... \n"
     ]
    },
    {
     "name": "stderr",
     "output_type": "stream",
     "text": [
      "100%|██████████| 750/750 [02:58<00:00,  4.20it/s]"
     ]
    },
    {
     "name": "stdout",
     "output_type": "stream",
     "text": [
      "Done!\n"
     ]
    },
    {
     "name": "stderr",
     "output_type": "stream",
     "text": [
      "\n"
     ]
    }
   ],
   "source": [
    "\n",
    "import re\n",
    "\n",
    "\n",
    "X = np.zeros((len(test_ids), IMG_HEIGHT, IMG_WIDTH, IMG_CHANNELS), dtype=np.float64)\n",
    "\n",
    "\n",
    "print('Getting and resizing test images ... ')\n",
    "sys.stdout.flush()\n",
    "for n, id_ in tqdm(enumerate(test_ids), total=len(test_ids)):\n",
    "    \n",
    "    img_path = os.path.join(TEST_PATH, id_)\n",
    "\n",
    "    img = imread(img_path)\n",
    "    img = resize(img, (IMG_HEIGHT, IMG_WIDTH), mode='constant', preserve_range=True)\n",
    "    img = np.expand_dims(img, axis=-1).astype(np.float64)\n",
    "    X[n] = img.astype(np.float64)\n",
    "\n",
    "print('Done!')"
   ]
  },
  {
   "cell_type": "markdown",
   "metadata": {},
   "source": [
    "1.1 Load numpy data"
   ]
  },
  {
   "cell_type": "code",
   "execution_count": 26,
   "metadata": {},
   "outputs": [],
   "source": [
    "import torchvision.transforms as transforms\n",
    "from torch.utils.data import TensorDataset, DataLoader\n",
    "from torchvision.datasets import ImageFolder\n",
    "from sklearn.model_selection import train_test_split\n",
    "import torch.distributed as dist\n",
    "from torch.nn.parallel import DistributedDataParallel\n",
    "\n",
    "X_test = X\n"
   ]
  },
  {
   "cell_type": "markdown",
   "metadata": {},
   "source": [
    "**2. Load Model**"
   ]
  },
  {
   "cell_type": "code",
   "execution_count": 27,
   "metadata": {},
   "outputs": [],
   "source": [
    "class SelfAttention(nn.Module):\n",
    "    def __init__(self, channels, size):\n",
    "        super(SelfAttention, self).__init__()\n",
    "        self.channels = channels\n",
    "        self.size = size\n",
    "        self.mha = nn.MultiheadAttention(channels, 4, batch_first=True)\n",
    "        self.ln = nn.LayerNorm([channels])\n",
    "        self.ff_self = nn.Sequential(\n",
    "            nn.LayerNorm([channels]),\n",
    "            nn.Linear(channels, channels),\n",
    "            nn.GELU(),\n",
    "            nn.Linear(channels, channels),\n",
    "        )\n",
    "\n",
    "    def forward(self, x):\n",
    "        x = x.view(-1, self.channels, self.size * self.size).swapaxes(1, 2)\n",
    "        x_ln = self.ln(x)\n",
    "        attention_value, _ = self.mha(x_ln, x_ln, x_ln)\n",
    "        attention_value = attention_value + x\n",
    "        attention_value = self.ff_self(attention_value) + attention_value\n",
    "        return attention_value.swapaxes(2, 1).view(-1, self.channels, self.size, self.size)\n",
    "\n",
    "class ConvBlock(nn.Module):\n",
    "    def __init__(self, in_channels, out_channels, mid_channels=None, residual=False):\n",
    "        super(ConvBlock, self).__init__()\n",
    "        self.residual = residual\n",
    "        if not mid_channels:\n",
    "            mid_channels = out_channels\n",
    "        self.conv_block = nn.Sequential(\n",
    "            nn.Conv2d(in_channels, mid_channels, kernel_size=3, padding=1, bias=False),\n",
    "            nn.GroupNorm(1, mid_channels),\n",
    "            nn.GELU(),\n",
    "            nn.Conv2d(mid_channels, out_channels, kernel_size=3, padding=1, bias=False),\n",
    "            nn.GroupNorm(1, out_channels),\n",
    "        )\n",
    "\n",
    "    def forward(self, x):\n",
    "        if self.residual:\n",
    "            return F.gelu(x + self.conv_block(x))\n",
    "        else:\n",
    "            return self.conv_block(x)\n",
    "\n",
    "class DownSample(nn.Module):\n",
    "    def __init__(self, in_channels, out_channels, emb_dim=256):\n",
    "        super(DownSample, self).__init__()\n",
    "        self.maxpool_conv = nn.Sequential(\n",
    "            nn.MaxPool2d(2),\n",
    "            ConvBlock(in_channels, in_channels, residual=True),\n",
    "            ConvBlock(in_channels, out_channels),\n",
    "        )\n",
    "\n",
    "        self.emb_layer = nn.Sequential(\n",
    "            nn.SiLU(),\n",
    "            nn.Linear(emb_dim, out_channels),\n",
    "        )\n",
    "\n",
    "    def forward(self, x):\n",
    "        x = self.maxpool_conv(x)\n",
    "        return x\n",
    "\n",
    "class UpSample(nn.Module):\n",
    "    def __init__(self, in_channels, out_channels, emb_dim=256):\n",
    "        super(UpSample, self).__init__()\n",
    "\n",
    "        self.upsample = nn.Upsample(scale_factor=2, mode=\"bilinear\", align_corners=True)\n",
    "        self.out_channels = out_channels\n",
    "        self.conv = nn.Sequential(\n",
    "            ConvBlock(in_channels, in_channels, residual=True),\n",
    "            ConvBlock(in_channels, out_channels, in_channels // 2),\n",
    "        )\n",
    "\n",
    "        self.emb_layer = nn.Sequential(\n",
    "            nn.SiLU(),\n",
    "            nn.Linear(emb_dim, out_channels),\n",
    "        )\n",
    "\n",
    "    def forward(self, x, skip_x):\n",
    "\n",
    "        x = self.upsample(x)\n",
    "        #print(x.shape)\n",
    "        #print(skip_x.shape)\n",
    "        x = torch.cat([skip_x, x], dim=1)\n",
    "        x = self.conv(x)\n",
    "        #emb = self.emb_layer(t)[:, :, None, None].expand(-1, -1, x.shape[-2], x.shape[-1])\n",
    "        return x\n",
    "\n",
    "class UNet(nn.Module):\n",
    "    def __init__(self, c_in=3, c_out=3):\n",
    "        super(UNet, self).__init__()\n",
    "        self.initial_conv = ConvBlock(c_in, 64)\n",
    "        self.downsample1 = DownSample(64, 128)\n",
    "        self.self_attention1 = SelfAttention(128, 128)\n",
    "        self.downsample2 = DownSample(128, 256)\n",
    "        self.self_attention2 = SelfAttention(256, 256)\n",
    "        self.downsample3 = DownSample(256, 256)\n",
    "        self.self_attention3 = SelfAttention(256, 256)\n",
    "\n",
    "        self.bottom1 = ConvBlock(256, 512)\n",
    "        self.bottom2 = ConvBlock(512, 512)\n",
    "        self.bottom3 = ConvBlock(512, 256)\n",
    "\n",
    "        self.upsample1 = UpSample(512, 128)\n",
    "        self.self_attention4 = SelfAttention(128, 128)\n",
    "        self.upsample2 = UpSample(256, 64)\n",
    "        self.self_attention5 = SelfAttention(64, 64)\n",
    "        self.upsample3 = UpSample(128, 64)\n",
    "        self.self_attention6 = SelfAttention(64, 64)\n",
    "        self.output_conv = nn.Conv2d(64, c_out, kernel_size=1)\n",
    "\n",
    "    def forward(self, x):\n",
    "\n",
    "        x1 = self.initial_conv(x)\n",
    "        x2 = self.downsample1(x1)\n",
    "        #x2 = self.self_attention1(x2)\n",
    "        x3 = self.downsample2(x2)\n",
    "        #x3 = self.self_attention2(x3)\n",
    "        x4 = self.downsample3(x3)\n",
    "        #x4 = self.self_attention3(x4)\n",
    "\n",
    "        x4 = self.bottom1(x4)\n",
    "        x4 = self.bottom2(x4)\n",
    "        x4 = self.bottom3(x4)\n",
    "\n",
    "        x = self.upsample1(x4, x3)\n",
    "        #x = self.self_attention4(x)\n",
    "        x = self.upsample2(x, x2)\n",
    "        #x = self.self_attention5(x)\n",
    "        x = self.upsample3(x, x1)\n",
    "        #x = self.self_attention6(x)\n",
    "        output = self.output_conv(x)\n",
    "        return output"
   ]
  },
  {
   "cell_type": "markdown",
   "metadata": {},
   "source": [
    "Load pretrained weight"
   ]
  },
  {
   "cell_type": "code",
   "execution_count": 28,
   "metadata": {},
   "outputs": [
    {
     "name": "stderr",
     "output_type": "stream",
     "text": [
      "/home/chenzhong/miniconda3/envs/anzhe/lib/python3.10/site-packages/torch/nn/parallel/data_parallel.py:32: UserWarning: \n",
      "    There is an imbalance between your GPUs. You may want to exclude GPU 1 which\n",
      "    has less than 75% of the memory or cores of GPU 0. You can do so by setting\n",
      "    the device_ids argument to DataParallel, or by setting the CUDA_VISIBLE_DEVICES\n",
      "    environment variable.\n",
      "  warnings.warn(imbalance_warn.format(device_ids[min_pos], device_ids[max_pos]))\n"
     ]
    }
   ],
   "source": [
    "import torch.backends.cudnn as cudnn\n",
    "\n",
    "c_in = 3  # input channel 3 for RGB\n",
    "c_out = 3  # output channel\n",
    "if torch.cuda.device_count() > 1:\n",
    "    device1 = torch.device(\"cuda:0\")\n",
    "    device2 = torch.device(\"cuda:1\")\n",
    "else:\n",
    "    raise RuntimeError(\"Multiple GPUs are required.\")\n",
    "\n",
    "model = UNet(c_in, c_out)\n",
    "checkpoint = torch.load('checkpoint.pth')\n",
    "modified_state_dict = {key.replace('module.', ''): value for key, value in checkpoint.items()}\n",
    "model.load_state_dict(modified_state_dict)\n",
    "#cudnn.benchmark = True\n",
    "model = torch.nn.DataParallel(model)"
   ]
  },
  {
   "cell_type": "markdown",
   "metadata": {},
   "source": [
    "**3. Test**"
   ]
  },
  {
   "cell_type": "code",
   "execution_count": 29,
   "metadata": {},
   "outputs": [
    {
     "name": "stderr",
     "output_type": "stream",
     "text": [
      "100%|██████████| 150/150 [00:55<00:00,  2.69it/s]\n"
     ]
    }
   ],
   "source": [
    "model = model.to(device1)\n",
    "model.eval()\n",
    "\n",
    "preds_test=[]\n",
    "\n",
    "\n",
    "X_test_tensor = torch.tensor(X_test).permute(0, 3, 1, 2)\n",
    "test_dataset = TensorDataset(X_test_tensor)\n",
    "test_loader = DataLoader(test_dataset, batch_size=BATCH_SIZE, shuffle=False)\n",
    "\n",
    "with torch.no_grad():\n",
    "    for batch in tqdm(test_loader):\n",
    "        inputs = batch[0].to(device1).float()\n",
    "        outputs = model(inputs)\n",
    "        preds_test.append(outputs)\n",
    "    "
   ]
  },
  {
   "cell_type": "code",
   "execution_count": 30,
   "metadata": {},
   "outputs": [],
   "source": [
    "def transform(preds):\n",
    "    \n",
    "    preds_val_transformed = []\n",
    "    \n",
    "    for pre in preds:\n",
    "        preds_argmax = torch.argmax(pre, dim=1)\n",
    "        preds_val_transformed.append(preds_argmax)\n",
    "        \n",
    "    preds = torch.cat(preds_val_transformed, dim=0)\n",
    "    \n",
    "    return preds\n",
    "\n",
    "preds_test_t = transform(preds_test)"
   ]
  },
  {
   "cell_type": "code",
   "execution_count": 31,
   "metadata": {},
   "outputs": [],
   "source": [
    "def show_mask(mask, title=None):\n",
    "    cmap = plt.cm.colors.ListedColormap(['black', 'green', 'yellow'])  \n",
    "    bounds = [-0.5, 0.5, 1.5, 2.5]  \n",
    "    norm = plt.cm.colors.BoundaryNorm(bounds, cmap.N)\n",
    "    \n",
    "    plt.imshow(mask, cmap=cmap, norm=norm)\n",
    "    cbar = plt.colorbar(ticks=[0, 1, 2])\n",
    "    cbar.ax.set_yticklabels(['Background', 'Live', 'Dead'])\n",
    "    plt.axis('off')\n",
    "    if title:\n",
    "        plt.title(title)\n",
    "    plt.show()"
   ]
  },
  {
   "cell_type": "code",
   "execution_count": 32,
   "metadata": {},
   "outputs": [
    {
     "data": {
      "image/png": "[encoded data removed]",
      "text/plain": [
       "<Figure size 640x480 with 3 Axes>"
      ]
     },
     "metadata": {},
     "output_type": "display_data"
    },
    {
     "data": {
      "image/png": "[encoded data removed]",
      "text/plain": [
       "<Figure size 640x480 with 1 Axes>"
      ]
     },
     "metadata": {},
     "output_type": "display_data"
    }
   ],
   "source": [
    "random_index = random.randint(0, len(preds_test_t) - 1)\n",
    "test_image = X_test[random_index,:, :, 0]\n",
    "predicted_mask = preds_test_t[random_index].cpu().numpy()\n",
    "\n",
    "plt.subplot(1, 2, 1)\n",
    "\n",
    "plt.imshow(test_image, cmap='gray')\n",
    "plt.title(\"Test Image\")\n",
    "plt.axis('off')\n",
    "\n",
    "plt.subplot(1, 2, 2)\n",
    "# plt.imshow(predicted_mask)\n",
    "# plt.title(\"Predicted Mask\")\n",
    "show_mask(predicted_mask,\"Predicted Mask\")\n",
    "plt.axis('off')\n",
    "\n",
    "plt.show()\n"
   ]
  },
  {
   "cell_type": "markdown",
   "metadata": {},
   "source": [
    "Save result"
   ]
  },
  {
   "cell_type": "code",
   "execution_count": 33,
   "metadata": {},
   "outputs": [],
   "source": [
    "for i in range (len(preds_test_t)):\n",
    "    predicted_mask = preds_test_t[i].cpu().numpy()\n",
    "\n",
    "    cmap = plt.cm.colors.ListedColormap(['black', 'green', 'yellow'])  \n",
    "    bounds = [-0.5, 0.5, 1.5, 2.5]  \n",
    "    norm = plt.cm.colors.BoundaryNorm(bounds, cmap.N)\n",
    "    \n",
    "    plt.imshow(predicted_mask, cmap=cmap, norm=norm)\n",
    "    cbar = plt.colorbar(ticks=[0, 1, 2]) \n",
    "    cbar.ax.set_yticklabels(['Background', 'Live', 'Dead'])\n",
    "    plt.axis('off')\n",
    "    \n",
    "    mask_name = os.path.join('./new_result/15', f'predicted_mask_{i}.jpg')\n",
    "    image_name = os.path.join('./new_result/15', f'image_{i}.jpg')\n",
    "\n",
    "    plt.savefig(mask_name) \n",
    "    plt.close()  \n",
    "\n",
    "    plt.imshow(X_test[i,:, :, 0], cmap='gray')\n",
    "    plt.axis('off')\n",
    "    plt.savefig(image_name)  \n",
    "    plt.close() "
   ]
  }
 ],
 "metadata": {
  "kernelspec": {
   "display_name": "anzhe",
   "language": "python",
   "name": "python3"
  },
  "language_info": {
   "codemirror_mode": {
    "name": "ipython",
    "version": 3
   },
   "file_extension": ".py",
   "mimetype": "text/x-python",
   "name": "python",
   "nbconvert_exporter": "python",
   "pygments_lexer": "ipython3",
   "version": "3.10.13"
  }
 },
 "nbformat": 4,
 "nbformat_minor": 2
}
